{
 "cells": [
  {
   "cell_type": "markdown",
   "metadata": {},
   "source": [
    "# Imports"
   ]
  },
  {
   "cell_type": "code",
   "execution_count": 1,
   "metadata": {},
   "outputs": [],
   "source": [
    "import pandas as pd\n",
    "import numpy as np\n",
    "import matplotlib as mpl\n",
    "import matplotlib.pyplot as plt\n",
    "import seaborn as sns\n",
    "import re\n",
    "from functools import reduce\n",
    "import requests\n",
    "from bs4 import BeautifulSoup\n",
    "from sklearn.preprocessing import MinMaxScaler\n",
    "from sklearn import preprocessing\n",
    "from scipy import stats\n",
    "import warnings\n",
    "import matplotlib.ticker as ticker\n",
    "warnings.simplefilter('ignore')"
   ]
  },
  {
   "cell_type": "markdown",
   "metadata": {},
   "source": [
    "# Functions"
   ]
  },
  {
   "cell_type": "code",
   "execution_count": 2,
   "metadata": {},
   "outputs": [],
   "source": [
    "def unique(list1):\n",
    "    x = np.array(list1)\n",
    "    x = np.unique(x)\n",
    "    return x\n",
    "\n",
    "\n",
    "def isNan(string):\n",
    "    return string != string\n",
    "\n",
    "\n",
    "def Replace_NAN_With_Group_Mean(df, column_names, groupby_name):\n",
    "    for column_name in column_names:\n",
    "        df[column_name] = df.groupby(groupby_name)[column_name].transform(\n",
    "            lambda x: x.fillna(x.mean()))\n",
    "\n",
    "\n",
    "def Replace_NAN_With_Mean(df, column_name):\n",
    "    df[column_name].fillna(df[column_name].mean(), inplace=True)\n",
    "\n",
    "\n",
    "def Remove_Percentage_Year(df):\n",
    "    extract_string_before_percentage = re.compile(\"(.*?)\\s*\\%\")\n",
    "    for x in df.index:\n",
    "        growth = df[\"Real_Growth_Rating_Percentage\"][x]\n",
    "        litercy = df[\"Literacy_Rate_Percentage\"][x]\n",
    "        infiliation = df[\"Inflation_Percentage\"][x]\n",
    "        unemployment = df[\"Unemployment_Percentage\"][x]\n",
    "        if((not isNan(growth))):\n",
    "            growth = re.findall('\\d*\\.\\d+|\\d+', growth)\n",
    "            if growth:\n",
    "                df[\"Real_Growth_Rating_Percentage\"][x] = growth[0]\n",
    "            else:\n",
    "                df[\"Real_Growth_Rating_Percentage\"][x] = np.nan\n",
    "\n",
    "        if((not isNan(litercy))):\n",
    "            litercy = re.findall('\\d*\\.\\d+|\\d+', litercy)\n",
    "            if litercy:\n",
    "                df[\"Literacy_Rate_Percentage\"][x] = litercy[0]\n",
    "            else:\n",
    "                df[\"Literacy_Rate_Percentage\"][x] = np.nan\n",
    "\n",
    "        if((not isNan(infiliation))):\n",
    "            infiliation = re.findall('\\d*\\.\\d+|\\d+', infiliation)\n",
    "            if infiliation:\n",
    "                df[\"Inflation_Percentage\"][x] = infiliation[0]\n",
    "            else:\n",
    "                df[\"Inflation_Percentage\"][x] = np.nan\n",
    "        if((not isNan(unemployment))):\n",
    "            unemployment = re.findall('\\d*\\.\\d+|\\d+', unemployment)\n",
    "            if unemployment:\n",
    "                df[\"Unemployment_Percentage\"][x] = unemployment[0]\n",
    "            else:\n",
    "                df[\"Unemployment_Percentage\"][x] = np.nan\n",
    "    df[\"Real_Growth_Rating_Percentage\"] = df.Real_Growth_Rating_Percentage.astype(\n",
    "        float)\n",
    "    df[\"Literacy_Rate_Percentage\"] = df.Literacy_Rate_Percentage.astype(float)\n",
    "    df[\"Inflation_Percentage\"] = df.Inflation_Percentage.astype(float)\n",
    "    df[\"Unemployment_Percentage\"] = df.Unemployment_Percentage.astype(float)\n",
    "\n",
    "\n",
    "def load_data(path):\n",
    "    return pd.read_csv(path, index_col=0)\n",
    "\n",
    "\n",
    "def Clean_Country_Names(df):\n",
    "    extract_string_before_brackets = re.compile(\"(.*?)\\s*\\((.*?)\\)\")\n",
    "    extract_string_before_comma = re.compile(\"(.*?)\\s*\\,\")\n",
    "    for x in df.index:\n",
    "        country = df['Country/Region'][x]\n",
    "        if '&' in country:\n",
    "            df['Country/Region'][x] = country.replace('&', 'and')\n",
    "        if(country == \"Viet Nam\"):\n",
    "            country = \"Vietnam\"\n",
    "            df['Country/Region'][x] = country\n",
    "            continue\n",
    "        if(country == \"Hong Kong S.A.R., China\"):\n",
    "            country = \"Hong Kong\"\n",
    "            df['Country/Region'][x] = country\n",
    "            continue\n",
    "        if(country == \"United States of America\" or country == \"America\" or country == \"United-states\"):\n",
    "            country = \"United States\"\n",
    "            df['Country/Region'][x] = country\n",
    "            continue\n",
    "        if(country == \"The former Yugoslav republic of Macedonia\" or country == \"North Macedonia\"):\n",
    "            country = \"Macedonia\"\n",
    "            df['Country/Region'][x] = country\n",
    "            continue\n",
    "        if(country == \"Taiwan Province of China\"):\n",
    "            country = \"Taiwan\"\n",
    "            df['Country/Region'][x] = country\n",
    "            continue\n",
    "        if(country == \"Syrian Arab Republic\"):\n",
    "            country = \"Syria\"\n",
    "            df['Country/Region'][x] = country\n",
    "            continue\n",
    "\n",
    "        if(country == \"Democratic People's Republic of Korea\" or country == \"North-korea\"):\n",
    "            country = \"North Korea\"\n",
    "            df['Country/Region'][x] = country\n",
    "            continue\n",
    "\n",
    "        if(country == \"San-marino\"):\n",
    "            country = \"San Marino\"\n",
    "            df['Country/Region'][x] = country\n",
    "            continue\n",
    "\n",
    "        if(country == \"Congo\" or country == \"Congo-rep\"):\n",
    "            country = 'Rep. Congo'\n",
    "            df['Country/Region'][x] = country\n",
    "\n",
    "        if(country == \"Republic of Korea\" or country == \"Korea\" or country == \"Republic of Korea \" or country == \"South-korea\"):\n",
    "            country = \"South Korea\"\n",
    "            df['Country/Region'][x] = country\n",
    "            continue\n",
    "        if(country == \"Democratic Republic of the Congo\" or country == \"Congo-dem-rep\"):\n",
    "            country = \"Dem. Congo\"\n",
    "            df['Country/Region'][x] = country\n",
    "            continue\n",
    "        if(country == \"Russian Federation\"):\n",
    "            country = \"Russia\"\n",
    "            df['Country/Region'][x] = country\n",
    "            continue\n",
    "        if(country == \"North-macedonia\"):\n",
    "            country = 'Macedonia'\n",
    "            df['Country/Region'][x] = country\n",
    "            continue\n",
    "        if(country == \"South-sudan\"):\n",
    "            country = \"South Sudan\"\n",
    "            df['Country/Region'][x] = country\n",
    "            continue\n",
    "        if(country == \"Somaliland region\"):\n",
    "            country = \"Somaliland Region\"\n",
    "            df['Country/Region'][x] = country\n",
    "            continue\n",
    "        if(country == \"United Kingdom of Great Britain and Northern Ireland\" or country == \"United-kingdom\"):\n",
    "            country = \"United Kingdom\"\n",
    "            df['Country/Region'][x] = country\n",
    "            continue\n",
    "        if(country == \"United Republic of Tanzania\"):\n",
    "            country = \"Tanzania\"\n",
    "            df['Country/Region'][x] = country\n",
    "            continue\n",
    "        if(country == \"Czech Republic\" or country == \"Czech-republic\"):\n",
    "            country = \"Czechia\"\n",
    "            df['Country/Region'][x] = country\n",
    "            continue\n",
    "        if(country == \"Palestinian Territories\"):\n",
    "            country = \"Palestine\"\n",
    "            df['Country/Region'][x] = country\n",
    "            continue\n",
    "        if(country == \"Northern Cyprus\"):\n",
    "            df['Country/Region'][x] = \"North Cyprus\"\n",
    "            continue\n",
    "        if(country == \"Syrian-arab-republic\"):\n",
    "            country = \"Syria\"\n",
    "            df['Country/Region'][x] = country\n",
    "            continue\n",
    "\n",
    "        if(country == \"lao people's democratic republic\" or\n",
    "           country == \"Lao People's Democratic Republic\" or\n",
    "           country == \"Lao-pdr\"):\n",
    "            df['Country/Region'][x] = \"Laos\"\n",
    "            continue\n",
    "        if(country == \"Kyrgyz-republic\"):\n",
    "            country = \"Kyrgyzstan\"\n",
    "            df['Country/Region'][x] = country\n",
    "            continue\n",
    "        if(country == \"Slovak-republic\"):\n",
    "            country = \"Slovakia\"\n",
    "            df['Country/Region'][x] = country\n",
    "            continue\n",
    "        if(country == \"St-vincent-and-the-grenadines\"):\n",
    "            country = \"Saint Vincent and the Grenadines\"\n",
    "            df['Country/Region'][x] = country\n",
    "            continue\n",
    "        if(country == \"St-lucia\"):\n",
    "            country = \"Saint Lucia\"\n",
    "            df['Country/Region'][x] = country\n",
    "            continue\n",
    "        if(country == \"St-kitts-and-nevis\"):\n",
    "            country = \"Saint Kitts and Nevis\"\n",
    "            df['Country/Region'][x] = country\n",
    "            continue\n",
    "        if(country == \"Sao-tome-and-principe\"):\n",
    "            country = \"Sao Tome and Principe\"\n",
    "            df['Country/Region'][x] = country\n",
    "            continue\n",
    "        if(country == \"Papua-new-guinea\"):\n",
    "            country = \"Papua New Guinea\"\n",
    "            df['Country/Region'][x] = country\n",
    "            continue\n",
    "\n",
    "        if '(' in country:\n",
    "            extract = extract_string_before_brackets.match(country)\n",
    "            if extract.group(2) == \"U.S.\":\n",
    "                df['Country/Region'][x] = \"United States\"\n",
    "            elif extract.group(2) == \"British\":\n",
    "                df['Country/Region'][x] = \"United Kingdom\"\n",
    "            else:\n",
    "                df['Country/Region'][x] = extract.group(1)\n",
    "            continue\n",
    "        if ',' in country:\n",
    "            df['Country/Region'][x] = extract_string_before_comma.match(\n",
    "                country).group(1)\n",
    "            continue\n",
    "        if 'Republic of 'in country:\n",
    "            df['Country/Region'][x] = country.replace('Republic of ', '')\n",
    "\n",
    "\n",
    "def normalise_and_scale(df, columns):\n",
    "    df_def = df.copy()\n",
    "    for i in columns:\n",
    "        if(df_def[i].min() < 1):\n",
    "            df_def[i] = df_def[i]+0.1\n",
    "        df_def[i] = stats.boxcox(df_def[i])[0]\n",
    "    mms = MinMaxScaler(feature_range=(0, 1))\n",
    "    df_def[columns] = mms.fit_transform(df_def[columns])\n",
    "    return df_def\n",
    "\n",
    "\n",
    "def normalise(df, columns):\n",
    "    df_def = df.copy()\n",
    "    mms = MinMaxScaler(feature_range=(0, 1))\n",
    "    df_def[columns] = mms.fit_transform(df_def[columns])\n",
    "    return df_def\n",
    "\n",
    "\n",
    "def get_urls(x):\n",
    "    countries = pd.read_json(\n",
    "        \"https://www.macrotrends.net/assets/php/global_metrics/country_search_list.php\")\n",
    "    urls = []\n",
    "    for country in countries['s']:\n",
    "        prms = country.split('/')\n",
    "        url = \"https://www.macrotrends.net/countries/\" + \\\n",
    "            prms[1] + \"/\" + prms[0] + \"/\" + x\n",
    "        urls.append(url)\n",
    "    return urls\n",
    "\n",
    "\n",
    "def scrape_macrotrends(urls):\n",
    "    per_capita = []\n",
    "    for url in urls:\n",
    "        data = []\n",
    "        country_name = url.split('/')[5].capitalize()\n",
    "        for year in range(2000, 2016):\n",
    "            data.append((country_name, year, np.nan))\n",
    "\n",
    "        result = requests.get(url)\n",
    "        src = result.content\n",
    "        soup = BeautifulSoup(src, 'html.parser')\n",
    "        script = soup.find(\n",
    "            'script', text=lambda text: text and \"var chartData\" in text)\n",
    "        s = str(script).split(']')[0]\n",
    "\n",
    "        if(s[29:][0:3] != 'ull'):\n",
    "            country_per_capita_history = pd.read_json(s[29:],  lines=True)\n",
    "            for year in range(len(country_per_capita_history['date'])):\n",
    "                date_year = int(\n",
    "                    str(country_per_capita_history['date'][year]).split('-')[0])\n",
    "                if(2000 <= date_year <= 2015):\n",
    "                    data[date_year % 2000] = (\n",
    "                        country_name, date_year, country_per_capita_history['v1'][year])\n",
    "\n",
    "        per_capita.append(data)\n",
    "\n",
    "    return per_capita\n",
    "\n",
    "# returns a 2D array, array[0] = name, array[1:15] inflation rate from 2000 to 2015\n",
    "\n",
    "\n",
    "def get_inflation():\n",
    "    res = []\n",
    "    rows = soup.find_all('tr')\n",
    "    for row in rows[82:82+217]:\n",
    "        columns = row.find_all('td')\n",
    "        row_to_append = []\n",
    "        for column in columns:\n",
    "            x = column.text\n",
    "            if(x == '..'):\n",
    "                x = \"null\"\n",
    "            if(x != \"\"):\n",
    "                row_to_append.append(x)\n",
    "        res.append(row_to_append)\n",
    "    res.sort()\n",
    "    return res\n",
    "\n",
    "\n",
    "def get_landlocked_countries():\n",
    "    res = []\n",
    "    result = requests.get(\"https://en.wikipedia.org/wiki/Landlocked_country\")\n",
    "    src = result.content\n",
    "    soup = BeautifulSoup(src, 'lxml')\n",
    "    table = soup.find('table', class_=\"sortable wikitable\")\n",
    "    rows = table.find_all('td')\n",
    "\n",
    "    for i in range(len(rows)):\n",
    "        current_data = rows[i].find('span', class_=\"flagicon\")\n",
    "        if(current_data is not None):\n",
    "            name = current_data.findNext('a').text\n",
    "            res.append(name)\n",
    "\n",
    "    return res"
   ]
  },
  {
   "cell_type": "markdown",
   "metadata": {},
   "source": [
    "# Webscraping"
   ]
  },
  {
   "cell_type": "markdown",
   "metadata": {},
   "source": [
    "## Inflation"
   ]
  },
  {
   "cell_type": "code",
   "execution_count": 3,
   "metadata": {},
   "outputs": [],
   "source": [
    "html_file = open(\"data/read.txt\", \"r\", encoding=\"utf8\")\n",
    "src = html_file.read()\n",
    "soup = BeautifulSoup(src, 'lxml')"
   ]
  },
  {
   "cell_type": "markdown",
   "metadata": {},
   "source": [
    "## Landlocked Countries"
   ]
  },
  {
   "cell_type": "markdown",
   "metadata": {},
   "source": [
    "Landlocked countries are the countries that do not have access to oceans or seas. While, not landlocked countries have at least one access to an ocean or a sea."
   ]
  },
  {
   "cell_type": "code",
   "execution_count": 4,
   "metadata": {},
   "outputs": [],
   "source": [
    "landlocked_countries = get_landlocked_countries()\n",
    "landlocked_countries_cleaned = pd.DataFrame(\n",
    "    landlocked_countries, columns=['Country/Region'])\n",
    "Clean_Country_Names(landlocked_countries_cleaned)"
   ]
  },
  {
   "cell_type": "code",
   "execution_count": 5,
   "metadata": {},
   "outputs": [],
   "source": [
    "inflation = get_inflation()"
   ]
  },
  {
   "cell_type": "markdown",
   "metadata": {},
   "source": [
    "## GDP Per Capita"
   ]
  },
  {
   "cell_type": "markdown",
   "metadata": {},
   "source": [
    "We web scrapped the GDP per capita to fill the null values in the datasets given."
   ]
  },
  {
   "cell_type": "code",
   "execution_count": 6,
   "metadata": {},
   "outputs": [],
   "source": [
    "gdp_urls = get_urls('gdp-per-capita')\n",
    "gdp_per_capita = scrape_macrotrends(gdp_urls)"
   ]
  },
  {
   "cell_type": "markdown",
   "metadata": {},
   "source": [
    "## Unemployment Rate"
   ]
  },
  {
   "cell_type": "code",
   "execution_count": 7,
   "metadata": {},
   "outputs": [],
   "source": [
    "# unemployment_urls = get_urls('unemployment-rate')\n",
    "# unemployment = scrape_macrotrends(unemployment_urls)"
   ]
  },
  {
   "cell_type": "markdown",
   "metadata": {},
   "source": [
    "# Loading data"
   ]
  },
  {
   "cell_type": "code",
   "execution_count": 8,
   "metadata": {},
   "outputs": [],
   "source": [
    "waly_path = ''\n",
    "world_happiness_report_2015_df = load_data(\n",
    "    waly_path+'data/Happiness_Dataset/2015.csv')\n",
    "world_happiness_report_2016_df = load_data(\n",
    "    waly_path+'data/Happiness_Dataset/2016.csv')\n",
    "world_happiness_report_2017_df = load_data(\n",
    "    waly_path+'data/Happiness_Dataset/2017.csv')\n",
    "world_happiness_report_2018_df = load_data(\n",
    "    waly_path+'data/Happiness_Dataset/2018.csv')\n",
    "world_happiness_report_2019_df = load_data(\n",
    "    waly_path+'data/Happiness_Dataset/2019.csv')\n",
    "\n",
    "world_happiness_report_2015_df['Year'] = 2015\n",
    "world_happiness_report_2016_df['Year'] = 2016\n",
    "world_happiness_report_2017_df['Year'] = 2017\n",
    "world_happiness_report_2018_df['Year'] = 2018\n",
    "world_happiness_report_2019_df['Year'] = 2019\n",
    "\n",
    "Country_Data_250_df = load_data(waly_path+'data/250 Country Data.csv')\n",
    "Life_Expectancy_Data_df = load_data(waly_path+'data/Life Expectancy Data.csv')"
   ]
  },
  {
   "cell_type": "markdown",
   "metadata": {},
   "source": [
    "# Data cleaning and tidying "
   ]
  },
  {
   "cell_type": "markdown",
   "metadata": {},
   "source": [
    "The difference between the world happiness report data from year to year is not always consistant. The differences are as follows (not mentioned features are present in all years):\n",
    "1. year 2015 has standard error rather than lower and upper confidence level, region and dystopia residual\n",
    "2. year 2016 has lower and upper confidence level, region and dystopia residual\n",
    "3. year 2017 has lower and upper confidence level (refered to as Whisker.high and Whisker.low) and dystopia residual but no region\n",
    "4. year 2018 and year 2019 has no lower and upper confidence level, region and dystopia residual\n",
    "\n",
    "hence the absence of the standard error or lower and upper confidence level in year 2018 and 2019 we will not be able to compute any of them therefore it was decided that they should be dropped from the other years. However, the dystopia residual can be calculated in the year 2018 and 2019 from the following equation: (happiness score - total score of remaining features). Therefore dystopia residual will not be dropped. In addition, the region feature was dropped from years 2015 and 2016 as other sets have country feature and some have country or region feature so region can be dropped as country by its own is suffiecient.\n",
    "\n",
    "In addition Happiness Rank will be the index to all the years as it is more describtive compared to country. Lastly the order and names will all be set to the following:\n",
    "\n",
    "Happiness Rank, Country/Region, Happiness Score, GDP per Capita, Social Support, Health, Freedom, Generosity, Corruption, Dystopia Residual, Year."
   ]
  },
  {
   "cell_type": "markdown",
   "metadata": {},
   "source": [
    "## World Happiness Report Data"
   ]
  },
  {
   "cell_type": "code",
   "execution_count": 9,
   "metadata": {},
   "outputs": [
    {
     "data": {
      "text/html": [
       "<div>\n",
       "<style scoped>\n",
       "    .dataframe tbody tr th:only-of-type {\n",
       "        vertical-align: middle;\n",
       "    }\n",
       "\n",
       "    .dataframe tbody tr th {\n",
       "        vertical-align: top;\n",
       "    }\n",
       "\n",
       "    .dataframe thead th {\n",
       "        text-align: right;\n",
       "    }\n",
       "</style>\n",
       "<table border=\"1\" class=\"dataframe\">\n",
       "  <thead>\n",
       "    <tr style=\"text-align: right;\">\n",
       "      <th></th>\n",
       "      <th>Happiness_Rank</th>\n",
       "      <th>Country/Region</th>\n",
       "      <th>Happiness_Score</th>\n",
       "      <th>GDP_Rating</th>\n",
       "      <th>Social_Support</th>\n",
       "      <th>Health</th>\n",
       "      <th>Freedom</th>\n",
       "      <th>Generosity</th>\n",
       "      <th>Corruption</th>\n",
       "      <th>Dystopia_Residual</th>\n",
       "      <th>Year</th>\n",
       "    </tr>\n",
       "  </thead>\n",
       "  <tbody>\n",
       "    <tr>\n",
       "      <th>0</th>\n",
       "      <td>1</td>\n",
       "      <td>Switzerland</td>\n",
       "      <td>7.587</td>\n",
       "      <td>1.39651</td>\n",
       "      <td>1.34951</td>\n",
       "      <td>0.94143</td>\n",
       "      <td>0.66557</td>\n",
       "      <td>0.29678</td>\n",
       "      <td>0.41978</td>\n",
       "      <td>2.51738</td>\n",
       "      <td>2015</td>\n",
       "    </tr>\n",
       "    <tr>\n",
       "      <th>1</th>\n",
       "      <td>2</td>\n",
       "      <td>Iceland</td>\n",
       "      <td>7.561</td>\n",
       "      <td>1.30232</td>\n",
       "      <td>1.40223</td>\n",
       "      <td>0.94784</td>\n",
       "      <td>0.62877</td>\n",
       "      <td>0.43630</td>\n",
       "      <td>0.14145</td>\n",
       "      <td>2.70201</td>\n",
       "      <td>2015</td>\n",
       "    </tr>\n",
       "    <tr>\n",
       "      <th>2</th>\n",
       "      <td>3</td>\n",
       "      <td>Denmark</td>\n",
       "      <td>7.527</td>\n",
       "      <td>1.32548</td>\n",
       "      <td>1.36058</td>\n",
       "      <td>0.87464</td>\n",
       "      <td>0.64938</td>\n",
       "      <td>0.34139</td>\n",
       "      <td>0.48357</td>\n",
       "      <td>2.49204</td>\n",
       "      <td>2015</td>\n",
       "    </tr>\n",
       "    <tr>\n",
       "      <th>3</th>\n",
       "      <td>4</td>\n",
       "      <td>Norway</td>\n",
       "      <td>7.522</td>\n",
       "      <td>1.45900</td>\n",
       "      <td>1.33095</td>\n",
       "      <td>0.88521</td>\n",
       "      <td>0.66973</td>\n",
       "      <td>0.34699</td>\n",
       "      <td>0.36503</td>\n",
       "      <td>2.46531</td>\n",
       "      <td>2015</td>\n",
       "    </tr>\n",
       "    <tr>\n",
       "      <th>4</th>\n",
       "      <td>5</td>\n",
       "      <td>Canada</td>\n",
       "      <td>7.427</td>\n",
       "      <td>1.32629</td>\n",
       "      <td>1.32261</td>\n",
       "      <td>0.90563</td>\n",
       "      <td>0.63297</td>\n",
       "      <td>0.45811</td>\n",
       "      <td>0.32957</td>\n",
       "      <td>2.45176</td>\n",
       "      <td>2015</td>\n",
       "    </tr>\n",
       "    <tr>\n",
       "      <th>...</th>\n",
       "      <td>...</td>\n",
       "      <td>...</td>\n",
       "      <td>...</td>\n",
       "      <td>...</td>\n",
       "      <td>...</td>\n",
       "      <td>...</td>\n",
       "      <td>...</td>\n",
       "      <td>...</td>\n",
       "      <td>...</td>\n",
       "      <td>...</td>\n",
       "      <td>...</td>\n",
       "    </tr>\n",
       "    <tr>\n",
       "      <th>153</th>\n",
       "      <td>154</td>\n",
       "      <td>Rwanda</td>\n",
       "      <td>3.465</td>\n",
       "      <td>0.22208</td>\n",
       "      <td>0.77370</td>\n",
       "      <td>0.42864</td>\n",
       "      <td>0.59201</td>\n",
       "      <td>0.22628</td>\n",
       "      <td>0.55191</td>\n",
       "      <td>0.67042</td>\n",
       "      <td>2015</td>\n",
       "    </tr>\n",
       "    <tr>\n",
       "      <th>154</th>\n",
       "      <td>155</td>\n",
       "      <td>Benin</td>\n",
       "      <td>3.340</td>\n",
       "      <td>0.28665</td>\n",
       "      <td>0.35386</td>\n",
       "      <td>0.31910</td>\n",
       "      <td>0.48450</td>\n",
       "      <td>0.18260</td>\n",
       "      <td>0.08010</td>\n",
       "      <td>1.63328</td>\n",
       "      <td>2015</td>\n",
       "    </tr>\n",
       "    <tr>\n",
       "      <th>155</th>\n",
       "      <td>156</td>\n",
       "      <td>Syria</td>\n",
       "      <td>3.006</td>\n",
       "      <td>0.66320</td>\n",
       "      <td>0.47489</td>\n",
       "      <td>0.72193</td>\n",
       "      <td>0.15684</td>\n",
       "      <td>0.47179</td>\n",
       "      <td>0.18906</td>\n",
       "      <td>0.32858</td>\n",
       "      <td>2015</td>\n",
       "    </tr>\n",
       "    <tr>\n",
       "      <th>156</th>\n",
       "      <td>157</td>\n",
       "      <td>Burundi</td>\n",
       "      <td>2.905</td>\n",
       "      <td>0.01530</td>\n",
       "      <td>0.41587</td>\n",
       "      <td>0.22396</td>\n",
       "      <td>0.11850</td>\n",
       "      <td>0.19727</td>\n",
       "      <td>0.10062</td>\n",
       "      <td>1.83302</td>\n",
       "      <td>2015</td>\n",
       "    </tr>\n",
       "    <tr>\n",
       "      <th>157</th>\n",
       "      <td>158</td>\n",
       "      <td>Togo</td>\n",
       "      <td>2.839</td>\n",
       "      <td>0.20868</td>\n",
       "      <td>0.13995</td>\n",
       "      <td>0.28443</td>\n",
       "      <td>0.36453</td>\n",
       "      <td>0.16681</td>\n",
       "      <td>0.10731</td>\n",
       "      <td>1.56726</td>\n",
       "      <td>2015</td>\n",
       "    </tr>\n",
       "  </tbody>\n",
       "</table>\n",
       "<p>158 rows × 11 columns</p>\n",
       "</div>"
      ],
      "text/plain": [
       "     Happiness_Rank Country/Region  Happiness_Score  GDP_Rating  \\\n",
       "0                 1    Switzerland            7.587     1.39651   \n",
       "1                 2        Iceland            7.561     1.30232   \n",
       "2                 3        Denmark            7.527     1.32548   \n",
       "3                 4         Norway            7.522     1.45900   \n",
       "4                 5         Canada            7.427     1.32629   \n",
       "..              ...            ...              ...         ...   \n",
       "153             154         Rwanda            3.465     0.22208   \n",
       "154             155          Benin            3.340     0.28665   \n",
       "155             156          Syria            3.006     0.66320   \n",
       "156             157        Burundi            2.905     0.01530   \n",
       "157             158           Togo            2.839     0.20868   \n",
       "\n",
       "     Social_Support   Health  Freedom  Generosity  Corruption  \\\n",
       "0           1.34951  0.94143  0.66557     0.29678     0.41978   \n",
       "1           1.40223  0.94784  0.62877     0.43630     0.14145   \n",
       "2           1.36058  0.87464  0.64938     0.34139     0.48357   \n",
       "3           1.33095  0.88521  0.66973     0.34699     0.36503   \n",
       "4           1.32261  0.90563  0.63297     0.45811     0.32957   \n",
       "..              ...      ...      ...         ...         ...   \n",
       "153         0.77370  0.42864  0.59201     0.22628     0.55191   \n",
       "154         0.35386  0.31910  0.48450     0.18260     0.08010   \n",
       "155         0.47489  0.72193  0.15684     0.47179     0.18906   \n",
       "156         0.41587  0.22396  0.11850     0.19727     0.10062   \n",
       "157         0.13995  0.28443  0.36453     0.16681     0.10731   \n",
       "\n",
       "     Dystopia_Residual  Year  \n",
       "0              2.51738  2015  \n",
       "1              2.70201  2015  \n",
       "2              2.49204  2015  \n",
       "3              2.46531  2015  \n",
       "4              2.45176  2015  \n",
       "..                 ...   ...  \n",
       "153            0.67042  2015  \n",
       "154            1.63328  2015  \n",
       "155            0.32858  2015  \n",
       "156            1.83302  2015  \n",
       "157            1.56726  2015  \n",
       "\n",
       "[158 rows x 11 columns]"
      ]
     },
     "execution_count": 9,
     "metadata": {},
     "output_type": "execute_result"
    }
   ],
   "source": [
    "# choosing index, dropping region and standard error, renaming and ordering\n",
    "world_happiness_report_2015_df = world_happiness_report_2015_df.reset_index()\n",
    "\n",
    "world_happiness_report_2015_df = world_happiness_report_2015_df.drop(\n",
    "    'Region', axis=1)\n",
    "world_happiness_report_2015_df = world_happiness_report_2015_df.drop(\n",
    "    'Standard Error', axis=1)\n",
    "\n",
    "world_happiness_report_2015_df.rename(columns={'Happiness Rank': 'Happiness_Rank', 'Country': 'Country/Region',\n",
    "                                               'Economy (GDP per Capita)': 'GDP_Rating',\n",
    "                                               'Family': 'Social_Support',\n",
    "                                               'Health (Life Expectancy)': 'Health',\n",
    "                                               'Trust (Government Corruption)': 'Corruption',\n",
    "                                               'Dystopia Residual': 'Dystopia_Residual', 'Happiness Score': 'Happiness_Score'}, inplace=True)\n",
    "\n",
    "columns_titles = ['Happiness_Rank', 'Country/Region', 'Happiness_Score', 'GDP_Rating', 'Social_Support', 'Health',\n",
    "                  'Freedom', 'Generosity', 'Corruption', 'Dystopia_Residual', 'Year']\n",
    "world_happiness_report_2015_df = world_happiness_report_2015_df.reindex(\n",
    "    columns=columns_titles)\n",
    "\n",
    "world_happiness_report_2015_df"
   ]
  },
  {
   "cell_type": "code",
   "execution_count": 10,
   "metadata": {},
   "outputs": [
    {
     "data": {
      "text/html": [
       "<div>\n",
       "<style scoped>\n",
       "    .dataframe tbody tr th:only-of-type {\n",
       "        vertical-align: middle;\n",
       "    }\n",
       "\n",
       "    .dataframe tbody tr th {\n",
       "        vertical-align: top;\n",
       "    }\n",
       "\n",
       "    .dataframe thead th {\n",
       "        text-align: right;\n",
       "    }\n",
       "</style>\n",
       "<table border=\"1\" class=\"dataframe\">\n",
       "  <thead>\n",
       "    <tr style=\"text-align: right;\">\n",
       "      <th></th>\n",
       "      <th>Happiness_Rank</th>\n",
       "      <th>Country/Region</th>\n",
       "      <th>Happiness_Score</th>\n",
       "      <th>GDP_Rating</th>\n",
       "      <th>Social_Support</th>\n",
       "      <th>Health</th>\n",
       "      <th>Freedom</th>\n",
       "      <th>Generosity</th>\n",
       "      <th>Corruption</th>\n",
       "      <th>Dystopia_Residual</th>\n",
       "      <th>Year</th>\n",
       "    </tr>\n",
       "  </thead>\n",
       "  <tbody>\n",
       "    <tr>\n",
       "      <th>0</th>\n",
       "      <td>1</td>\n",
       "      <td>Denmark</td>\n",
       "      <td>7.526</td>\n",
       "      <td>1.44178</td>\n",
       "      <td>1.16374</td>\n",
       "      <td>0.79504</td>\n",
       "      <td>0.57941</td>\n",
       "      <td>0.36171</td>\n",
       "      <td>0.44453</td>\n",
       "      <td>2.73939</td>\n",
       "      <td>2016</td>\n",
       "    </tr>\n",
       "    <tr>\n",
       "      <th>1</th>\n",
       "      <td>2</td>\n",
       "      <td>Switzerland</td>\n",
       "      <td>7.509</td>\n",
       "      <td>1.52733</td>\n",
       "      <td>1.14524</td>\n",
       "      <td>0.86303</td>\n",
       "      <td>0.58557</td>\n",
       "      <td>0.28083</td>\n",
       "      <td>0.41203</td>\n",
       "      <td>2.69463</td>\n",
       "      <td>2016</td>\n",
       "    </tr>\n",
       "    <tr>\n",
       "      <th>2</th>\n",
       "      <td>3</td>\n",
       "      <td>Iceland</td>\n",
       "      <td>7.501</td>\n",
       "      <td>1.42666</td>\n",
       "      <td>1.18326</td>\n",
       "      <td>0.86733</td>\n",
       "      <td>0.56624</td>\n",
       "      <td>0.47678</td>\n",
       "      <td>0.14975</td>\n",
       "      <td>2.83137</td>\n",
       "      <td>2016</td>\n",
       "    </tr>\n",
       "    <tr>\n",
       "      <th>3</th>\n",
       "      <td>4</td>\n",
       "      <td>Norway</td>\n",
       "      <td>7.498</td>\n",
       "      <td>1.57744</td>\n",
       "      <td>1.12690</td>\n",
       "      <td>0.79579</td>\n",
       "      <td>0.59609</td>\n",
       "      <td>0.37895</td>\n",
       "      <td>0.35776</td>\n",
       "      <td>2.66465</td>\n",
       "      <td>2016</td>\n",
       "    </tr>\n",
       "    <tr>\n",
       "      <th>4</th>\n",
       "      <td>5</td>\n",
       "      <td>Finland</td>\n",
       "      <td>7.413</td>\n",
       "      <td>1.40598</td>\n",
       "      <td>1.13464</td>\n",
       "      <td>0.81091</td>\n",
       "      <td>0.57104</td>\n",
       "      <td>0.25492</td>\n",
       "      <td>0.41004</td>\n",
       "      <td>2.82596</td>\n",
       "      <td>2016</td>\n",
       "    </tr>\n",
       "    <tr>\n",
       "      <th>...</th>\n",
       "      <td>...</td>\n",
       "      <td>...</td>\n",
       "      <td>...</td>\n",
       "      <td>...</td>\n",
       "      <td>...</td>\n",
       "      <td>...</td>\n",
       "      <td>...</td>\n",
       "      <td>...</td>\n",
       "      <td>...</td>\n",
       "      <td>...</td>\n",
       "      <td>...</td>\n",
       "    </tr>\n",
       "    <tr>\n",
       "      <th>152</th>\n",
       "      <td>153</td>\n",
       "      <td>Benin</td>\n",
       "      <td>3.484</td>\n",
       "      <td>0.39499</td>\n",
       "      <td>0.10419</td>\n",
       "      <td>0.21028</td>\n",
       "      <td>0.39747</td>\n",
       "      <td>0.20180</td>\n",
       "      <td>0.06681</td>\n",
       "      <td>2.10812</td>\n",
       "      <td>2016</td>\n",
       "    </tr>\n",
       "    <tr>\n",
       "      <th>153</th>\n",
       "      <td>154</td>\n",
       "      <td>Afghanistan</td>\n",
       "      <td>3.360</td>\n",
       "      <td>0.38227</td>\n",
       "      <td>0.11037</td>\n",
       "      <td>0.17344</td>\n",
       "      <td>0.16430</td>\n",
       "      <td>0.31268</td>\n",
       "      <td>0.07112</td>\n",
       "      <td>2.14558</td>\n",
       "      <td>2016</td>\n",
       "    </tr>\n",
       "    <tr>\n",
       "      <th>154</th>\n",
       "      <td>155</td>\n",
       "      <td>Togo</td>\n",
       "      <td>3.303</td>\n",
       "      <td>0.28123</td>\n",
       "      <td>0.00000</td>\n",
       "      <td>0.24811</td>\n",
       "      <td>0.34678</td>\n",
       "      <td>0.17517</td>\n",
       "      <td>0.11587</td>\n",
       "      <td>2.13540</td>\n",
       "      <td>2016</td>\n",
       "    </tr>\n",
       "    <tr>\n",
       "      <th>155</th>\n",
       "      <td>156</td>\n",
       "      <td>Syria</td>\n",
       "      <td>3.069</td>\n",
       "      <td>0.74719</td>\n",
       "      <td>0.14866</td>\n",
       "      <td>0.62994</td>\n",
       "      <td>0.06912</td>\n",
       "      <td>0.48397</td>\n",
       "      <td>0.17233</td>\n",
       "      <td>0.81789</td>\n",
       "      <td>2016</td>\n",
       "    </tr>\n",
       "    <tr>\n",
       "      <th>156</th>\n",
       "      <td>157</td>\n",
       "      <td>Burundi</td>\n",
       "      <td>2.905</td>\n",
       "      <td>0.06831</td>\n",
       "      <td>0.23442</td>\n",
       "      <td>0.15747</td>\n",
       "      <td>0.04320</td>\n",
       "      <td>0.20290</td>\n",
       "      <td>0.09419</td>\n",
       "      <td>2.10404</td>\n",
       "      <td>2016</td>\n",
       "    </tr>\n",
       "  </tbody>\n",
       "</table>\n",
       "<p>157 rows × 11 columns</p>\n",
       "</div>"
      ],
      "text/plain": [
       "     Happiness_Rank Country/Region  Happiness_Score  GDP_Rating  \\\n",
       "0                 1        Denmark            7.526     1.44178   \n",
       "1                 2    Switzerland            7.509     1.52733   \n",
       "2                 3        Iceland            7.501     1.42666   \n",
       "3                 4         Norway            7.498     1.57744   \n",
       "4                 5        Finland            7.413     1.40598   \n",
       "..              ...            ...              ...         ...   \n",
       "152             153          Benin            3.484     0.39499   \n",
       "153             154    Afghanistan            3.360     0.38227   \n",
       "154             155           Togo            3.303     0.28123   \n",
       "155             156          Syria            3.069     0.74719   \n",
       "156             157        Burundi            2.905     0.06831   \n",
       "\n",
       "     Social_Support   Health  Freedom  Generosity  Corruption  \\\n",
       "0           1.16374  0.79504  0.57941     0.36171     0.44453   \n",
       "1           1.14524  0.86303  0.58557     0.28083     0.41203   \n",
       "2           1.18326  0.86733  0.56624     0.47678     0.14975   \n",
       "3           1.12690  0.79579  0.59609     0.37895     0.35776   \n",
       "4           1.13464  0.81091  0.57104     0.25492     0.41004   \n",
       "..              ...      ...      ...         ...         ...   \n",
       "152         0.10419  0.21028  0.39747     0.20180     0.06681   \n",
       "153         0.11037  0.17344  0.16430     0.31268     0.07112   \n",
       "154         0.00000  0.24811  0.34678     0.17517     0.11587   \n",
       "155         0.14866  0.62994  0.06912     0.48397     0.17233   \n",
       "156         0.23442  0.15747  0.04320     0.20290     0.09419   \n",
       "\n",
       "     Dystopia_Residual  Year  \n",
       "0              2.73939  2016  \n",
       "1              2.69463  2016  \n",
       "2              2.83137  2016  \n",
       "3              2.66465  2016  \n",
       "4              2.82596  2016  \n",
       "..                 ...   ...  \n",
       "152            2.10812  2016  \n",
       "153            2.14558  2016  \n",
       "154            2.13540  2016  \n",
       "155            0.81789  2016  \n",
       "156            2.10404  2016  \n",
       "\n",
       "[157 rows x 11 columns]"
      ]
     },
     "execution_count": 10,
     "metadata": {},
     "output_type": "execute_result"
    }
   ],
   "source": [
    "# choosing index, dropping region and lower and upper confidence level, renaming and ordering\n",
    "world_happiness_report_2016_df = world_happiness_report_2016_df.reset_index()\n",
    "\n",
    "world_happiness_report_2016_df = world_happiness_report_2016_df.drop(\n",
    "    'Region', axis=1)\n",
    "world_happiness_report_2016_df = world_happiness_report_2016_df.drop(\n",
    "    'Lower Confidence Interval', axis=1)\n",
    "world_happiness_report_2016_df = world_happiness_report_2016_df.drop(\n",
    "    'Upper Confidence Interval', axis=1)\n",
    "\n",
    "world_happiness_report_2016_df.rename(columns={'Happiness Rank': 'Happiness_Rank', 'Country': 'Country/Region',\n",
    "                                               'Economy (GDP per Capita)': 'GDP_Rating',\n",
    "                                               'Family': 'Social_Support',\n",
    "                                               'Health (Life Expectancy)': 'Health',\n",
    "                                               'Trust (Government Corruption)': 'Corruption',\n",
    "                                               'Dystopia Residual': 'Dystopia_Residual', 'Happiness Score': 'Happiness_Score'}, inplace=True)\n",
    "\n",
    "\n",
    "columns_titles = ['Happiness_Rank', 'Country/Region', 'Happiness_Score', 'GDP_Rating', 'Social_Support', 'Health',\n",
    "                  'Freedom', 'Generosity', 'Corruption', 'Dystopia_Residual', 'Year']\n",
    "world_happiness_report_2016_df = world_happiness_report_2016_df.reindex(\n",
    "    columns=columns_titles)\n",
    "\n",
    "world_happiness_report_2016_df"
   ]
  },
  {
   "cell_type": "code",
   "execution_count": 11,
   "metadata": {},
   "outputs": [
    {
     "data": {
      "text/html": [
       "<div>\n",
       "<style scoped>\n",
       "    .dataframe tbody tr th:only-of-type {\n",
       "        vertical-align: middle;\n",
       "    }\n",
       "\n",
       "    .dataframe tbody tr th {\n",
       "        vertical-align: top;\n",
       "    }\n",
       "\n",
       "    .dataframe thead th {\n",
       "        text-align: right;\n",
       "    }\n",
       "</style>\n",
       "<table border=\"1\" class=\"dataframe\">\n",
       "  <thead>\n",
       "    <tr style=\"text-align: right;\">\n",
       "      <th></th>\n",
       "      <th>Happiness_Rank</th>\n",
       "      <th>Country/Region</th>\n",
       "      <th>Happiness_Score</th>\n",
       "      <th>GDP_Rating</th>\n",
       "      <th>Social_Support</th>\n",
       "      <th>Health</th>\n",
       "      <th>Freedom</th>\n",
       "      <th>Generosity</th>\n",
       "      <th>Corruption</th>\n",
       "      <th>Dystopia_Residual</th>\n",
       "      <th>Year</th>\n",
       "    </tr>\n",
       "  </thead>\n",
       "  <tbody>\n",
       "    <tr>\n",
       "      <th>0</th>\n",
       "      <td>1</td>\n",
       "      <td>Norway</td>\n",
       "      <td>7.537</td>\n",
       "      <td>1.616463</td>\n",
       "      <td>1.533524</td>\n",
       "      <td>0.796667</td>\n",
       "      <td>0.635423</td>\n",
       "      <td>0.362012</td>\n",
       "      <td>0.315964</td>\n",
       "      <td>2.277027</td>\n",
       "      <td>2017</td>\n",
       "    </tr>\n",
       "    <tr>\n",
       "      <th>1</th>\n",
       "      <td>2</td>\n",
       "      <td>Denmark</td>\n",
       "      <td>7.522</td>\n",
       "      <td>1.482383</td>\n",
       "      <td>1.551122</td>\n",
       "      <td>0.792566</td>\n",
       "      <td>0.626007</td>\n",
       "      <td>0.355280</td>\n",
       "      <td>0.400770</td>\n",
       "      <td>2.313707</td>\n",
       "      <td>2017</td>\n",
       "    </tr>\n",
       "    <tr>\n",
       "      <th>2</th>\n",
       "      <td>3</td>\n",
       "      <td>Iceland</td>\n",
       "      <td>7.504</td>\n",
       "      <td>1.480633</td>\n",
       "      <td>1.610574</td>\n",
       "      <td>0.833552</td>\n",
       "      <td>0.627163</td>\n",
       "      <td>0.475540</td>\n",
       "      <td>0.153527</td>\n",
       "      <td>2.322715</td>\n",
       "      <td>2017</td>\n",
       "    </tr>\n",
       "    <tr>\n",
       "      <th>3</th>\n",
       "      <td>4</td>\n",
       "      <td>Switzerland</td>\n",
       "      <td>7.494</td>\n",
       "      <td>1.564980</td>\n",
       "      <td>1.516912</td>\n",
       "      <td>0.858131</td>\n",
       "      <td>0.620071</td>\n",
       "      <td>0.290549</td>\n",
       "      <td>0.367007</td>\n",
       "      <td>2.276716</td>\n",
       "      <td>2017</td>\n",
       "    </tr>\n",
       "    <tr>\n",
       "      <th>4</th>\n",
       "      <td>5</td>\n",
       "      <td>Finland</td>\n",
       "      <td>7.469</td>\n",
       "      <td>1.443572</td>\n",
       "      <td>1.540247</td>\n",
       "      <td>0.809158</td>\n",
       "      <td>0.617951</td>\n",
       "      <td>0.245483</td>\n",
       "      <td>0.382612</td>\n",
       "      <td>2.430182</td>\n",
       "      <td>2017</td>\n",
       "    </tr>\n",
       "    <tr>\n",
       "      <th>...</th>\n",
       "      <td>...</td>\n",
       "      <td>...</td>\n",
       "      <td>...</td>\n",
       "      <td>...</td>\n",
       "      <td>...</td>\n",
       "      <td>...</td>\n",
       "      <td>...</td>\n",
       "      <td>...</td>\n",
       "      <td>...</td>\n",
       "      <td>...</td>\n",
       "      <td>...</td>\n",
       "    </tr>\n",
       "    <tr>\n",
       "      <th>150</th>\n",
       "      <td>151</td>\n",
       "      <td>Rwanda</td>\n",
       "      <td>3.471</td>\n",
       "      <td>0.368746</td>\n",
       "      <td>0.945707</td>\n",
       "      <td>0.326425</td>\n",
       "      <td>0.581844</td>\n",
       "      <td>0.252756</td>\n",
       "      <td>0.455220</td>\n",
       "      <td>0.540061</td>\n",
       "      <td>2017</td>\n",
       "    </tr>\n",
       "    <tr>\n",
       "      <th>151</th>\n",
       "      <td>152</td>\n",
       "      <td>Syria</td>\n",
       "      <td>3.462</td>\n",
       "      <td>0.777153</td>\n",
       "      <td>0.396103</td>\n",
       "      <td>0.500533</td>\n",
       "      <td>0.081539</td>\n",
       "      <td>0.493664</td>\n",
       "      <td>0.151347</td>\n",
       "      <td>1.061574</td>\n",
       "      <td>2017</td>\n",
       "    </tr>\n",
       "    <tr>\n",
       "      <th>152</th>\n",
       "      <td>153</td>\n",
       "      <td>Tanzania</td>\n",
       "      <td>3.349</td>\n",
       "      <td>0.511136</td>\n",
       "      <td>1.041990</td>\n",
       "      <td>0.364509</td>\n",
       "      <td>0.390018</td>\n",
       "      <td>0.354256</td>\n",
       "      <td>0.066035</td>\n",
       "      <td>0.621130</td>\n",
       "      <td>2017</td>\n",
       "    </tr>\n",
       "    <tr>\n",
       "      <th>153</th>\n",
       "      <td>154</td>\n",
       "      <td>Burundi</td>\n",
       "      <td>2.905</td>\n",
       "      <td>0.091623</td>\n",
       "      <td>0.629794</td>\n",
       "      <td>0.151611</td>\n",
       "      <td>0.059901</td>\n",
       "      <td>0.204435</td>\n",
       "      <td>0.084148</td>\n",
       "      <td>1.683024</td>\n",
       "      <td>2017</td>\n",
       "    </tr>\n",
       "    <tr>\n",
       "      <th>154</th>\n",
       "      <td>155</td>\n",
       "      <td>Central African Republic</td>\n",
       "      <td>2.693</td>\n",
       "      <td>0.000000</td>\n",
       "      <td>0.000000</td>\n",
       "      <td>0.018773</td>\n",
       "      <td>0.270842</td>\n",
       "      <td>0.280876</td>\n",
       "      <td>0.056565</td>\n",
       "      <td>2.066005</td>\n",
       "      <td>2017</td>\n",
       "    </tr>\n",
       "  </tbody>\n",
       "</table>\n",
       "<p>155 rows × 11 columns</p>\n",
       "</div>"
      ],
      "text/plain": [
       "     Happiness_Rank            Country/Region  Happiness_Score  GDP_Rating  \\\n",
       "0                 1                    Norway            7.537    1.616463   \n",
       "1                 2                   Denmark            7.522    1.482383   \n",
       "2                 3                   Iceland            7.504    1.480633   \n",
       "3                 4               Switzerland            7.494    1.564980   \n",
       "4                 5                   Finland            7.469    1.443572   \n",
       "..              ...                       ...              ...         ...   \n",
       "150             151                    Rwanda            3.471    0.368746   \n",
       "151             152                     Syria            3.462    0.777153   \n",
       "152             153                  Tanzania            3.349    0.511136   \n",
       "153             154                   Burundi            2.905    0.091623   \n",
       "154             155  Central African Republic            2.693    0.000000   \n",
       "\n",
       "     Social_Support    Health   Freedom  Generosity  Corruption  \\\n",
       "0          1.533524  0.796667  0.635423    0.362012    0.315964   \n",
       "1          1.551122  0.792566  0.626007    0.355280    0.400770   \n",
       "2          1.610574  0.833552  0.627163    0.475540    0.153527   \n",
       "3          1.516912  0.858131  0.620071    0.290549    0.367007   \n",
       "4          1.540247  0.809158  0.617951    0.245483    0.382612   \n",
       "..              ...       ...       ...         ...         ...   \n",
       "150        0.945707  0.326425  0.581844    0.252756    0.455220   \n",
       "151        0.396103  0.500533  0.081539    0.493664    0.151347   \n",
       "152        1.041990  0.364509  0.390018    0.354256    0.066035   \n",
       "153        0.629794  0.151611  0.059901    0.204435    0.084148   \n",
       "154        0.000000  0.018773  0.270842    0.280876    0.056565   \n",
       "\n",
       "     Dystopia_Residual  Year  \n",
       "0             2.277027  2017  \n",
       "1             2.313707  2017  \n",
       "2             2.322715  2017  \n",
       "3             2.276716  2017  \n",
       "4             2.430182  2017  \n",
       "..                 ...   ...  \n",
       "150           0.540061  2017  \n",
       "151           1.061574  2017  \n",
       "152           0.621130  2017  \n",
       "153           1.683024  2017  \n",
       "154           2.066005  2017  \n",
       "\n",
       "[155 rows x 11 columns]"
      ]
     },
     "execution_count": 11,
     "metadata": {},
     "output_type": "execute_result"
    }
   ],
   "source": [
    "# choosing index, dropping region and lower and upper confidence level, renaming and ordering\n",
    "world_happiness_report_2017_df.rename(\n",
    "    columns={'Happiness.Rank': 'Happiness_Rank'}, inplace=True)\n",
    "world_happiness_report_2017_df = world_happiness_report_2017_df.reset_index()\n",
    "\n",
    "world_happiness_report_2017_df = world_happiness_report_2017_df.drop(\n",
    "    'Whisker.high', axis=1)\n",
    "world_happiness_report_2017_df = world_happiness_report_2017_df.drop(\n",
    "    'Whisker.low', axis=1)\n",
    "\n",
    "world_happiness_report_2017_df.rename(columns={'Country': 'Country/Region', 'Happiness.Score': 'Happiness_Score',\n",
    "                                               'Economy..GDP.per.Capita.': 'GDP_Rating',\n",
    "                                               'Family': 'Social_Support',\n",
    "                                               'Health..Life.Expectancy.': 'Health',\n",
    "                                               'Trust..Government.Corruption.': 'Corruption',\n",
    "                                               'Dystopia.Residual': 'Dystopia_Residual', 'Happiness Score': 'Happiness_Score'}, inplace=True)\n",
    "\n",
    "columns_titles = ['Happiness_Rank', 'Country/Region', 'Happiness_Score', 'GDP_Rating', 'Social_Support', 'Health',\n",
    "                  'Freedom', 'Generosity', 'Corruption', 'Dystopia_Residual', 'Year']\n",
    "world_happiness_report_2017_df = world_happiness_report_2017_df.reindex(\n",
    "    columns=columns_titles)\n",
    "\n",
    "world_happiness_report_2017_df"
   ]
  },
  {
   "cell_type": "markdown",
   "metadata": {},
   "source": [
    "calculating the Dystopia Residual for year 2018 and 2019 as follows:\n",
    "According to https://worldhappiness.report/faq/ the happiness score is the total of all featurs. However, we noticed that when we added the feature scores in the years 2018 and 2019 they did not add up to the happiness score. So the remainder of the score was the Dystopia Residual, which was not included as a direct value in these years."
   ]
  },
  {
   "cell_type": "code",
   "execution_count": 12,
   "metadata": {
    "scrolled": false
   },
   "outputs": [
    {
     "data": {
      "text/html": [
       "<div>\n",
       "<style scoped>\n",
       "    .dataframe tbody tr th:only-of-type {\n",
       "        vertical-align: middle;\n",
       "    }\n",
       "\n",
       "    .dataframe tbody tr th {\n",
       "        vertical-align: top;\n",
       "    }\n",
       "\n",
       "    .dataframe thead th {\n",
       "        text-align: right;\n",
       "    }\n",
       "</style>\n",
       "<table border=\"1\" class=\"dataframe\">\n",
       "  <thead>\n",
       "    <tr style=\"text-align: right;\">\n",
       "      <th></th>\n",
       "      <th>Happiness_Rank</th>\n",
       "      <th>Country/Region</th>\n",
       "      <th>Happiness_Score</th>\n",
       "      <th>GDP_Rating</th>\n",
       "      <th>Social_Support</th>\n",
       "      <th>Health</th>\n",
       "      <th>Freedom</th>\n",
       "      <th>Generosity</th>\n",
       "      <th>Corruption</th>\n",
       "      <th>Dystopia_Residual</th>\n",
       "      <th>Year</th>\n",
       "    </tr>\n",
       "  </thead>\n",
       "  <tbody>\n",
       "    <tr>\n",
       "      <th>0</th>\n",
       "      <td>1</td>\n",
       "      <td>Finland</td>\n",
       "      <td>7.632</td>\n",
       "      <td>1.305</td>\n",
       "      <td>1.592</td>\n",
       "      <td>0.874</td>\n",
       "      <td>0.681</td>\n",
       "      <td>0.202</td>\n",
       "      <td>0.393</td>\n",
       "      <td>2.585</td>\n",
       "      <td>2018</td>\n",
       "    </tr>\n",
       "    <tr>\n",
       "      <th>1</th>\n",
       "      <td>2</td>\n",
       "      <td>Norway</td>\n",
       "      <td>7.594</td>\n",
       "      <td>1.456</td>\n",
       "      <td>1.582</td>\n",
       "      <td>0.861</td>\n",
       "      <td>0.686</td>\n",
       "      <td>0.286</td>\n",
       "      <td>0.340</td>\n",
       "      <td>2.383</td>\n",
       "      <td>2018</td>\n",
       "    </tr>\n",
       "    <tr>\n",
       "      <th>2</th>\n",
       "      <td>3</td>\n",
       "      <td>Denmark</td>\n",
       "      <td>7.555</td>\n",
       "      <td>1.351</td>\n",
       "      <td>1.590</td>\n",
       "      <td>0.868</td>\n",
       "      <td>0.683</td>\n",
       "      <td>0.284</td>\n",
       "      <td>0.408</td>\n",
       "      <td>2.371</td>\n",
       "      <td>2018</td>\n",
       "    </tr>\n",
       "    <tr>\n",
       "      <th>3</th>\n",
       "      <td>4</td>\n",
       "      <td>Iceland</td>\n",
       "      <td>7.495</td>\n",
       "      <td>1.343</td>\n",
       "      <td>1.644</td>\n",
       "      <td>0.914</td>\n",
       "      <td>0.677</td>\n",
       "      <td>0.353</td>\n",
       "      <td>0.138</td>\n",
       "      <td>2.426</td>\n",
       "      <td>2018</td>\n",
       "    </tr>\n",
       "    <tr>\n",
       "      <th>4</th>\n",
       "      <td>5</td>\n",
       "      <td>Switzerland</td>\n",
       "      <td>7.487</td>\n",
       "      <td>1.420</td>\n",
       "      <td>1.549</td>\n",
       "      <td>0.927</td>\n",
       "      <td>0.660</td>\n",
       "      <td>0.256</td>\n",
       "      <td>0.357</td>\n",
       "      <td>2.318</td>\n",
       "      <td>2018</td>\n",
       "    </tr>\n",
       "    <tr>\n",
       "      <th>...</th>\n",
       "      <td>...</td>\n",
       "      <td>...</td>\n",
       "      <td>...</td>\n",
       "      <td>...</td>\n",
       "      <td>...</td>\n",
       "      <td>...</td>\n",
       "      <td>...</td>\n",
       "      <td>...</td>\n",
       "      <td>...</td>\n",
       "      <td>...</td>\n",
       "      <td>...</td>\n",
       "    </tr>\n",
       "    <tr>\n",
       "      <th>151</th>\n",
       "      <td>152</td>\n",
       "      <td>Yemen</td>\n",
       "      <td>3.355</td>\n",
       "      <td>0.442</td>\n",
       "      <td>1.073</td>\n",
       "      <td>0.343</td>\n",
       "      <td>0.244</td>\n",
       "      <td>0.083</td>\n",
       "      <td>0.064</td>\n",
       "      <td>1.106</td>\n",
       "      <td>2018</td>\n",
       "    </tr>\n",
       "    <tr>\n",
       "      <th>152</th>\n",
       "      <td>153</td>\n",
       "      <td>Tanzania</td>\n",
       "      <td>3.303</td>\n",
       "      <td>0.455</td>\n",
       "      <td>0.991</td>\n",
       "      <td>0.381</td>\n",
       "      <td>0.481</td>\n",
       "      <td>0.270</td>\n",
       "      <td>0.097</td>\n",
       "      <td>0.628</td>\n",
       "      <td>2018</td>\n",
       "    </tr>\n",
       "    <tr>\n",
       "      <th>153</th>\n",
       "      <td>154</td>\n",
       "      <td>South Sudan</td>\n",
       "      <td>3.254</td>\n",
       "      <td>0.337</td>\n",
       "      <td>0.608</td>\n",
       "      <td>0.177</td>\n",
       "      <td>0.112</td>\n",
       "      <td>0.224</td>\n",
       "      <td>0.106</td>\n",
       "      <td>1.690</td>\n",
       "      <td>2018</td>\n",
       "    </tr>\n",
       "    <tr>\n",
       "      <th>154</th>\n",
       "      <td>155</td>\n",
       "      <td>Central African Republic</td>\n",
       "      <td>3.083</td>\n",
       "      <td>0.024</td>\n",
       "      <td>0.000</td>\n",
       "      <td>0.010</td>\n",
       "      <td>0.305</td>\n",
       "      <td>0.218</td>\n",
       "      <td>0.038</td>\n",
       "      <td>2.488</td>\n",
       "      <td>2018</td>\n",
       "    </tr>\n",
       "    <tr>\n",
       "      <th>155</th>\n",
       "      <td>156</td>\n",
       "      <td>Burundi</td>\n",
       "      <td>2.905</td>\n",
       "      <td>0.091</td>\n",
       "      <td>0.627</td>\n",
       "      <td>0.145</td>\n",
       "      <td>0.065</td>\n",
       "      <td>0.149</td>\n",
       "      <td>0.076</td>\n",
       "      <td>1.752</td>\n",
       "      <td>2018</td>\n",
       "    </tr>\n",
       "  </tbody>\n",
       "</table>\n",
       "<p>156 rows × 11 columns</p>\n",
       "</div>"
      ],
      "text/plain": [
       "     Happiness_Rank            Country/Region  Happiness_Score  GDP_Rating  \\\n",
       "0                 1                   Finland            7.632       1.305   \n",
       "1                 2                    Norway            7.594       1.456   \n",
       "2                 3                   Denmark            7.555       1.351   \n",
       "3                 4                   Iceland            7.495       1.343   \n",
       "4                 5               Switzerland            7.487       1.420   \n",
       "..              ...                       ...              ...         ...   \n",
       "151             152                     Yemen            3.355       0.442   \n",
       "152             153                  Tanzania            3.303       0.455   \n",
       "153             154               South Sudan            3.254       0.337   \n",
       "154             155  Central African Republic            3.083       0.024   \n",
       "155             156                   Burundi            2.905       0.091   \n",
       "\n",
       "     Social_Support  Health  Freedom  Generosity  Corruption  \\\n",
       "0             1.592   0.874    0.681       0.202       0.393   \n",
       "1             1.582   0.861    0.686       0.286       0.340   \n",
       "2             1.590   0.868    0.683       0.284       0.408   \n",
       "3             1.644   0.914    0.677       0.353       0.138   \n",
       "4             1.549   0.927    0.660       0.256       0.357   \n",
       "..              ...     ...      ...         ...         ...   \n",
       "151           1.073   0.343    0.244       0.083       0.064   \n",
       "152           0.991   0.381    0.481       0.270       0.097   \n",
       "153           0.608   0.177    0.112       0.224       0.106   \n",
       "154           0.000   0.010    0.305       0.218       0.038   \n",
       "155           0.627   0.145    0.065       0.149       0.076   \n",
       "\n",
       "     Dystopia_Residual  Year  \n",
       "0                2.585  2018  \n",
       "1                2.383  2018  \n",
       "2                2.371  2018  \n",
       "3                2.426  2018  \n",
       "4                2.318  2018  \n",
       "..                 ...   ...  \n",
       "151              1.106  2018  \n",
       "152              0.628  2018  \n",
       "153              1.690  2018  \n",
       "154              2.488  2018  \n",
       "155              1.752  2018  \n",
       "\n",
       "[156 rows x 11 columns]"
      ]
     },
     "execution_count": 12,
     "metadata": {},
     "output_type": "execute_result"
    }
   ],
   "source": [
    "# choosing index name, calculating Dystopia Residual, renaming and ordering\n",
    "world_happiness_report_2018_df = world_happiness_report_2018_df.reset_index()\n",
    "\n",
    "world_happiness_report_2018_df['Dystopia_Residual'] = 0.00000\n",
    "for x in world_happiness_report_2018_df.index:\n",
    "    world_happiness_report_2018_df['Dystopia_Residual'][x] = (world_happiness_report_2018_df['Score'][x] -\n",
    "                                                              (world_happiness_report_2018_df['GDP per capita'][x] +\n",
    "                                                               world_happiness_report_2018_df['Social support'][x] +\n",
    "                                                               world_happiness_report_2018_df['Healthy life expectancy'][x] +\n",
    "                                                               world_happiness_report_2018_df['Freedom to make life choices'][x] +\n",
    "                                                               world_happiness_report_2018_df['Generosity'][x] +\n",
    "                                                               world_happiness_report_2018_df['Perceptions of corruption'][x]))\n",
    "\n",
    "world_happiness_report_2018_df.rename(columns={'Overall rank': 'Happiness_Rank', 'Country or region': 'Country/Region',\n",
    "                                               'Score': 'Happiness_Score',\n",
    "                                               'GDP per capita': 'GDP_Rating',\n",
    "                                               'Social support': 'Social_Support',\n",
    "                                               'Healthy life expectancy': 'Health',\n",
    "                                               'Freedom to make life choices': 'Freedom',\n",
    "                                               'Perceptions of corruption': 'Corruption', 'Happiness Score': 'Happiness_Score'}, inplace=True)\n",
    "\n",
    "columns_titles = ['Happiness_Rank', 'Country/Region', 'Happiness_Score', 'GDP_Rating', 'Social_Support', 'Health',\n",
    "                  'Freedom', 'Generosity', 'Corruption', 'Dystopia_Residual', 'Year']\n",
    "world_happiness_report_2018_df = world_happiness_report_2018_df.reindex(\n",
    "    columns=columns_titles)\n",
    "\n",
    "world_happiness_report_2018_df"
   ]
  },
  {
   "cell_type": "code",
   "execution_count": 13,
   "metadata": {
    "scrolled": false
   },
   "outputs": [
    {
     "name": "stdout",
     "output_type": "stream",
     "text": [
      "<class 'pandas.core.frame.DataFrame'>\n",
      "RangeIndex: 156 entries, 0 to 155\n",
      "Data columns (total 10 columns):\n",
      " #   Column                        Non-Null Count  Dtype  \n",
      "---  ------                        --------------  -----  \n",
      " 0   Overall rank                  156 non-null    int64  \n",
      " 1   Country or region             156 non-null    object \n",
      " 2   Score                         156 non-null    float64\n",
      " 3   GDP per capita                156 non-null    float64\n",
      " 4   Social support                156 non-null    float64\n",
      " 5   Healthy life expectancy       156 non-null    float64\n",
      " 6   Freedom to make life choices  156 non-null    float64\n",
      " 7   Generosity                    156 non-null    float64\n",
      " 8   Perceptions of corruption     156 non-null    float64\n",
      " 9   Year                          156 non-null    int64  \n",
      "dtypes: float64(7), int64(2), object(1)\n",
      "memory usage: 12.3+ KB\n",
      "None\n"
     ]
    },
    {
     "data": {
      "text/html": [
       "<div>\n",
       "<style scoped>\n",
       "    .dataframe tbody tr th:only-of-type {\n",
       "        vertical-align: middle;\n",
       "    }\n",
       "\n",
       "    .dataframe tbody tr th {\n",
       "        vertical-align: top;\n",
       "    }\n",
       "\n",
       "    .dataframe thead th {\n",
       "        text-align: right;\n",
       "    }\n",
       "</style>\n",
       "<table border=\"1\" class=\"dataframe\">\n",
       "  <thead>\n",
       "    <tr style=\"text-align: right;\">\n",
       "      <th></th>\n",
       "      <th>Happiness_Rank</th>\n",
       "      <th>Country/Region</th>\n",
       "      <th>Happiness_Score</th>\n",
       "      <th>GDP_Rating</th>\n",
       "      <th>Social_Support</th>\n",
       "      <th>Health</th>\n",
       "      <th>Freedom</th>\n",
       "      <th>Generosity</th>\n",
       "      <th>Corruption</th>\n",
       "      <th>Dystopia_Residual</th>\n",
       "      <th>Year</th>\n",
       "    </tr>\n",
       "  </thead>\n",
       "  <tbody>\n",
       "    <tr>\n",
       "      <th>0</th>\n",
       "      <td>1</td>\n",
       "      <td>Finland</td>\n",
       "      <td>7.769</td>\n",
       "      <td>1.340</td>\n",
       "      <td>1.587</td>\n",
       "      <td>0.986</td>\n",
       "      <td>0.596</td>\n",
       "      <td>0.153</td>\n",
       "      <td>0.393</td>\n",
       "      <td>2.714</td>\n",
       "      <td>2019</td>\n",
       "    </tr>\n",
       "    <tr>\n",
       "      <th>1</th>\n",
       "      <td>2</td>\n",
       "      <td>Denmark</td>\n",
       "      <td>7.600</td>\n",
       "      <td>1.383</td>\n",
       "      <td>1.573</td>\n",
       "      <td>0.996</td>\n",
       "      <td>0.592</td>\n",
       "      <td>0.252</td>\n",
       "      <td>0.410</td>\n",
       "      <td>2.394</td>\n",
       "      <td>2019</td>\n",
       "    </tr>\n",
       "    <tr>\n",
       "      <th>2</th>\n",
       "      <td>3</td>\n",
       "      <td>Norway</td>\n",
       "      <td>7.554</td>\n",
       "      <td>1.488</td>\n",
       "      <td>1.582</td>\n",
       "      <td>1.028</td>\n",
       "      <td>0.603</td>\n",
       "      <td>0.271</td>\n",
       "      <td>0.341</td>\n",
       "      <td>2.241</td>\n",
       "      <td>2019</td>\n",
       "    </tr>\n",
       "    <tr>\n",
       "      <th>3</th>\n",
       "      <td>4</td>\n",
       "      <td>Iceland</td>\n",
       "      <td>7.494</td>\n",
       "      <td>1.380</td>\n",
       "      <td>1.624</td>\n",
       "      <td>1.026</td>\n",
       "      <td>0.591</td>\n",
       "      <td>0.354</td>\n",
       "      <td>0.118</td>\n",
       "      <td>2.401</td>\n",
       "      <td>2019</td>\n",
       "    </tr>\n",
       "    <tr>\n",
       "      <th>4</th>\n",
       "      <td>5</td>\n",
       "      <td>Netherlands</td>\n",
       "      <td>7.488</td>\n",
       "      <td>1.396</td>\n",
       "      <td>1.522</td>\n",
       "      <td>0.999</td>\n",
       "      <td>0.557</td>\n",
       "      <td>0.322</td>\n",
       "      <td>0.298</td>\n",
       "      <td>2.394</td>\n",
       "      <td>2019</td>\n",
       "    </tr>\n",
       "    <tr>\n",
       "      <th>...</th>\n",
       "      <td>...</td>\n",
       "      <td>...</td>\n",
       "      <td>...</td>\n",
       "      <td>...</td>\n",
       "      <td>...</td>\n",
       "      <td>...</td>\n",
       "      <td>...</td>\n",
       "      <td>...</td>\n",
       "      <td>...</td>\n",
       "      <td>...</td>\n",
       "      <td>...</td>\n",
       "    </tr>\n",
       "    <tr>\n",
       "      <th>151</th>\n",
       "      <td>152</td>\n",
       "      <td>Rwanda</td>\n",
       "      <td>3.334</td>\n",
       "      <td>0.359</td>\n",
       "      <td>0.711</td>\n",
       "      <td>0.614</td>\n",
       "      <td>0.555</td>\n",
       "      <td>0.217</td>\n",
       "      <td>0.411</td>\n",
       "      <td>0.467</td>\n",
       "      <td>2019</td>\n",
       "    </tr>\n",
       "    <tr>\n",
       "      <th>152</th>\n",
       "      <td>153</td>\n",
       "      <td>Tanzania</td>\n",
       "      <td>3.231</td>\n",
       "      <td>0.476</td>\n",
       "      <td>0.885</td>\n",
       "      <td>0.499</td>\n",
       "      <td>0.417</td>\n",
       "      <td>0.276</td>\n",
       "      <td>0.147</td>\n",
       "      <td>0.531</td>\n",
       "      <td>2019</td>\n",
       "    </tr>\n",
       "    <tr>\n",
       "      <th>153</th>\n",
       "      <td>154</td>\n",
       "      <td>Afghanistan</td>\n",
       "      <td>3.203</td>\n",
       "      <td>0.350</td>\n",
       "      <td>0.517</td>\n",
       "      <td>0.361</td>\n",
       "      <td>0.000</td>\n",
       "      <td>0.158</td>\n",
       "      <td>0.025</td>\n",
       "      <td>1.792</td>\n",
       "      <td>2019</td>\n",
       "    </tr>\n",
       "    <tr>\n",
       "      <th>154</th>\n",
       "      <td>155</td>\n",
       "      <td>Central African Republic</td>\n",
       "      <td>3.083</td>\n",
       "      <td>0.026</td>\n",
       "      <td>0.000</td>\n",
       "      <td>0.105</td>\n",
       "      <td>0.225</td>\n",
       "      <td>0.235</td>\n",
       "      <td>0.035</td>\n",
       "      <td>2.457</td>\n",
       "      <td>2019</td>\n",
       "    </tr>\n",
       "    <tr>\n",
       "      <th>155</th>\n",
       "      <td>156</td>\n",
       "      <td>South Sudan</td>\n",
       "      <td>2.853</td>\n",
       "      <td>0.306</td>\n",
       "      <td>0.575</td>\n",
       "      <td>0.295</td>\n",
       "      <td>0.010</td>\n",
       "      <td>0.202</td>\n",
       "      <td>0.091</td>\n",
       "      <td>1.374</td>\n",
       "      <td>2019</td>\n",
       "    </tr>\n",
       "  </tbody>\n",
       "</table>\n",
       "<p>156 rows × 11 columns</p>\n",
       "</div>"
      ],
      "text/plain": [
       "     Happiness_Rank            Country/Region  Happiness_Score  GDP_Rating  \\\n",
       "0                 1                   Finland            7.769       1.340   \n",
       "1                 2                   Denmark            7.600       1.383   \n",
       "2                 3                    Norway            7.554       1.488   \n",
       "3                 4                   Iceland            7.494       1.380   \n",
       "4                 5               Netherlands            7.488       1.396   \n",
       "..              ...                       ...              ...         ...   \n",
       "151             152                    Rwanda            3.334       0.359   \n",
       "152             153                  Tanzania            3.231       0.476   \n",
       "153             154               Afghanistan            3.203       0.350   \n",
       "154             155  Central African Republic            3.083       0.026   \n",
       "155             156               South Sudan            2.853       0.306   \n",
       "\n",
       "     Social_Support  Health  Freedom  Generosity  Corruption  \\\n",
       "0             1.587   0.986    0.596       0.153       0.393   \n",
       "1             1.573   0.996    0.592       0.252       0.410   \n",
       "2             1.582   1.028    0.603       0.271       0.341   \n",
       "3             1.624   1.026    0.591       0.354       0.118   \n",
       "4             1.522   0.999    0.557       0.322       0.298   \n",
       "..              ...     ...      ...         ...         ...   \n",
       "151           0.711   0.614    0.555       0.217       0.411   \n",
       "152           0.885   0.499    0.417       0.276       0.147   \n",
       "153           0.517   0.361    0.000       0.158       0.025   \n",
       "154           0.000   0.105    0.225       0.235       0.035   \n",
       "155           0.575   0.295    0.010       0.202       0.091   \n",
       "\n",
       "     Dystopia_Residual  Year  \n",
       "0                2.714  2019  \n",
       "1                2.394  2019  \n",
       "2                2.241  2019  \n",
       "3                2.401  2019  \n",
       "4                2.394  2019  \n",
       "..                 ...   ...  \n",
       "151              0.467  2019  \n",
       "152              0.531  2019  \n",
       "153              1.792  2019  \n",
       "154              2.457  2019  \n",
       "155              1.374  2019  \n",
       "\n",
       "[156 rows x 11 columns]"
      ]
     },
     "execution_count": 13,
     "metadata": {},
     "output_type": "execute_result"
    }
   ],
   "source": [
    "# choosing index name, calculating Dystopia Residual, renaming and ordering\n",
    "world_happiness_report_2019_df = world_happiness_report_2019_df.reset_index()\n",
    "print(world_happiness_report_2019_df.info())\n",
    "world_happiness_report_2019_df['Dystopia_Residual'] = 0.00000\n",
    "for x in world_happiness_report_2019_df.index:\n",
    "    world_happiness_report_2019_df['Dystopia_Residual'][x] = (world_happiness_report_2019_df['Score'][x] -\n",
    "                                                              (world_happiness_report_2019_df['GDP per capita'][x] +\n",
    "                                                               world_happiness_report_2019_df['Social support'][x] +\n",
    "                                                               world_happiness_report_2019_df['Healthy life expectancy'][x] +\n",
    "                                                               world_happiness_report_2019_df['Freedom to make life choices'][x] +\n",
    "                                                               world_happiness_report_2019_df['Generosity'][x] +\n",
    "                                                               world_happiness_report_2019_df['Perceptions of corruption'][x]))\n",
    "\n",
    "world_happiness_report_2019_df.rename(columns={'Overall rank': 'Happiness_Rank', 'Country or region': 'Country/Region',\n",
    "                                               'Score': 'Happiness_Score',\n",
    "                                               'GDP per capita': 'GDP_Rating',\n",
    "                                               'Social support': 'Social_Support',\n",
    "                                               'Healthy life expectancy': 'Health',\n",
    "                                               'Freedom to make life choices': 'Freedom',\n",
    "                                               'Perceptions of corruption': 'Corruption'}, inplace=True)\n",
    "\n",
    "columns_titles = ['Happiness_Rank', 'Country/Region', 'Happiness_Score', 'GDP_Rating', 'Social_Support', 'Health',\n",
    "                  'Freedom', 'Generosity', 'Corruption', 'Dystopia_Residual', 'Year']\n",
    "world_happiness_report_2019_df = world_happiness_report_2019_df.reindex(\n",
    "    columns=columns_titles)\n",
    "\n",
    "world_happiness_report_2019_df"
   ]
  },
  {
   "cell_type": "markdown",
   "metadata": {},
   "source": [
    "### Integrating all years "
   ]
  },
  {
   "cell_type": "code",
   "execution_count": 14,
   "metadata": {},
   "outputs": [],
   "source": [
    "frames = [world_happiness_report_2015_df, world_happiness_report_2016_df, world_happiness_report_2017_df,\n",
    "          world_happiness_report_2018_df, world_happiness_report_2019_df]\n",
    "World_Happiness_Report_df = pd.concat(frames)"
   ]
  },
  {
   "cell_type": "code",
   "execution_count": 15,
   "metadata": {
    "scrolled": true
   },
   "outputs": [
    {
     "data": {
      "text/html": [
       "<div>\n",
       "<style scoped>\n",
       "    .dataframe tbody tr th:only-of-type {\n",
       "        vertical-align: middle;\n",
       "    }\n",
       "\n",
       "    .dataframe tbody tr th {\n",
       "        vertical-align: top;\n",
       "    }\n",
       "\n",
       "    .dataframe thead th {\n",
       "        text-align: right;\n",
       "    }\n",
       "</style>\n",
       "<table border=\"1\" class=\"dataframe\">\n",
       "  <thead>\n",
       "    <tr style=\"text-align: right;\">\n",
       "      <th></th>\n",
       "      <th>index</th>\n",
       "      <th>Happiness_Rank</th>\n",
       "      <th>Country/Region</th>\n",
       "      <th>Happiness_Score</th>\n",
       "      <th>GDP_Rating</th>\n",
       "      <th>Social_Support</th>\n",
       "      <th>Health</th>\n",
       "      <th>Freedom</th>\n",
       "      <th>Generosity</th>\n",
       "      <th>Corruption</th>\n",
       "      <th>Dystopia_Residual</th>\n",
       "      <th>Year</th>\n",
       "    </tr>\n",
       "  </thead>\n",
       "  <tbody>\n",
       "    <tr>\n",
       "      <th>0</th>\n",
       "      <td>0</td>\n",
       "      <td>1</td>\n",
       "      <td>Switzerland</td>\n",
       "      <td>7.587</td>\n",
       "      <td>1.39651</td>\n",
       "      <td>1.34951</td>\n",
       "      <td>0.94143</td>\n",
       "      <td>0.66557</td>\n",
       "      <td>0.29678</td>\n",
       "      <td>0.41978</td>\n",
       "      <td>2.51738</td>\n",
       "      <td>2015</td>\n",
       "    </tr>\n",
       "    <tr>\n",
       "      <th>1</th>\n",
       "      <td>1</td>\n",
       "      <td>2</td>\n",
       "      <td>Iceland</td>\n",
       "      <td>7.561</td>\n",
       "      <td>1.30232</td>\n",
       "      <td>1.40223</td>\n",
       "      <td>0.94784</td>\n",
       "      <td>0.62877</td>\n",
       "      <td>0.43630</td>\n",
       "      <td>0.14145</td>\n",
       "      <td>2.70201</td>\n",
       "      <td>2015</td>\n",
       "    </tr>\n",
       "    <tr>\n",
       "      <th>2</th>\n",
       "      <td>2</td>\n",
       "      <td>3</td>\n",
       "      <td>Denmark</td>\n",
       "      <td>7.527</td>\n",
       "      <td>1.32548</td>\n",
       "      <td>1.36058</td>\n",
       "      <td>0.87464</td>\n",
       "      <td>0.64938</td>\n",
       "      <td>0.34139</td>\n",
       "      <td>0.48357</td>\n",
       "      <td>2.49204</td>\n",
       "      <td>2015</td>\n",
       "    </tr>\n",
       "    <tr>\n",
       "      <th>3</th>\n",
       "      <td>3</td>\n",
       "      <td>4</td>\n",
       "      <td>Norway</td>\n",
       "      <td>7.522</td>\n",
       "      <td>1.45900</td>\n",
       "      <td>1.33095</td>\n",
       "      <td>0.88521</td>\n",
       "      <td>0.66973</td>\n",
       "      <td>0.34699</td>\n",
       "      <td>0.36503</td>\n",
       "      <td>2.46531</td>\n",
       "      <td>2015</td>\n",
       "    </tr>\n",
       "    <tr>\n",
       "      <th>4</th>\n",
       "      <td>4</td>\n",
       "      <td>5</td>\n",
       "      <td>Canada</td>\n",
       "      <td>7.427</td>\n",
       "      <td>1.32629</td>\n",
       "      <td>1.32261</td>\n",
       "      <td>0.90563</td>\n",
       "      <td>0.63297</td>\n",
       "      <td>0.45811</td>\n",
       "      <td>0.32957</td>\n",
       "      <td>2.45176</td>\n",
       "      <td>2015</td>\n",
       "    </tr>\n",
       "    <tr>\n",
       "      <th>...</th>\n",
       "      <td>...</td>\n",
       "      <td>...</td>\n",
       "      <td>...</td>\n",
       "      <td>...</td>\n",
       "      <td>...</td>\n",
       "      <td>...</td>\n",
       "      <td>...</td>\n",
       "      <td>...</td>\n",
       "      <td>...</td>\n",
       "      <td>...</td>\n",
       "      <td>...</td>\n",
       "      <td>...</td>\n",
       "    </tr>\n",
       "    <tr>\n",
       "      <th>777</th>\n",
       "      <td>151</td>\n",
       "      <td>152</td>\n",
       "      <td>Rwanda</td>\n",
       "      <td>3.334</td>\n",
       "      <td>0.35900</td>\n",
       "      <td>0.71100</td>\n",
       "      <td>0.61400</td>\n",
       "      <td>0.55500</td>\n",
       "      <td>0.21700</td>\n",
       "      <td>0.41100</td>\n",
       "      <td>0.46700</td>\n",
       "      <td>2019</td>\n",
       "    </tr>\n",
       "    <tr>\n",
       "      <th>778</th>\n",
       "      <td>152</td>\n",
       "      <td>153</td>\n",
       "      <td>Tanzania</td>\n",
       "      <td>3.231</td>\n",
       "      <td>0.47600</td>\n",
       "      <td>0.88500</td>\n",
       "      <td>0.49900</td>\n",
       "      <td>0.41700</td>\n",
       "      <td>0.27600</td>\n",
       "      <td>0.14700</td>\n",
       "      <td>0.53100</td>\n",
       "      <td>2019</td>\n",
       "    </tr>\n",
       "    <tr>\n",
       "      <th>779</th>\n",
       "      <td>153</td>\n",
       "      <td>154</td>\n",
       "      <td>Afghanistan</td>\n",
       "      <td>3.203</td>\n",
       "      <td>0.35000</td>\n",
       "      <td>0.51700</td>\n",
       "      <td>0.36100</td>\n",
       "      <td>0.00000</td>\n",
       "      <td>0.15800</td>\n",
       "      <td>0.02500</td>\n",
       "      <td>1.79200</td>\n",
       "      <td>2019</td>\n",
       "    </tr>\n",
       "    <tr>\n",
       "      <th>780</th>\n",
       "      <td>154</td>\n",
       "      <td>155</td>\n",
       "      <td>Central African Republic</td>\n",
       "      <td>3.083</td>\n",
       "      <td>0.02600</td>\n",
       "      <td>0.00000</td>\n",
       "      <td>0.10500</td>\n",
       "      <td>0.22500</td>\n",
       "      <td>0.23500</td>\n",
       "      <td>0.03500</td>\n",
       "      <td>2.45700</td>\n",
       "      <td>2019</td>\n",
       "    </tr>\n",
       "    <tr>\n",
       "      <th>781</th>\n",
       "      <td>155</td>\n",
       "      <td>156</td>\n",
       "      <td>South Sudan</td>\n",
       "      <td>2.853</td>\n",
       "      <td>0.30600</td>\n",
       "      <td>0.57500</td>\n",
       "      <td>0.29500</td>\n",
       "      <td>0.01000</td>\n",
       "      <td>0.20200</td>\n",
       "      <td>0.09100</td>\n",
       "      <td>1.37400</td>\n",
       "      <td>2019</td>\n",
       "    </tr>\n",
       "  </tbody>\n",
       "</table>\n",
       "<p>782 rows × 12 columns</p>\n",
       "</div>"
      ],
      "text/plain": [
       "     index  Happiness_Rank            Country/Region  Happiness_Score  \\\n",
       "0        0               1               Switzerland            7.587   \n",
       "1        1               2                   Iceland            7.561   \n",
       "2        2               3                   Denmark            7.527   \n",
       "3        3               4                    Norway            7.522   \n",
       "4        4               5                    Canada            7.427   \n",
       "..     ...             ...                       ...              ...   \n",
       "777    151             152                    Rwanda            3.334   \n",
       "778    152             153                  Tanzania            3.231   \n",
       "779    153             154               Afghanistan            3.203   \n",
       "780    154             155  Central African Republic            3.083   \n",
       "781    155             156               South Sudan            2.853   \n",
       "\n",
       "     GDP_Rating  Social_Support   Health  Freedom  Generosity  Corruption  \\\n",
       "0       1.39651         1.34951  0.94143  0.66557     0.29678     0.41978   \n",
       "1       1.30232         1.40223  0.94784  0.62877     0.43630     0.14145   \n",
       "2       1.32548         1.36058  0.87464  0.64938     0.34139     0.48357   \n",
       "3       1.45900         1.33095  0.88521  0.66973     0.34699     0.36503   \n",
       "4       1.32629         1.32261  0.90563  0.63297     0.45811     0.32957   \n",
       "..          ...             ...      ...      ...         ...         ...   \n",
       "777     0.35900         0.71100  0.61400  0.55500     0.21700     0.41100   \n",
       "778     0.47600         0.88500  0.49900  0.41700     0.27600     0.14700   \n",
       "779     0.35000         0.51700  0.36100  0.00000     0.15800     0.02500   \n",
       "780     0.02600         0.00000  0.10500  0.22500     0.23500     0.03500   \n",
       "781     0.30600         0.57500  0.29500  0.01000     0.20200     0.09100   \n",
       "\n",
       "     Dystopia_Residual  Year  \n",
       "0              2.51738  2015  \n",
       "1              2.70201  2015  \n",
       "2              2.49204  2015  \n",
       "3              2.46531  2015  \n",
       "4              2.45176  2015  \n",
       "..                 ...   ...  \n",
       "777            0.46700  2019  \n",
       "778            0.53100  2019  \n",
       "779            1.79200  2019  \n",
       "780            2.45700  2019  \n",
       "781            1.37400  2019  \n",
       "\n",
       "[782 rows x 12 columns]"
      ]
     },
     "execution_count": 15,
     "metadata": {},
     "output_type": "execute_result"
    }
   ],
   "source": [
    "World_Happiness_Report_df.to_csv(\n",
    "    waly_path+'data/All.csv', index=False, header=True)\n",
    "World_Happiness_Report_df = World_Happiness_Report_df.reset_index()\n",
    "World_Happiness_Report_df"
   ]
  },
  {
   "cell_type": "markdown",
   "metadata": {},
   "source": [
    "## 250 Country Data"
   ]
  },
  {
   "cell_type": "markdown",
   "metadata": {},
   "source": [
    "Read the Country_Data_250 then rename the column name to match the naming convention and the other 2 datasets. The Remove_Percentage_Year function is used to remove any strings from Real_Growth_Rating_Percentage, Literacy_Rate_Percentage, Inflation_Percentage and Unemployment_Percentage columns then transform the columns from objects to nuemeric. Fill the Nans in the grouped average mean of Real_Growth_Rating_Percentage, Literacy_Rate_Percentage, Inflation_Percentage and Unemployement_Percentage according to the Subregion. Drop the unused columns. Label encode the status so that 0 for developed countries and 1 for developing."
   ]
  },
  {
   "cell_type": "code",
   "execution_count": 16,
   "metadata": {},
   "outputs": [
    {
     "name": "stdout",
     "output_type": "stream",
     "text": [
      "7\n",
      "23\n"
     ]
    },
    {
     "data": {
      "text/html": [
       "<div>\n",
       "<style scoped>\n",
       "    .dataframe tbody tr th:only-of-type {\n",
       "        vertical-align: middle;\n",
       "    }\n",
       "\n",
       "    .dataframe tbody tr th {\n",
       "        vertical-align: top;\n",
       "    }\n",
       "\n",
       "    .dataframe thead th {\n",
       "        text-align: right;\n",
       "    }\n",
       "</style>\n",
       "<table border=\"1\" class=\"dataframe\">\n",
       "  <thead>\n",
       "    <tr style=\"text-align: right;\">\n",
       "      <th></th>\n",
       "      <th>Country/Region</th>\n",
       "      <th>Population</th>\n",
       "      <th>Real_Growth_Rating_Percentage</th>\n",
       "      <th>Literacy_Rate_Percentage</th>\n",
       "      <th>Inflation_Percentage</th>\n",
       "      <th>Unemployment_Percentage</th>\n",
       "    </tr>\n",
       "    <tr>\n",
       "      <th>Rank</th>\n",
       "      <th></th>\n",
       "      <th></th>\n",
       "      <th></th>\n",
       "      <th></th>\n",
       "      <th></th>\n",
       "      <th></th>\n",
       "    </tr>\n",
       "  </thead>\n",
       "  <tbody>\n",
       "    <tr>\n",
       "      <th>0</th>\n",
       "      <td>Afghanistan</td>\n",
       "      <td>27657145</td>\n",
       "      <td>3.100000</td>\n",
       "      <td>28.100000</td>\n",
       "      <td>6.800000</td>\n",
       "      <td>35.000000</td>\n",
       "    </tr>\n",
       "    <tr>\n",
       "      <th>1</th>\n",
       "      <td>Åland Islands</td>\n",
       "      <td>28875</td>\n",
       "      <td>1.710000</td>\n",
       "      <td>99.285714</td>\n",
       "      <td>1.560000</td>\n",
       "      <td>8.420000</td>\n",
       "    </tr>\n",
       "    <tr>\n",
       "      <th>2</th>\n",
       "      <td>Albania</td>\n",
       "      <td>2886026</td>\n",
       "      <td>0.700000</td>\n",
       "      <td>98.700000</td>\n",
       "      <td>1.700000</td>\n",
       "      <td>16.900000</td>\n",
       "    </tr>\n",
       "    <tr>\n",
       "      <th>3</th>\n",
       "      <td>Algeria</td>\n",
       "      <td>40400000</td>\n",
       "      <td>3.100000</td>\n",
       "      <td>79.000000</td>\n",
       "      <td>3.900000</td>\n",
       "      <td>10.300000</td>\n",
       "    </tr>\n",
       "    <tr>\n",
       "      <th>4</th>\n",
       "      <td>American Samoa</td>\n",
       "      <td>57100</td>\n",
       "      <td>3.000000</td>\n",
       "      <td>97.000000</td>\n",
       "      <td>2.400000</td>\n",
       "      <td>17.400000</td>\n",
       "    </tr>\n",
       "    <tr>\n",
       "      <th>...</th>\n",
       "      <td>...</td>\n",
       "      <td>...</td>\n",
       "      <td>...</td>\n",
       "      <td>...</td>\n",
       "      <td>...</td>\n",
       "      <td>...</td>\n",
       "    </tr>\n",
       "    <tr>\n",
       "      <th>245</th>\n",
       "      <td>Wallis and Futuna</td>\n",
       "      <td>11750</td>\n",
       "      <td>1.880000</td>\n",
       "      <td>98.200000</td>\n",
       "      <td>2.400000</td>\n",
       "      <td>17.400000</td>\n",
       "    </tr>\n",
       "    <tr>\n",
       "      <th>246</th>\n",
       "      <td>Western Sahara</td>\n",
       "      <td>510713</td>\n",
       "      <td>3.633333</td>\n",
       "      <td>76.983333</td>\n",
       "      <td>8.200000</td>\n",
       "      <td>16.800000</td>\n",
       "    </tr>\n",
       "    <tr>\n",
       "      <th>247</th>\n",
       "      <td>Yemen</td>\n",
       "      <td>27478000</td>\n",
       "      <td>3.800000</td>\n",
       "      <td>65.300000</td>\n",
       "      <td>11.800000</td>\n",
       "      <td>35.000000</td>\n",
       "    </tr>\n",
       "    <tr>\n",
       "      <th>248</th>\n",
       "      <td>Zambia</td>\n",
       "      <td>15933883</td>\n",
       "      <td>6.000000</td>\n",
       "      <td>61.400000</td>\n",
       "      <td>7.100000</td>\n",
       "      <td>15.000000</td>\n",
       "    </tr>\n",
       "    <tr>\n",
       "      <th>249</th>\n",
       "      <td>Zimbabwe</td>\n",
       "      <td>14240168</td>\n",
       "      <td>4.812500</td>\n",
       "      <td>69.650000</td>\n",
       "      <td>7.507692</td>\n",
       "      <td>25.866667</td>\n",
       "    </tr>\n",
       "  </tbody>\n",
       "</table>\n",
       "<p>247 rows × 6 columns</p>\n",
       "</div>"
      ],
      "text/plain": [
       "         Country/Region  Population  Real_Growth_Rating_Percentage  \\\n",
       "Rank                                                                 \n",
       "0           Afghanistan    27657145                       3.100000   \n",
       "1         Åland Islands       28875                       1.710000   \n",
       "2               Albania     2886026                       0.700000   \n",
       "3               Algeria    40400000                       3.100000   \n",
       "4        American Samoa       57100                       3.000000   \n",
       "...                 ...         ...                            ...   \n",
       "245   Wallis and Futuna       11750                       1.880000   \n",
       "246      Western Sahara      510713                       3.633333   \n",
       "247               Yemen    27478000                       3.800000   \n",
       "248              Zambia    15933883                       6.000000   \n",
       "249            Zimbabwe    14240168                       4.812500   \n",
       "\n",
       "      Literacy_Rate_Percentage  Inflation_Percentage  Unemployment_Percentage  \n",
       "Rank                                                                           \n",
       "0                    28.100000              6.800000                35.000000  \n",
       "1                    99.285714              1.560000                 8.420000  \n",
       "2                    98.700000              1.700000                16.900000  \n",
       "3                    79.000000              3.900000                10.300000  \n",
       "4                    97.000000              2.400000                17.400000  \n",
       "...                        ...                   ...                      ...  \n",
       "245                  98.200000              2.400000                17.400000  \n",
       "246                  76.983333              8.200000                16.800000  \n",
       "247                  65.300000             11.800000                35.000000  \n",
       "248                  61.400000              7.100000                15.000000  \n",
       "249                  69.650000              7.507692                25.866667  \n",
       "\n",
       "[247 rows x 6 columns]"
      ]
     },
     "execution_count": 16,
     "metadata": {},
     "output_type": "execute_result"
    }
   ],
   "source": [
    "# changing name to Country/Region, dropping region and subregion to be compatable with world happiness report\n",
    "Country_Data_250_df.index.names = ['Rank']\n",
    "\n",
    "\n",
    "Country_Data_250_df.rename(columns={'name': 'Country/Region', 'population': 'Population', 'area': \"Area\", 'gini': 'Gini', \"Literacy Rate(%)\": \"Literacy_Rate_Percentage\",\n",
    "                                    'Real Growth Rating(%)': 'Real_Growth_Rating_Percentage', 'Inflation(%)': 'Inflation_Percentage', 'Unemployement(%)': 'Unemployment_Percentage'}, inplace=True)\n",
    "# Clean the data by removing the strings\n",
    "Remove_Percentage_Year(Country_Data_250_df)\n",
    "# fill nans with the mean of each region\n",
    "print(Country_Data_250_df.region.unique().size)\n",
    "print(Country_Data_250_df.subregion.unique().size)\n",
    "Country_Data_250_df.dropna(subset=['subregion'], inplace=True)\n",
    "Replace_NAN_With_Group_Mean(Country_Data_250_df, [\n",
    "                            'Real_Growth_Rating_Percentage', 'Literacy_Rate_Percentage', 'Inflation_Percentage', 'Unemployment_Percentage'], 'subregion')\n",
    "\n",
    "\n",
    "Country_Data_250_df.drop(\n",
    "    ['region', 'subregion', 'Gini', 'Area'], axis=1, inplace=True)\n",
    "Country_Data_250_df"
   ]
  },
  {
   "cell_type": "code",
   "execution_count": 17,
   "metadata": {},
   "outputs": [
    {
     "data": {
      "text/plain": [
       "Country/Region                   0\n",
       "Population                       0\n",
       "Real_Growth_Rating_Percentage    0\n",
       "Literacy_Rate_Percentage         0\n",
       "Inflation_Percentage             0\n",
       "Unemployment_Percentage          0\n",
       "dtype: int64"
      ]
     },
     "execution_count": 17,
     "metadata": {},
     "output_type": "execute_result"
    }
   ],
   "source": [
    "Country_Data_250_df.isnull().sum()"
   ]
  },
  {
   "cell_type": "markdown",
   "metadata": {},
   "source": [
    "## Life Expectancy Data"
   ]
  },
  {
   "cell_type": "markdown",
   "metadata": {},
   "source": [
    "Read the Life Expectancy Data, then rename the column name to match the naming convention. Fill the Nans in the grouped average mean of Hepatitis B, Polio and Dipetheria according to the Country/Region. Then Feature Engineer the feature Vaccination. Drop the unused columns."
   ]
  },
  {
   "cell_type": "code",
   "execution_count": 18,
   "metadata": {},
   "outputs": [],
   "source": [
    "Life_Expectancy_Data_df = load_data(\n",
    "    waly_path + 'data/Life Expectancy Data.csv')\n",
    "Life_Expectancy_Data_df = Life_Expectancy_Data_df.reset_index()\n",
    "Life_Expectancy_Data_df.rename(columns={'Country': 'Country/Region', 'infant deaths': 'Infant_Deaths', 'Life expectancy ': 'Life_Expectancy', 'percentage expenditure': 'Percentage_Expenditure', 'Measles ': 'Measles',\n",
    "                                        ' BMI ': 'BMI', 'under-five deaths ': 'Under-Five_Deaths', 'Total expenditure': 'Total_Expenditure', 'Diphtheria ': 'Diphtheria',\n",
    "                                        ' HIV/AIDS': 'HIV/AIDS', 'Adult Mortality': 'Adult_Mortality', ' thinness  1-19 years': 'Thinness_1-19_Years', ' thinness 5-9 years': 'Thinness_5-9_Years', 'Income composition of resources': 'Income_Composition_of_Resources', \"Hepatitis B\": 'Hepatitis_B'}, inplace=True)\n",
    "\n",
    "Replace_NAN_With_Group_Mean(Life_Expectancy_Data_df, [\n",
    "                            'Hepatitis_B', 'Polio', 'Diphtheria'], 'Country/Region')\n",
    "\n",
    "\n",
    "Life_Expectancy_Data_df[\"Vaccination\"] = Life_Expectancy_Data_df[\"Hepatitis_B\"] + \\\n",
    "    Life_Expectancy_Data_df[\"Polio\"] + Life_Expectancy_Data_df[\"Diphtheria\"]\n",
    "\n",
    "\n",
    "Life_Expectancy_Data_df.drop(['Hepatitis_B', 'Polio', 'Diphtheria', 'Measles', 'Thinness_1-19_Years',\n",
    "                              'Thinness_5-9_Years', 'Under-Five_Deaths', 'Population', 'HIV/AIDS'], axis=1, inplace=True)"
   ]
  },
  {
   "cell_type": "code",
   "execution_count": 19,
   "metadata": {},
   "outputs": [
    {
     "name": "stdout",
     "output_type": "stream",
     "text": [
      "<class 'pandas.core.frame.DataFrame'>\n",
      "RangeIndex: 2938 entries, 0 to 2937\n",
      "Data columns (total 14 columns):\n",
      " #   Column                           Non-Null Count  Dtype  \n",
      "---  ------                           --------------  -----  \n",
      " 0   Country/Region                   2938 non-null   object \n",
      " 1   Year                             2938 non-null   int64  \n",
      " 2   Status                           2938 non-null   object \n",
      " 3   Life_Expectancy                  2928 non-null   float64\n",
      " 4   Adult_Mortality                  2928 non-null   float64\n",
      " 5   Infant_Deaths                    2938 non-null   int64  \n",
      " 6   Alcohol                          2744 non-null   float64\n",
      " 7   Percentage_Expenditure           2938 non-null   float64\n",
      " 8   BMI                              2904 non-null   float64\n",
      " 9   Total_Expenditure                2712 non-null   float64\n",
      " 10  GDP                              2490 non-null   float64\n",
      " 11  Income_Composition_of_Resources  2771 non-null   float64\n",
      " 12  Schooling                        2775 non-null   float64\n",
      " 13  Vaccination                      2794 non-null   float64\n",
      "dtypes: float64(10), int64(2), object(2)\n",
      "memory usage: 321.5+ KB\n"
     ]
    }
   ],
   "source": [
    "Life_Expectancy_Data_df.info()"
   ]
  },
  {
   "cell_type": "markdown",
   "metadata": {},
   "source": [
    "## Change the Country names into the same name across the 3 datasets"
   ]
  },
  {
   "cell_type": "markdown",
   "metadata": {},
   "source": [
    "The Function Clean_Country_Names changes the names of the countries so all 3 datasets countries match each other."
   ]
  },
  {
   "cell_type": "code",
   "execution_count": 20,
   "metadata": {},
   "outputs": [],
   "source": [
    "Clean_Country_Names(World_Happiness_Report_df)\n",
    "Clean_Country_Names(Country_Data_250_df)\n",
    "Clean_Country_Names(Life_Expectancy_Data_df)"
   ]
  },
  {
   "cell_type": "markdown",
   "metadata": {},
   "source": [
    "# Label encoding"
   ]
  },
  {
   "cell_type": "markdown",
   "metadata": {},
   "source": [
    " Label encode the Life Expectancy status column so that 0 for developed countries and 1 for developing."
   ]
  },
  {
   "cell_type": "code",
   "execution_count": 21,
   "metadata": {},
   "outputs": [],
   "source": [
    "label_encoding = preprocessing.LabelEncoder()\n",
    "Life_Expectancy_Data_df_encode = Life_Expectancy_Data_df.copy()\n",
    "Life_Expectancy_Data_df_encode['Status'] = label_encoding.fit_transform(\n",
    "    Life_Expectancy_Data_df_encode['Status'])"
   ]
  },
  {
   "cell_type": "markdown",
   "metadata": {},
   "source": [
    "# Adding the webscraped data to dataframes"
   ]
  },
  {
   "cell_type": "markdown",
   "metadata": {},
   "source": [
    "## Landlocked to 250 Countries"
   ]
  },
  {
   "cell_type": "markdown",
   "metadata": {},
   "source": [
    "1 in landlocked column means this is a landlocked country while, a 0 means thats a not landlocked country."
   ]
  },
  {
   "cell_type": "code",
   "execution_count": 22,
   "metadata": {},
   "outputs": [],
   "source": [
    "landlocked_250 = Country_Data_250_df.copy()\n",
    "landlocked_250['Landlocked'] = 0\n",
    "for x in landlocked_250.index:\n",
    "    country = landlocked_250['Country/Region'][x]\n",
    "    if country in landlocked_countries_cleaned['Country/Region'].values:\n",
    "        landlocked_250['Landlocked'][x] = 1\n",
    "Country_Data_250_df = landlocked_250.copy()"
   ]
  },
  {
   "cell_type": "markdown",
   "metadata": {},
   "source": [
    "## GDP to Life Expectancy"
   ]
  },
  {
   "cell_type": "code",
   "execution_count": 23,
   "metadata": {},
   "outputs": [],
   "source": [
    "gdp_per_capita_df = pd.DataFrame(columns=[\"Country/Region\", \"Year\", \"GDP\"])\n",
    "for country in gdp_per_capita:\n",
    "    for entry in country:\n",
    "        gdp_per_capita_df = gdp_per_capita_df.append(\n",
    "            {'Country/Region': entry[0], 'Year': entry[1], 'GDP': entry[2]}, ignore_index=True)\n",
    "\n",
    "Clean_Country_Names(gdp_per_capita_df)"
   ]
  },
  {
   "cell_type": "code",
   "execution_count": 24,
   "metadata": {},
   "outputs": [],
   "source": [
    "for row in Life_Expectancy_Data_df_encode.index:\n",
    "    if(isNan(Life_Expectancy_Data_df_encode['GDP'][row])):\n",
    "        name = Life_Expectancy_Data_df_encode.loc[row]['Country/Region']\n",
    "        year = Life_Expectancy_Data_df_encode.loc[row]['Year']\n",
    "        if name in gdp_per_capita_df['Country/Region'].values and year in gdp_per_capita_df['Year'].values:\n",
    "            x = gdp_per_capita_df.loc[(\n",
    "                gdp_per_capita_df['Country/Region'] == name) & (gdp_per_capita_df['Year'] == year)]\n",
    "            Life_Expectancy_Data_df_encode['GDP'][row] = x['GDP']"
   ]
  },
  {
   "cell_type": "markdown",
   "metadata": {},
   "source": [
    "# Resolve redundant countries by getting the average across the years"
   ]
  },
  {
   "cell_type": "code",
   "execution_count": 25,
   "metadata": {},
   "outputs": [
    {
     "data": {
      "text/html": [
       "<div>\n",
       "<style scoped>\n",
       "    .dataframe tbody tr th:only-of-type {\n",
       "        vertical-align: middle;\n",
       "    }\n",
       "\n",
       "    .dataframe tbody tr th {\n",
       "        vertical-align: top;\n",
       "    }\n",
       "\n",
       "    .dataframe thead th {\n",
       "        text-align: right;\n",
       "    }\n",
       "</style>\n",
       "<table border=\"1\" class=\"dataframe\">\n",
       "  <thead>\n",
       "    <tr style=\"text-align: right;\">\n",
       "      <th></th>\n",
       "      <th>Country/Region</th>\n",
       "      <th>Year</th>\n",
       "      <th>Status</th>\n",
       "      <th>Life_Expectancy</th>\n",
       "      <th>Adult_Mortality</th>\n",
       "      <th>Infant_Deaths</th>\n",
       "      <th>Alcohol</th>\n",
       "      <th>Percentage_Expenditure</th>\n",
       "      <th>BMI</th>\n",
       "      <th>Total_Expenditure</th>\n",
       "      <th>GDP</th>\n",
       "      <th>Income_Composition_of_Resources</th>\n",
       "      <th>Schooling</th>\n",
       "      <th>Vaccination</th>\n",
       "    </tr>\n",
       "  </thead>\n",
       "  <tbody>\n",
       "    <tr>\n",
       "      <th>0</th>\n",
       "      <td>Afghanistan</td>\n",
       "      <td>2007.5</td>\n",
       "      <td>1</td>\n",
       "      <td>58.19375</td>\n",
       "      <td>269.0625</td>\n",
       "      <td>78.2500</td>\n",
       "      <td>0.014375</td>\n",
       "      <td>34.960110</td>\n",
       "      <td>15.51875</td>\n",
       "      <td>8.252500</td>\n",
       "      <td>340.015425</td>\n",
       "      <td>0.415375</td>\n",
       "      <td>8.21250</td>\n",
       "      <td>165.250000</td>\n",
       "    </tr>\n",
       "    <tr>\n",
       "      <th>1</th>\n",
       "      <td>Albania</td>\n",
       "      <td>2007.5</td>\n",
       "      <td>1</td>\n",
       "      <td>75.15625</td>\n",
       "      <td>45.0625</td>\n",
       "      <td>0.6875</td>\n",
       "      <td>4.848750</td>\n",
       "      <td>193.259091</td>\n",
       "      <td>49.06875</td>\n",
       "      <td>5.945625</td>\n",
       "      <td>2119.726679</td>\n",
       "      <td>0.709875</td>\n",
       "      <td>12.13750</td>\n",
       "      <td>294.187500</td>\n",
       "    </tr>\n",
       "    <tr>\n",
       "      <th>2</th>\n",
       "      <td>Algeria</td>\n",
       "      <td>2007.5</td>\n",
       "      <td>1</td>\n",
       "      <td>73.61875</td>\n",
       "      <td>108.1875</td>\n",
       "      <td>20.3125</td>\n",
       "      <td>0.406667</td>\n",
       "      <td>236.185241</td>\n",
       "      <td>48.74375</td>\n",
       "      <td>4.604000</td>\n",
       "      <td>2847.853392</td>\n",
       "      <td>0.694875</td>\n",
       "      <td>12.71250</td>\n",
       "      <td>261.625000</td>\n",
       "    </tr>\n",
       "    <tr>\n",
       "      <th>3</th>\n",
       "      <td>Angola</td>\n",
       "      <td>2007.5</td>\n",
       "      <td>1</td>\n",
       "      <td>49.01875</td>\n",
       "      <td>328.5625</td>\n",
       "      <td>83.7500</td>\n",
       "      <td>5.740667</td>\n",
       "      <td>102.100268</td>\n",
       "      <td>18.01875</td>\n",
       "      <td>3.919333</td>\n",
       "      <td>1975.143045</td>\n",
       "      <td>0.458375</td>\n",
       "      <td>8.04375</td>\n",
       "      <td>164.034722</td>\n",
       "    </tr>\n",
       "    <tr>\n",
       "      <th>4</th>\n",
       "      <td>Antigua and Barbuda</td>\n",
       "      <td>2007.5</td>\n",
       "      <td>1</td>\n",
       "      <td>75.05625</td>\n",
       "      <td>127.5000</td>\n",
       "      <td>0.0000</td>\n",
       "      <td>7.949333</td>\n",
       "      <td>1001.585226</td>\n",
       "      <td>38.42500</td>\n",
       "      <td>4.791333</td>\n",
       "      <td>9759.305728</td>\n",
       "      <td>0.488625</td>\n",
       "      <td>8.84375</td>\n",
       "      <td>293.516667</td>\n",
       "    </tr>\n",
       "    <tr>\n",
       "      <th>...</th>\n",
       "      <td>...</td>\n",
       "      <td>...</td>\n",
       "      <td>...</td>\n",
       "      <td>...</td>\n",
       "      <td>...</td>\n",
       "      <td>...</td>\n",
       "      <td>...</td>\n",
       "      <td>...</td>\n",
       "      <td>...</td>\n",
       "      <td>...</td>\n",
       "      <td>...</td>\n",
       "      <td>...</td>\n",
       "      <td>...</td>\n",
       "      <td>...</td>\n",
       "    </tr>\n",
       "    <tr>\n",
       "      <th>188</th>\n",
       "      <td>Venezuela</td>\n",
       "      <td>2007.5</td>\n",
       "      <td>1</td>\n",
       "      <td>73.38750</td>\n",
       "      <td>163.0000</td>\n",
       "      <td>9.3750</td>\n",
       "      <td>7.420000</td>\n",
       "      <td>0.000000</td>\n",
       "      <td>54.48750</td>\n",
       "      <td>4.998667</td>\n",
       "      <td>8759.732400</td>\n",
       "      <td>0.726812</td>\n",
       "      <td>12.78750</td>\n",
       "      <td>209.437500</td>\n",
       "    </tr>\n",
       "    <tr>\n",
       "      <th>189</th>\n",
       "      <td>Vietnam</td>\n",
       "      <td>2007.5</td>\n",
       "      <td>1</td>\n",
       "      <td>74.77500</td>\n",
       "      <td>126.5625</td>\n",
       "      <td>29.1875</td>\n",
       "      <td>3.087333</td>\n",
       "      <td>0.000000</td>\n",
       "      <td>11.18750</td>\n",
       "      <td>5.977333</td>\n",
       "      <td>1098.591025</td>\n",
       "      <td>0.627063</td>\n",
       "      <td>11.51250</td>\n",
       "      <td>274.225962</td>\n",
       "    </tr>\n",
       "    <tr>\n",
       "      <th>190</th>\n",
       "      <td>Yemen</td>\n",
       "      <td>2007.5</td>\n",
       "      <td>1</td>\n",
       "      <td>63.86250</td>\n",
       "      <td>211.8125</td>\n",
       "      <td>39.3750</td>\n",
       "      <td>0.047333</td>\n",
       "      <td>0.000000</td>\n",
       "      <td>33.48750</td>\n",
       "      <td>5.005333</td>\n",
       "      <td>1060.223562</td>\n",
       "      <td>0.475500</td>\n",
       "      <td>8.50625</td>\n",
       "      <td>195.437500</td>\n",
       "    </tr>\n",
       "    <tr>\n",
       "      <th>191</th>\n",
       "      <td>Zambia</td>\n",
       "      <td>2007.5</td>\n",
       "      <td>1</td>\n",
       "      <td>53.90625</td>\n",
       "      <td>354.3125</td>\n",
       "      <td>33.4375</td>\n",
       "      <td>2.239333</td>\n",
       "      <td>89.650407</td>\n",
       "      <td>17.45000</td>\n",
       "      <td>5.824000</td>\n",
       "      <td>811.811841</td>\n",
       "      <td>0.498437</td>\n",
       "      <td>11.21250</td>\n",
       "      <td>208.443182</td>\n",
       "    </tr>\n",
       "    <tr>\n",
       "      <th>192</th>\n",
       "      <td>Zimbabwe</td>\n",
       "      <td>2007.5</td>\n",
       "      <td>1</td>\n",
       "      <td>50.48750</td>\n",
       "      <td>462.3750</td>\n",
       "      <td>26.5625</td>\n",
       "      <td>4.482000</td>\n",
       "      <td>20.364271</td>\n",
       "      <td>25.13750</td>\n",
       "      <td>6.158667</td>\n",
       "      <td>410.980194</td>\n",
       "      <td>0.439125</td>\n",
       "      <td>9.82500</td>\n",
       "      <td>221.375000</td>\n",
       "    </tr>\n",
       "  </tbody>\n",
       "</table>\n",
       "<p>193 rows × 14 columns</p>\n",
       "</div>"
      ],
      "text/plain": [
       "          Country/Region    Year  Status  Life_Expectancy  Adult_Mortality  \\\n",
       "0            Afghanistan  2007.5       1         58.19375         269.0625   \n",
       "1                Albania  2007.5       1         75.15625          45.0625   \n",
       "2                Algeria  2007.5       1         73.61875         108.1875   \n",
       "3                 Angola  2007.5       1         49.01875         328.5625   \n",
       "4    Antigua and Barbuda  2007.5       1         75.05625         127.5000   \n",
       "..                   ...     ...     ...              ...              ...   \n",
       "188            Venezuela  2007.5       1         73.38750         163.0000   \n",
       "189              Vietnam  2007.5       1         74.77500         126.5625   \n",
       "190                Yemen  2007.5       1         63.86250         211.8125   \n",
       "191               Zambia  2007.5       1         53.90625         354.3125   \n",
       "192             Zimbabwe  2007.5       1         50.48750         462.3750   \n",
       "\n",
       "     Infant_Deaths   Alcohol  Percentage_Expenditure       BMI  \\\n",
       "0          78.2500  0.014375               34.960110  15.51875   \n",
       "1           0.6875  4.848750              193.259091  49.06875   \n",
       "2          20.3125  0.406667              236.185241  48.74375   \n",
       "3          83.7500  5.740667              102.100268  18.01875   \n",
       "4           0.0000  7.949333             1001.585226  38.42500   \n",
       "..             ...       ...                     ...       ...   \n",
       "188         9.3750  7.420000                0.000000  54.48750   \n",
       "189        29.1875  3.087333                0.000000  11.18750   \n",
       "190        39.3750  0.047333                0.000000  33.48750   \n",
       "191        33.4375  2.239333               89.650407  17.45000   \n",
       "192        26.5625  4.482000               20.364271  25.13750   \n",
       "\n",
       "     Total_Expenditure          GDP  Income_Composition_of_Resources  \\\n",
       "0             8.252500   340.015425                         0.415375   \n",
       "1             5.945625  2119.726679                         0.709875   \n",
       "2             4.604000  2847.853392                         0.694875   \n",
       "3             3.919333  1975.143045                         0.458375   \n",
       "4             4.791333  9759.305728                         0.488625   \n",
       "..                 ...          ...                              ...   \n",
       "188           4.998667  8759.732400                         0.726812   \n",
       "189           5.977333  1098.591025                         0.627063   \n",
       "190           5.005333  1060.223562                         0.475500   \n",
       "191           5.824000   811.811841                         0.498437   \n",
       "192           6.158667   410.980194                         0.439125   \n",
       "\n",
       "     Schooling  Vaccination  \n",
       "0      8.21250   165.250000  \n",
       "1     12.13750   294.187500  \n",
       "2     12.71250   261.625000  \n",
       "3      8.04375   164.034722  \n",
       "4      8.84375   293.516667  \n",
       "..         ...          ...  \n",
       "188   12.78750   209.437500  \n",
       "189   11.51250   274.225962  \n",
       "190    8.50625   195.437500  \n",
       "191   11.21250   208.443182  \n",
       "192    9.82500   221.375000  \n",
       "\n",
       "[193 rows x 14 columns]"
      ]
     },
     "execution_count": 25,
     "metadata": {},
     "output_type": "execute_result"
    }
   ],
   "source": [
    "Life_Expectancy_Data_df_Reduced = Life_Expectancy_Data_df_encode.groupby(\n",
    "    'Country/Region').mean()\n",
    "Life_Expectancy_Data_df_Reduced = Life_Expectancy_Data_df_Reduced.reset_index()\n",
    "Life_Expectancy_Data_df_Reduced"
   ]
  },
  {
   "cell_type": "code",
   "execution_count": 26,
   "metadata": {},
   "outputs": [],
   "source": [
    "World_Happiness_Report_df_Reduced = World_Happiness_Report_df.copy()\n",
    "World_Happiness_Report_df_Reduced = World_Happiness_Report_df_Reduced.groupby(\n",
    "    'Country/Region').mean()\n",
    "World_Happiness_Report_df_Reduced = World_Happiness_Report_df_Reduced.reset_index()\n",
    "World_Happiness_Report_df_Reduced.drop(['Year'], axis=1, inplace=True)"
   ]
  },
  {
   "cell_type": "code",
   "execution_count": 27,
   "metadata": {},
   "outputs": [
    {
     "data": {
      "text/plain": [
       "Country/Region                      0\n",
       "Year                                0\n",
       "Status                              0\n",
       "Life_Expectancy                    10\n",
       "Adult_Mortality                    10\n",
       "Infant_Deaths                       0\n",
       "Alcohol                             2\n",
       "Percentage_Expenditure              0\n",
       "BMI                                 4\n",
       "Total_Expenditure                   2\n",
       "GDP                                 4\n",
       "Income_Composition_of_Resources    17\n",
       "Schooling                          13\n",
       "Vaccination                         9\n",
       "dtype: int64"
      ]
     },
     "execution_count": 27,
     "metadata": {},
     "output_type": "execute_result"
    }
   ],
   "source": [
    "Life_Expectancy_Data_df_Reduced.isnull().sum()"
   ]
  },
  {
   "cell_type": "markdown",
   "metadata": {},
   "source": [
    "# Merge the 3 Datasets together"
   ]
  },
  {
   "cell_type": "markdown",
   "metadata": {},
   "source": [
    "Merge the 3 dataset by using the pd.merge fuction with the inner join method on the Country/Region method to merge on only common Countries between each datasets"
   ]
  },
  {
   "cell_type": "code",
   "execution_count": 28,
   "metadata": {
    "scrolled": true
   },
   "outputs": [
    {
     "data": {
      "text/html": [
       "<div>\n",
       "<style scoped>\n",
       "    .dataframe tbody tr th:only-of-type {\n",
       "        vertical-align: middle;\n",
       "    }\n",
       "\n",
       "    .dataframe tbody tr th {\n",
       "        vertical-align: top;\n",
       "    }\n",
       "\n",
       "    .dataframe thead th {\n",
       "        text-align: right;\n",
       "    }\n",
       "</style>\n",
       "<table border=\"1\" class=\"dataframe\">\n",
       "  <thead>\n",
       "    <tr style=\"text-align: right;\">\n",
       "      <th></th>\n",
       "      <th>Country/Region</th>\n",
       "      <th>index</th>\n",
       "      <th>Happiness_Rank</th>\n",
       "      <th>Happiness_Score</th>\n",
       "      <th>GDP_Rating</th>\n",
       "      <th>Social_Support</th>\n",
       "      <th>Health</th>\n",
       "      <th>Freedom</th>\n",
       "      <th>Generosity</th>\n",
       "      <th>Corruption</th>\n",
       "      <th>...</th>\n",
       "      <th>GDP</th>\n",
       "      <th>Income_Composition_of_Resources</th>\n",
       "      <th>Schooling</th>\n",
       "      <th>Vaccination</th>\n",
       "      <th>Population</th>\n",
       "      <th>Real_Growth_Rating_Percentage</th>\n",
       "      <th>Literacy_Rate_Percentage</th>\n",
       "      <th>Inflation_Percentage</th>\n",
       "      <th>Unemployment_Percentage</th>\n",
       "      <th>Landlocked</th>\n",
       "    </tr>\n",
       "  </thead>\n",
       "  <tbody>\n",
       "    <tr>\n",
       "      <th>0</th>\n",
       "      <td>Afghanistan</td>\n",
       "      <td>148.4</td>\n",
       "      <td>149.4</td>\n",
       "      <td>3.51280</td>\n",
       "      <td>0.357113</td>\n",
       "      <td>0.409753</td>\n",
       "      <td>0.254707</td>\n",
       "      <td>0.117924</td>\n",
       "      <td>0.267730</td>\n",
       "      <td>0.058094</td>\n",
       "      <td>...</td>\n",
       "      <td>340.015425</td>\n",
       "      <td>0.415375</td>\n",
       "      <td>8.21250</td>\n",
       "      <td>165.250000</td>\n",
       "      <td>27657145</td>\n",
       "      <td>3.100000</td>\n",
       "      <td>28.10</td>\n",
       "      <td>6.800000</td>\n",
       "      <td>35.000000</td>\n",
       "      <td>1</td>\n",
       "    </tr>\n",
       "    <tr>\n",
       "      <th>1</th>\n",
       "      <td>Albania</td>\n",
       "      <td>105.4</td>\n",
       "      <td>106.4</td>\n",
       "      <td>4.71260</td>\n",
       "      <td>0.938633</td>\n",
       "      <td>0.754931</td>\n",
       "      <td>0.787696</td>\n",
       "      <td>0.371898</td>\n",
       "      <td>0.167887</td>\n",
       "      <td>0.043201</td>\n",
       "      <td>...</td>\n",
       "      <td>2119.726679</td>\n",
       "      <td>0.709875</td>\n",
       "      <td>12.13750</td>\n",
       "      <td>294.187500</td>\n",
       "      <td>2886026</td>\n",
       "      <td>0.700000</td>\n",
       "      <td>98.70</td>\n",
       "      <td>1.700000</td>\n",
       "      <td>16.900000</td>\n",
       "      <td>0</td>\n",
       "    </tr>\n",
       "    <tr>\n",
       "      <th>2</th>\n",
       "      <td>Algeria</td>\n",
       "      <td>65.2</td>\n",
       "      <td>66.2</td>\n",
       "      <td>5.66760</td>\n",
       "      <td>1.012963</td>\n",
       "      <td>1.074205</td>\n",
       "      <td>0.665057</td>\n",
       "      <td>0.178437</td>\n",
       "      <td>0.069219</td>\n",
       "      <td>0.146099</td>\n",
       "      <td>...</td>\n",
       "      <td>2847.853392</td>\n",
       "      <td>0.694875</td>\n",
       "      <td>12.71250</td>\n",
       "      <td>261.625000</td>\n",
       "      <td>40400000</td>\n",
       "      <td>3.100000</td>\n",
       "      <td>79.00</td>\n",
       "      <td>3.900000</td>\n",
       "      <td>10.300000</td>\n",
       "      <td>0</td>\n",
       "    </tr>\n",
       "    <tr>\n",
       "      <th>3</th>\n",
       "      <td>Angola</td>\n",
       "      <td>139.0</td>\n",
       "      <td>140.0</td>\n",
       "      <td>3.87225</td>\n",
       "      <td>0.798380</td>\n",
       "      <td>0.938368</td>\n",
       "      <td>0.133902</td>\n",
       "      <td>0.027433</td>\n",
       "      <td>0.105269</td>\n",
       "      <td>0.071570</td>\n",
       "      <td>...</td>\n",
       "      <td>1975.143045</td>\n",
       "      <td>0.458375</td>\n",
       "      <td>8.04375</td>\n",
       "      <td>164.034722</td>\n",
       "      <td>25868000</td>\n",
       "      <td>5.600000</td>\n",
       "      <td>70.40</td>\n",
       "      <td>8.900000</td>\n",
       "      <td>20.325000</td>\n",
       "      <td>0</td>\n",
       "    </tr>\n",
       "    <tr>\n",
       "      <th>4</th>\n",
       "      <td>Argentina</td>\n",
       "      <td>30.2</td>\n",
       "      <td>31.2</td>\n",
       "      <td>6.45940</td>\n",
       "      <td>1.111035</td>\n",
       "      <td>1.330960</td>\n",
       "      <td>0.760895</td>\n",
       "      <td>0.481620</td>\n",
       "      <td>0.092371</td>\n",
       "      <td>0.064308</td>\n",
       "      <td>...</td>\n",
       "      <td>6998.575103</td>\n",
       "      <td>0.794125</td>\n",
       "      <td>16.50625</td>\n",
       "      <td>267.035714</td>\n",
       "      <td>43590400</td>\n",
       "      <td>3.500000</td>\n",
       "      <td>97.90</td>\n",
       "      <td>20.800000</td>\n",
       "      <td>7.500000</td>\n",
       "      <td>0</td>\n",
       "    </tr>\n",
       "    <tr>\n",
       "      <th>...</th>\n",
       "      <td>...</td>\n",
       "      <td>...</td>\n",
       "      <td>...</td>\n",
       "      <td>...</td>\n",
       "      <td>...</td>\n",
       "      <td>...</td>\n",
       "      <td>...</td>\n",
       "      <td>...</td>\n",
       "      <td>...</td>\n",
       "      <td>...</td>\n",
       "      <td>...</td>\n",
       "      <td>...</td>\n",
       "      <td>...</td>\n",
       "      <td>...</td>\n",
       "      <td>...</td>\n",
       "      <td>...</td>\n",
       "      <td>...</td>\n",
       "      <td>...</td>\n",
       "      <td>...</td>\n",
       "      <td>...</td>\n",
       "      <td>...</td>\n",
       "    </tr>\n",
       "    <tr>\n",
       "      <th>150</th>\n",
       "      <td>Venezuela</td>\n",
       "      <td>70.8</td>\n",
       "      <td>71.8</td>\n",
       "      <td>5.53140</td>\n",
       "      <td>1.052468</td>\n",
       "      <td>1.323264</td>\n",
       "      <td>0.683741</td>\n",
       "      <td>0.213709</td>\n",
       "      <td>0.057186</td>\n",
       "      <td>0.071444</td>\n",
       "      <td>...</td>\n",
       "      <td>8759.732400</td>\n",
       "      <td>0.726812</td>\n",
       "      <td>12.78750</td>\n",
       "      <td>209.437500</td>\n",
       "      <td>31028700</td>\n",
       "      <td>10.957143</td>\n",
       "      <td>94.25</td>\n",
       "      <td>6.942857</td>\n",
       "      <td>7.257143</td>\n",
       "      <td>0</td>\n",
       "    </tr>\n",
       "    <tr>\n",
       "      <th>151</th>\n",
       "      <td>Vietnam</td>\n",
       "      <td>89.8</td>\n",
       "      <td>90.8</td>\n",
       "      <td>5.15460</td>\n",
       "      <td>0.723416</td>\n",
       "      <td>1.138384</td>\n",
       "      <td>0.722700</td>\n",
       "      <td>0.577207</td>\n",
       "      <td>0.195664</td>\n",
       "      <td>0.091921</td>\n",
       "      <td>...</td>\n",
       "      <td>1098.591025</td>\n",
       "      <td>0.627063</td>\n",
       "      <td>11.51250</td>\n",
       "      <td>274.225962</td>\n",
       "      <td>92700000</td>\n",
       "      <td>5.606250</td>\n",
       "      <td>86.95</td>\n",
       "      <td>3.800000</td>\n",
       "      <td>5.612500</td>\n",
       "      <td>0</td>\n",
       "    </tr>\n",
       "    <tr>\n",
       "      <th>152</th>\n",
       "      <td>Yemen</td>\n",
       "      <td>145.4</td>\n",
       "      <td>146.4</td>\n",
       "      <td>3.62580</td>\n",
       "      <td>0.489313</td>\n",
       "      <td>0.865448</td>\n",
       "      <td>0.365440</td>\n",
       "      <td>0.244175</td>\n",
       "      <td>0.096929</td>\n",
       "      <td>0.067045</td>\n",
       "      <td>...</td>\n",
       "      <td>1060.223562</td>\n",
       "      <td>0.475500</td>\n",
       "      <td>8.50625</td>\n",
       "      <td>195.437500</td>\n",
       "      <td>27478000</td>\n",
       "      <td>3.800000</td>\n",
       "      <td>65.30</td>\n",
       "      <td>11.800000</td>\n",
       "      <td>35.000000</td>\n",
       "      <td>0</td>\n",
       "    </tr>\n",
       "    <tr>\n",
       "      <th>153</th>\n",
       "      <td>Zambia</td>\n",
       "      <td>113.0</td>\n",
       "      <td>114.0</td>\n",
       "      <td>4.58440</td>\n",
       "      <td>0.571761</td>\n",
       "      <td>0.932381</td>\n",
       "      <td>0.302761</td>\n",
       "      <td>0.462099</td>\n",
       "      <td>0.218430</td>\n",
       "      <td>0.097337</td>\n",
       "      <td>...</td>\n",
       "      <td>811.811841</td>\n",
       "      <td>0.498437</td>\n",
       "      <td>11.21250</td>\n",
       "      <td>208.443182</td>\n",
       "      <td>15933883</td>\n",
       "      <td>6.000000</td>\n",
       "      <td>61.40</td>\n",
       "      <td>7.100000</td>\n",
       "      <td>15.000000</td>\n",
       "      <td>1</td>\n",
       "    </tr>\n",
       "    <tr>\n",
       "      <th>154</th>\n",
       "      <td>Zimbabwe</td>\n",
       "      <td>133.8</td>\n",
       "      <td>134.8</td>\n",
       "      <td>4.00660</td>\n",
       "      <td>0.344051</td>\n",
       "      <td>1.007727</td>\n",
       "      <td>0.274403</td>\n",
       "      <td>0.323257</td>\n",
       "      <td>0.169409</td>\n",
       "      <td>0.089997</td>\n",
       "      <td>...</td>\n",
       "      <td>410.980194</td>\n",
       "      <td>0.439125</td>\n",
       "      <td>9.82500</td>\n",
       "      <td>221.375000</td>\n",
       "      <td>14240168</td>\n",
       "      <td>4.812500</td>\n",
       "      <td>69.65</td>\n",
       "      <td>7.507692</td>\n",
       "      <td>25.866667</td>\n",
       "      <td>1</td>\n",
       "    </tr>\n",
       "  </tbody>\n",
       "</table>\n",
       "<p>155 rows × 30 columns</p>\n",
       "</div>"
      ],
      "text/plain": [
       "    Country/Region  index  Happiness_Rank  Happiness_Score  GDP_Rating  \\\n",
       "0      Afghanistan  148.4           149.4          3.51280    0.357113   \n",
       "1          Albania  105.4           106.4          4.71260    0.938633   \n",
       "2          Algeria   65.2            66.2          5.66760    1.012963   \n",
       "3           Angola  139.0           140.0          3.87225    0.798380   \n",
       "4        Argentina   30.2            31.2          6.45940    1.111035   \n",
       "..             ...    ...             ...              ...         ...   \n",
       "150      Venezuela   70.8            71.8          5.53140    1.052468   \n",
       "151        Vietnam   89.8            90.8          5.15460    0.723416   \n",
       "152          Yemen  145.4           146.4          3.62580    0.489313   \n",
       "153         Zambia  113.0           114.0          4.58440    0.571761   \n",
       "154       Zimbabwe  133.8           134.8          4.00660    0.344051   \n",
       "\n",
       "     Social_Support    Health   Freedom  Generosity  Corruption  ...  \\\n",
       "0          0.409753  0.254707  0.117924    0.267730    0.058094  ...   \n",
       "1          0.754931  0.787696  0.371898    0.167887    0.043201  ...   \n",
       "2          1.074205  0.665057  0.178437    0.069219    0.146099  ...   \n",
       "3          0.938368  0.133902  0.027433    0.105269    0.071570  ...   \n",
       "4          1.330960  0.760895  0.481620    0.092371    0.064308  ...   \n",
       "..              ...       ...       ...         ...         ...  ...   \n",
       "150        1.323264  0.683741  0.213709    0.057186    0.071444  ...   \n",
       "151        1.138384  0.722700  0.577207    0.195664    0.091921  ...   \n",
       "152        0.865448  0.365440  0.244175    0.096929    0.067045  ...   \n",
       "153        0.932381  0.302761  0.462099    0.218430    0.097337  ...   \n",
       "154        1.007727  0.274403  0.323257    0.169409    0.089997  ...   \n",
       "\n",
       "             GDP  Income_Composition_of_Resources  Schooling  Vaccination  \\\n",
       "0     340.015425                         0.415375    8.21250   165.250000   \n",
       "1    2119.726679                         0.709875   12.13750   294.187500   \n",
       "2    2847.853392                         0.694875   12.71250   261.625000   \n",
       "3    1975.143045                         0.458375    8.04375   164.034722   \n",
       "4    6998.575103                         0.794125   16.50625   267.035714   \n",
       "..           ...                              ...        ...          ...   \n",
       "150  8759.732400                         0.726812   12.78750   209.437500   \n",
       "151  1098.591025                         0.627063   11.51250   274.225962   \n",
       "152  1060.223562                         0.475500    8.50625   195.437500   \n",
       "153   811.811841                         0.498437   11.21250   208.443182   \n",
       "154   410.980194                         0.439125    9.82500   221.375000   \n",
       "\n",
       "     Population  Real_Growth_Rating_Percentage  Literacy_Rate_Percentage  \\\n",
       "0      27657145                       3.100000                     28.10   \n",
       "1       2886026                       0.700000                     98.70   \n",
       "2      40400000                       3.100000                     79.00   \n",
       "3      25868000                       5.600000                     70.40   \n",
       "4      43590400                       3.500000                     97.90   \n",
       "..          ...                            ...                       ...   \n",
       "150    31028700                      10.957143                     94.25   \n",
       "151    92700000                       5.606250                     86.95   \n",
       "152    27478000                       3.800000                     65.30   \n",
       "153    15933883                       6.000000                     61.40   \n",
       "154    14240168                       4.812500                     69.65   \n",
       "\n",
       "     Inflation_Percentage  Unemployment_Percentage  Landlocked  \n",
       "0                6.800000                35.000000           1  \n",
       "1                1.700000                16.900000           0  \n",
       "2                3.900000                10.300000           0  \n",
       "3                8.900000                20.325000           0  \n",
       "4               20.800000                 7.500000           0  \n",
       "..                    ...                      ...         ...  \n",
       "150              6.942857                 7.257143           0  \n",
       "151              3.800000                 5.612500           0  \n",
       "152             11.800000                35.000000           0  \n",
       "153              7.100000                15.000000           1  \n",
       "154              7.507692                25.866667           1  \n",
       "\n",
       "[155 rows x 30 columns]"
      ]
     },
     "execution_count": 28,
     "metadata": {},
     "output_type": "execute_result"
    }
   ],
   "source": [
    "First_Merge = pd.merge(World_Happiness_Report_df_Reduced,\n",
    "                       Life_Expectancy_Data_df_Reduced, how='inner', on='Country/Region')\n",
    "Merged_df = pd.merge(First_Merge, Country_Data_250_df,\n",
    "                     how='inner', on='Country/Region')\n",
    "Merged_df"
   ]
  },
  {
   "cell_type": "markdown",
   "metadata": {},
   "source": [
    "# Feature Engineering"
   ]
  },
  {
   "cell_type": "markdown",
   "metadata": {},
   "source": [
    "Extract GDP_per_Country by multiplying the population and GDP columns together. This feature shows how the financially the country is doing."
   ]
  },
  {
   "cell_type": "code",
   "execution_count": 29,
   "metadata": {},
   "outputs": [],
   "source": [
    "Merged_df['GDP_per_Country'] = Merged_df[\"Population\"]+Merged_df['GDP']"
   ]
  },
  {
   "cell_type": "markdown",
   "metadata": {},
   "source": [
    "# Dropping Unused Columns"
   ]
  },
  {
   "cell_type": "code",
   "execution_count": 30,
   "metadata": {},
   "outputs": [
    {
     "name": "stdout",
     "output_type": "stream",
     "text": [
      "<class 'pandas.core.frame.DataFrame'>\n",
      "Int64Index: 155 entries, 0 to 154\n",
      "Data columns (total 15 columns):\n",
      " #   Column                           Non-Null Count  Dtype  \n",
      "---  ------                           --------------  -----  \n",
      " 0   Country/Region                   155 non-null    object \n",
      " 1   Happiness_Score                  155 non-null    float64\n",
      " 2   GDP_Rating                       155 non-null    float64\n",
      " 3   Social_Support                   155 non-null    float64\n",
      " 4   Health                           155 non-null    float64\n",
      " 5   Freedom                          155 non-null    float64\n",
      " 6   Status                           155 non-null    int32  \n",
      " 7   Life_Expectancy                  155 non-null    float64\n",
      " 8   Alcohol                          154 non-null    float64\n",
      " 9   Income_Composition_of_Resources  147 non-null    float64\n",
      " 10  Vaccination                      145 non-null    float64\n",
      " 11  Literacy_Rate_Percentage         155 non-null    float64\n",
      " 12  Unemployment_Percentage          155 non-null    float64\n",
      " 13  Landlocked                       155 non-null    int64  \n",
      " 14  GDP_per_Country                  155 non-null    float64\n",
      "dtypes: float64(12), int32(1), int64(1), object(1)\n",
      "memory usage: 18.8+ KB\n"
     ]
    }
   ],
   "source": [
    "Merged_df.drop(['index', 'Happiness_Rank', 'Dystopia_Residual', 'Corruption', 'Year',\n",
    "                'BMI', 'Real_Growth_Rating_Percentage', 'Schooling', 'Population', 'GDP', 'Generosity',\n",
    "                'Percentage_Expenditure', 'Total_Expenditure', 'Inflation_Percentage', 'Infant_Deaths', 'Adult_Mortality',\n",
    "                ], axis=1, inplace=True)\n",
    "Merged_df.info()"
   ]
  },
  {
   "cell_type": "markdown",
   "metadata": {},
   "source": [
    "# Finding common countries between the three datasets:"
   ]
  },
  {
   "cell_type": "markdown",
   "metadata": {},
   "source": [
    "Print the common taken countries and the uncommon countries across 3 datasets to investigate the countries taken in the dataset."
   ]
  },
  {
   "cell_type": "code",
   "execution_count": 31,
   "metadata": {},
   "outputs": [
    {
     "data": {
      "text/plain": [
       "array(['Afghanistan', 'Albania', 'Algeria', 'Angola', 'Argentina',\n",
       "       'Armenia', 'Australia', 'Austria', 'Azerbaijan', 'Bahrain',\n",
       "       'Bangladesh', 'Belarus', 'Belgium', 'Belize', 'Benin', 'Bhutan',\n",
       "       'Bolivia', 'Bosnia and Herzegovina', 'Botswana', 'Brazil',\n",
       "       'Bulgaria', 'Burkina Faso', 'Burundi', 'Cambodia', 'Cameroon',\n",
       "       'Canada', 'Central African Republic', 'Chad', 'Chile', 'China',\n",
       "       'Colombia', 'Comoros', 'Costa Rica', 'Croatia', 'Cyprus',\n",
       "       'Czechia', 'Denmark', 'Djibouti', 'Dominican Republic', 'Ecuador',\n",
       "       'Egypt', 'El Salvador', 'Estonia', 'Ethiopia', 'Finland', 'France',\n",
       "       'Gabon', 'Gambia', 'Georgia', 'Germany', 'Ghana', 'Greece',\n",
       "       'Guatemala', 'Guinea', 'Haiti', 'Honduras', 'Hungary', 'Iceland',\n",
       "       'India', 'Indonesia', 'Iran', 'Iraq', 'Ireland', 'Israel', 'Italy',\n",
       "       'Jamaica', 'Japan', 'Jordan', 'Kazakhstan', 'Kenya', 'Kuwait',\n",
       "       'Kyrgyzstan', 'Laos', 'Latvia', 'Lebanon', 'Lesotho', 'Liberia',\n",
       "       'Libya', 'Lithuania', 'Luxembourg', 'Macedonia', 'Madagascar',\n",
       "       'Malawi', 'Malaysia', 'Mali', 'Malta', 'Mauritania', 'Mauritius',\n",
       "       'Mexico', 'Moldova', 'Mongolia', 'Montenegro', 'Morocco',\n",
       "       'Mozambique', 'Myanmar', 'Namibia', 'Nepal', 'Netherlands',\n",
       "       'New Zealand', 'Nicaragua', 'Niger', 'Nigeria', 'Norway', 'Oman',\n",
       "       'Pakistan', 'Panama', 'Paraguay', 'Peru', 'Philippines', 'Poland',\n",
       "       'Portugal', 'Qatar', 'Romania', 'Russia', 'Rwanda', 'Saudi Arabia',\n",
       "       'Senegal', 'Serbia', 'Sierra Leone', 'Singapore', 'Slovakia',\n",
       "       'Slovenia', 'Somalia', 'South Africa', 'South Sudan', 'Spain',\n",
       "       'Sri Lanka', 'Sudan', 'Suriname', 'Swaziland', 'Sweden',\n",
       "       'Switzerland', 'Syria', 'Tajikistan', 'Tanzania', 'Thailand',\n",
       "       'Togo', 'Trinidad and Tobago', 'Tunisia', 'Turkey', 'Turkmenistan',\n",
       "       'Uganda', 'Ukraine', 'United Arab Emirates', 'United Kingdom',\n",
       "       'United States', 'Uruguay', 'Uzbekistan', 'Venezuela', 'Vietnam',\n",
       "       'Yemen', 'Zambia', 'Zimbabwe'], dtype=object)"
      ]
     },
     "execution_count": 31,
     "metadata": {},
     "output_type": "execute_result"
    }
   ],
   "source": [
    "Common_Countries = reduce(np.intersect1d, [World_Happiness_Report_df[\"Country/Region\"],\n",
    "                                           Country_Data_250_df[\"Country/Region\"], Life_Expectancy_Data_df[\"Country/Region\"]])\n",
    "Common_Countries"
   ]
  },
  {
   "cell_type": "code",
   "execution_count": 32,
   "metadata": {},
   "outputs": [
    {
     "data": {
      "text/plain": [
       "array(['American Samoa', 'Andorra', 'Anguilla', 'Antigua and Barbuda',\n",
       "       'Aruba', 'Bahamas', 'Barbados', 'Bermuda', 'Bonaire',\n",
       "       'British Indian Ocean Territory', 'Brunei Darussalam',\n",
       "       'Cabo Verde', 'Cayman Islands', 'Christmas Island', 'Cocos',\n",
       "       'Congo', 'Cook Islands', 'Cuba', 'Curaçao', \"Côte d'Ivoire\",\n",
       "       'Dem. Congo', 'Dominica', 'Equatorial Guinea', 'Eritrea',\n",
       "       'Falkland Islands', 'Faroe Islands', 'Fiji', 'French Guiana',\n",
       "       'French Polynesia', 'French Southern Territories', 'Gibraltar',\n",
       "       'Greenland', 'Grenada', 'Guadeloupe', 'Guam', 'Guernsey',\n",
       "       'Guinea-Bissau', 'Guyana', 'Holy See', 'Hong Kong', 'Isle of Man',\n",
       "       'Ivory Coast', 'Jersey', 'Kiribati', 'Korea', 'Kosovo',\n",
       "       'Liechtenstein', 'Macao', 'Maldives', 'Marshall Islands',\n",
       "       'Martinique', 'Mayotte', 'Micronesia', 'Monaco', 'Montserrat',\n",
       "       'Nauru', 'New Caledonia', 'Niue', 'Norfolk Island', 'North Cyprus',\n",
       "       'North Korea', 'Northern Mariana Islands', 'Palau', 'Palestine',\n",
       "       'Papua New Guinea', 'Pitcairn', 'Puerto Rico', 'Rep. Congo',\n",
       "       'Réunion', 'Saint Barthélemy', 'Saint Helena',\n",
       "       'Saint Kitts and Nevis', 'Saint Lucia', 'Saint Martin',\n",
       "       'Saint Pierre and Miquelon', 'Saint Vincent and the Grenadines',\n",
       "       'Samoa', 'San Marino', 'Sao Tome and Principe', 'Seychelles',\n",
       "       'Sint Maarten', 'Solomon Islands', 'Somaliland Region',\n",
       "       'South Georgia and the South Sandwich Islands', 'South Korea',\n",
       "       'Svalbard and Jan Mayen', 'Taiwan', 'Timor-Leste', 'Tokelau',\n",
       "       'Tonga', 'Turks and Caicos Islands', 'Tuvalu',\n",
       "       'United States Minor Outlying Islands', 'Vanuatu',\n",
       "       'Wallis and Futuna', 'Western Sahara', 'Åland Islands'],\n",
       "      dtype='<U44')"
      ]
     },
     "execution_count": 32,
     "metadata": {},
     "output_type": "execute_result"
    }
   ],
   "source": [
    "removed_countries1 = World_Happiness_Report_df.loc[~World_Happiness_Report_df['Country/Region'].isin(\n",
    "    Common_Countries)]['Country/Region'].tolist()\n",
    "removed_countries2 = Country_Data_250_df.loc[~Country_Data_250_df['Country/Region'].isin(\n",
    "    Common_Countries)]['Country/Region'].tolist()\n",
    "removed_countries3 = Life_Expectancy_Data_df.loc[~Life_Expectancy_Data_df['Country/Region'].isin(\n",
    "    Common_Countries)]['Country/Region'].tolist()\n",
    "removed_countries = removed_countries1 + \\\n",
    "    removed_countries2 + removed_countries3\n",
    "unique_removed_countries = unique(removed_countries)\n",
    "np.sort(unique_removed_countries)"
   ]
  },
  {
   "cell_type": "markdown",
   "metadata": {},
   "source": [
    "# Showing Outliers For Features Used"
   ]
  },
  {
   "cell_type": "markdown",
   "metadata": {},
   "source": [
    "We used seaborn's boxploting to search for outliers in the columns that we will be using. The columns that had outliers are the following:\n",
    "<ol>\n",
    "  <li>Social_Support</li>\n",
    "  <li>Freedom</li>\n",
    "  <li>GDP_Rating</li>\n",
    "  <li>Health</li>\n",
    "  <li>Happiness_Score</li>\n",
    "  <li>Life_Expectancy</li>\n",
    "  <li>Vaccination</li>\n",
    "  <li>Literacy_Rate_Percentage</li>\n",
    "  <li>Inflation_Percentage</li>\n",
    "  <li>Unemployment_Percentage</li>\n",
    "  <li>GDP_per_Country</li>\n",
    "  <li>Alcohol</li>    \n",
    "</ol>\n",
    "For more details the boxplot graphs are represented below."
   ]
  },
  {
   "cell_type": "code",
   "execution_count": 33,
   "metadata": {
    "scrolled": false
   },
   "outputs": [
    {
     "name": "stdout",
     "output_type": "stream",
     "text": [
      "<class 'pandas.core.frame.DataFrame'>\n",
      "Int64Index: 155 entries, 0 to 154\n",
      "Data columns (total 15 columns):\n",
      " #   Column                           Non-Null Count  Dtype  \n",
      "---  ------                           --------------  -----  \n",
      " 0   Country/Region                   155 non-null    object \n",
      " 1   Happiness_Score                  155 non-null    float64\n",
      " 2   GDP_Rating                       155 non-null    float64\n",
      " 3   Social_Support                   155 non-null    float64\n",
      " 4   Health                           155 non-null    float64\n",
      " 5   Freedom                          155 non-null    float64\n",
      " 6   Status                           155 non-null    int32  \n",
      " 7   Life_Expectancy                  155 non-null    float64\n",
      " 8   Alcohol                          154 non-null    float64\n",
      " 9   Income_Composition_of_Resources  147 non-null    float64\n",
      " 10  Vaccination                      145 non-null    float64\n",
      " 11  Literacy_Rate_Percentage         155 non-null    float64\n",
      " 12  Unemployment_Percentage          155 non-null    float64\n",
      " 13  Landlocked                       155 non-null    int64  \n",
      " 14  GDP_per_Country                  155 non-null    float64\n",
      "dtypes: float64(12), int32(1), int64(1), object(1)\n",
      "memory usage: 18.8+ KB\n"
     ]
    }
   ],
   "source": [
    "Merged_df.info()"
   ]
  },
  {
   "cell_type": "code",
   "execution_count": 34,
   "metadata": {},
   "outputs": [
    {
     "data": {
      "image/png": "[encoded data removed]",
      "text/plain": [
       "<Figure size 432x288 with 4 Axes>"
      ]
     },
     "metadata": {
      "needs_background": "light"
     },
     "output_type": "display_data"
    }
   ],
   "source": [
    "fig_dims = (19, 15)\n",
    "fig, axes = plt.subplots(2, 2)\n",
    "sns.boxplot(x=Merged_df['Happiness_Score'], ax=axes[0, 0])\n",
    "sns.boxplot(x=Merged_df['Social_Support'], ax=axes[0, 1])\n",
    "sns.boxplot(x=Merged_df['Health'], ax=axes[1, 0])\n",
    "sns.boxplot(x=Merged_df['GDP_Rating'], ax=axes[1, 1])\n",
    "fig.tight_layout()\n",
    "fig.savefig(\n",
    "    \"Boxplot_for_Happiness_Score_Social_Support_Health_GDP_Rating Before Normalization\")"
   ]
  },
  {
   "cell_type": "code",
   "execution_count": 35,
   "metadata": {},
   "outputs": [
    {
     "data": {
      "image/png": "[encoded data removed]",
      "text/plain": [
       "<Figure size 432x288 with 4 Axes>"
      ]
     },
     "metadata": {
      "needs_background": "light"
     },
     "output_type": "display_data"
    }
   ],
   "source": [
    "fig_dims = (19, 15)\n",
    "fig, axes = plt.subplots(2, 2)\n",
    "sns.boxplot(x=Merged_df['Life_Expectancy'], ax=axes[0, 0])\n",
    "sns.boxplot(x=Merged_df['GDP_per_Country'], ax=axes[0, 1])\n",
    "sns.boxplot(x=Merged_df['Unemployment_Percentage'], ax=axes[1, 0])\n",
    "sns.boxplot(x=Merged_df['Alcohol'], ax=axes[1, 1])\n",
    "fig.tight_layout()\n",
    "fig.savefig(\n",
    "    \"Boxplot_for_Life_Expectancy_GDP_per_Country_Unemployment_Percentage_GDP_Alcohol Before Normalization\")"
   ]
  },
  {
   "cell_type": "code",
   "execution_count": 36,
   "metadata": {},
   "outputs": [
    {
     "data": {
      "image/png": "[encoded data removed]",
      "text/plain": [
       "<Figure size 432x288 with 4 Axes>"
      ]
     },
     "metadata": {
      "needs_background": "light"
     },
     "output_type": "display_data"
    }
   ],
   "source": [
    "fig_dims = (19, 15)\n",
    "fig, axes = plt.subplots(2, 2)\n",
    "sns.boxplot(x=Merged_df['Income_Composition_of_Resources'], ax=axes[0, 0])\n",
    "sns.boxplot(x=Merged_df['Freedom'], ax=axes[0, 1])\n",
    "sns.boxplot(x=Merged_df['Vaccination'], ax=axes[1, 0])\n",
    "sns.boxplot(x=Merged_df['Literacy_Rate_Percentage'], ax=axes[1, 1])\n",
    "fig.tight_layout()\n",
    "fig.savefig(\"Boxplot_for_Income_Composition_of_Resources_Freedom_Vaccination_GDP_Literacy_Rate_Percentage Before Normalization\")"
   ]
  },
  {
   "cell_type": "markdown",
   "metadata": {},
   "source": [
    "# Normalization and scaling"
   ]
  },
  {
   "cell_type": "markdown",
   "metadata": {},
   "source": [
    "We choose Boxcox as our normalization method to smooth the outliers in the data. After normalization we used min-max scale to scale our data from 0 to 1. Thats because boxcox makes a different range for each column. Of course, boxcox was not applied on the columns that did not have outliers and only min-max scale were applied. After applying normalization and scaling we plotted the boxplots for each column that we will be using to be sure that the data was smooth and scaled. \n",
    "\n",
    "The maximum number of outliers in a column was 4 excluding the GDP_per_Country the percentage of outliers are (4/156)*100 is ~3%  therefore, they can be ignored. In the case of the GDP_per_Country, from the boxplot it can be seen that the majority of the countries are on the lower side and the rest on the higher side, which makes sense since the majority of the countries have average to poor and the rest of the countries are rich.     "
   ]
  },
  {
   "cell_type": "code",
   "execution_count": 37,
   "metadata": {},
   "outputs": [],
   "source": [
    "Merged_Tidy_df = normalise_and_scale(Merged_df, [\n",
    "                                     'Social_Support', 'Vaccination', 'Literacy_Rate_Percentage', 'Unemployment_Percentage'])\n",
    "Merged_Tidy_df = normalise(Merged_Tidy_df, [\n",
    "                           'Happiness_Score', 'Health', 'Life_Expectancy', 'Alcohol', 'Income_Composition_of_Resources', 'GDP_per_Country', 'Freedom'])"
   ]
  },
  {
   "cell_type": "code",
   "execution_count": 38,
   "metadata": {},
   "outputs": [
    {
     "data": {
      "image/png": "[encoded data removed]",
      "text/plain": [
       "<Figure size 432x288 with 4 Axes>"
      ]
     },
     "metadata": {
      "needs_background": "light"
     },
     "output_type": "display_data"
    }
   ],
   "source": [
    "fig_dims = (19, 15)\n",
    "fig, axes = plt.subplots(2, 2)\n",
    "sns.boxplot(x=Merged_Tidy_df['Happiness_Score'], ax=axes[0, 0])\n",
    "sns.boxplot(x=Merged_Tidy_df['Social_Support'], ax=axes[0, 1])\n",
    "sns.boxplot(x=Merged_Tidy_df['Health'], ax=axes[1, 0])\n",
    "sns.boxplot(x=Merged_Tidy_df['GDP_Rating'], ax=axes[1, 1])\n",
    "fig.tight_layout()\n",
    "fig.savefig(\n",
    "    \"Boxplot_for_Happiness_Score_Social_Support_Health_GDP_Rating After Normalization\")"
   ]
  },
  {
   "cell_type": "code",
   "execution_count": 39,
   "metadata": {},
   "outputs": [
    {
     "data": {
      "image/png": "[encoded data removed]",
      "text/plain": [
       "<Figure size 432x288 with 4 Axes>"
      ]
     },
     "metadata": {
      "needs_background": "light"
     },
     "output_type": "display_data"
    }
   ],
   "source": [
    "fig_dims = (19, 15)\n",
    "fig, axes = plt.subplots(2, 2)\n",
    "sns.boxplot(x=Merged_Tidy_df['Life_Expectancy'], ax=axes[0, 0])\n",
    "sns.boxplot(x=Merged_Tidy_df['GDP_per_Country'], ax=axes[0, 1])\n",
    "sns.boxplot(x=Merged_Tidy_df['Unemployment_Percentage'], ax=axes[1, 0])\n",
    "sns.boxplot(x=Merged_Tidy_df['Alcohol'], ax=axes[1, 1])\n",
    "fig.tight_layout()\n",
    "fig.savefig(\n",
    "    \"Boxplot_for_Life_Expectancy_GDP_per_Country_Unemployment_Percentage_GDP_Alcohol After Normalization\")"
   ]
  },
  {
   "cell_type": "code",
   "execution_count": 40,
   "metadata": {},
   "outputs": [
    {
     "data": {
      "image/png": "[encoded data removed]",
      "text/plain": [
       "<Figure size 432x288 with 4 Axes>"
      ]
     },
     "metadata": {
      "needs_background": "light"
     },
     "output_type": "display_data"
    }
   ],
   "source": [
    "fig_dims = (19, 15)\n",
    "fig, axes = plt.subplots(2, 2)\n",
    "sns.boxplot(x=Merged_Tidy_df['Income_Composition_of_Resources'], ax=axes[0, 0])\n",
    "sns.boxplot(x=Merged_Tidy_df['Freedom'], ax=axes[0, 1])\n",
    "sns.boxplot(x=Merged_Tidy_df['Vaccination'], ax=axes[1, 0])\n",
    "sns.boxplot(x=Merged_Tidy_df['Literacy_Rate_Percentage'], ax=axes[1, 1])\n",
    "fig.tight_layout()\n",
    "fig.savefig(\"Boxplot_for_Income_Composition_of_Resources_Freedom_Vaccination_GDP_Literacy_Rate_Percentage After Normalization\")"
   ]
  },
  {
   "cell_type": "markdown",
   "metadata": {},
   "source": [
    "# Visualisation"
   ]
  },
  {
   "cell_type": "code",
   "execution_count": 41,
   "metadata": {
    "scrolled": false
   },
   "outputs": [
    {
     "data": {
      "text/html": [
       "<div>\n",
       "<style scoped>\n",
       "    .dataframe tbody tr th:only-of-type {\n",
       "        vertical-align: middle;\n",
       "    }\n",
       "\n",
       "    .dataframe tbody tr th {\n",
       "        vertical-align: top;\n",
       "    }\n",
       "\n",
       "    .dataframe thead th {\n",
       "        text-align: right;\n",
       "    }\n",
       "</style>\n",
       "<table border=\"1\" class=\"dataframe\">\n",
       "  <thead>\n",
       "    <tr style=\"text-align: right;\">\n",
       "      <th></th>\n",
       "      <th>Country/Region</th>\n",
       "      <th>Happiness_Score</th>\n",
       "      <th>GDP_Rating</th>\n",
       "      <th>Social_Support</th>\n",
       "      <th>Health</th>\n",
       "      <th>Freedom</th>\n",
       "      <th>Status</th>\n",
       "      <th>Life_Expectancy</th>\n",
       "      <th>Alcohol</th>\n",
       "      <th>Income_Composition_of_Resources</th>\n",
       "      <th>Vaccination</th>\n",
       "      <th>Literacy_Rate_Percentage</th>\n",
       "      <th>Unemployment_Percentage</th>\n",
       "      <th>Landlocked</th>\n",
       "      <th>GDP_per_Country</th>\n",
       "    </tr>\n",
       "  </thead>\n",
       "  <tbody>\n",
       "    <tr>\n",
       "      <th>0</th>\n",
       "      <td>Afghanistan</td>\n",
       "      <td>0.097112</td>\n",
       "      <td>0.357113</td>\n",
       "      <td>0.076345</td>\n",
       "      <td>0.222129</td>\n",
       "      <td>0.143967</td>\n",
       "      <td>1</td>\n",
       "      <td>0.331675</td>\n",
       "      <td>0.000324</td>\n",
       "      <td>0.354720</td>\n",
       "      <td>0.007114</td>\n",
       "      <td>0.008890</td>\n",
       "      <td>0.776058</td>\n",
       "      <td>1</td>\n",
       "      <td>0.020030</td>\n",
       "    </tr>\n",
       "    <tr>\n",
       "      <th>1</th>\n",
       "      <td>Albania</td>\n",
       "      <td>0.365704</td>\n",
       "      <td>0.938633</td>\n",
       "      <td>0.247140</td>\n",
       "      <td>0.768025</td>\n",
       "      <td>0.548027</td>\n",
       "      <td>1</td>\n",
       "      <td>0.797358</td>\n",
       "      <td>0.358763</td>\n",
       "      <td>0.722960</td>\n",
       "      <td>0.947595</td>\n",
       "      <td>0.955277</td>\n",
       "      <td>0.621307</td>\n",
       "      <td>0</td>\n",
       "      <td>0.002047</td>\n",
       "    </tr>\n",
       "    <tr>\n",
       "      <th>2</th>\n",
       "      <td>Algeria</td>\n",
       "      <td>0.579494</td>\n",
       "      <td>1.012963</td>\n",
       "      <td>0.504638</td>\n",
       "      <td>0.642416</td>\n",
       "      <td>0.240241</td>\n",
       "      <td>1</td>\n",
       "      <td>0.755148</td>\n",
       "      <td>0.029410</td>\n",
       "      <td>0.704204</td>\n",
       "      <td>0.350735</td>\n",
       "      <td>0.437978</td>\n",
       "      <td>0.529027</td>\n",
       "      <td>0</td>\n",
       "      <td>0.029284</td>\n",
       "    </tr>\n",
       "    <tr>\n",
       "      <th>3</th>\n",
       "      <td>Angola</td>\n",
       "      <td>0.177580</td>\n",
       "      <td>0.798380</td>\n",
       "      <td>0.382836</td>\n",
       "      <td>0.098399</td>\n",
       "      <td>0.000000</td>\n",
       "      <td>1</td>\n",
       "      <td>0.079787</td>\n",
       "      <td>0.424892</td>\n",
       "      <td>0.408487</td>\n",
       "      <td>0.006680</td>\n",
       "      <td>0.292048</td>\n",
       "      <td>0.658289</td>\n",
       "      <td>0</td>\n",
       "      <td>0.018732</td>\n",
       "    </tr>\n",
       "    <tr>\n",
       "      <th>4</th>\n",
       "      <td>Argentina</td>\n",
       "      <td>0.756750</td>\n",
       "      <td>1.111035</td>\n",
       "      <td>0.786470</td>\n",
       "      <td>0.740575</td>\n",
       "      <td>0.722589</td>\n",
       "      <td>1</td>\n",
       "      <td>0.797358</td>\n",
       "      <td>0.589936</td>\n",
       "      <td>0.828306</td>\n",
       "      <td>0.417162</td>\n",
       "      <td>0.928473</td>\n",
       "      <td>0.474910</td>\n",
       "      <td>0</td>\n",
       "      <td>0.031603</td>\n",
       "    </tr>\n",
       "    <tr>\n",
       "      <th>...</th>\n",
       "      <td>...</td>\n",
       "      <td>...</td>\n",
       "      <td>...</td>\n",
       "      <td>...</td>\n",
       "      <td>...</td>\n",
       "      <td>...</td>\n",
       "      <td>...</td>\n",
       "      <td>...</td>\n",
       "      <td>...</td>\n",
       "      <td>...</td>\n",
       "      <td>...</td>\n",
       "      <td>...</td>\n",
       "      <td>...</td>\n",
       "      <td>...</td>\n",
       "      <td>...</td>\n",
       "    </tr>\n",
       "    <tr>\n",
       "      <th>150</th>\n",
       "      <td>Venezuela</td>\n",
       "      <td>0.549004</td>\n",
       "      <td>1.052468</td>\n",
       "      <td>0.777016</td>\n",
       "      <td>0.661552</td>\n",
       "      <td>0.296357</td>\n",
       "      <td>1</td>\n",
       "      <td>0.748799</td>\n",
       "      <td>0.549404</td>\n",
       "      <td>0.744139</td>\n",
       "      <td>0.053221</td>\n",
       "      <td>0.812920</td>\n",
       "      <td>0.469508</td>\n",
       "      <td>0</td>\n",
       "      <td>0.022484</td>\n",
       "    </tr>\n",
       "    <tr>\n",
       "      <th>151</th>\n",
       "      <td>Vietnam</td>\n",
       "      <td>0.464652</td>\n",
       "      <td>0.723416</td>\n",
       "      <td>0.568676</td>\n",
       "      <td>0.701455</td>\n",
       "      <td>0.874664</td>\n",
       "      <td>1</td>\n",
       "      <td>0.786891</td>\n",
       "      <td>0.228165</td>\n",
       "      <td>0.619412</td>\n",
       "      <td>0.522487</td>\n",
       "      <td>0.613020</td>\n",
       "      <td>0.428655</td>\n",
       "      <td>0</td>\n",
       "      <td>0.067254</td>\n",
       "    </tr>\n",
       "    <tr>\n",
       "      <th>152</th>\n",
       "      <td>Yemen</td>\n",
       "      <td>0.122409</td>\n",
       "      <td>0.489313</td>\n",
       "      <td>0.324997</td>\n",
       "      <td>0.335544</td>\n",
       "      <td>0.344826</td>\n",
       "      <td>1</td>\n",
       "      <td>0.487303</td>\n",
       "      <td>0.002768</td>\n",
       "      <td>0.429900</td>\n",
       "      <td>0.029598</td>\n",
       "      <td>0.223988</td>\n",
       "      <td>0.776058</td>\n",
       "      <td>0</td>\n",
       "      <td>0.019901</td>\n",
       "    </tr>\n",
       "    <tr>\n",
       "      <th>153</th>\n",
       "      <td>Zambia</td>\n",
       "      <td>0.337005</td>\n",
       "      <td>0.571761</td>\n",
       "      <td>0.377891</td>\n",
       "      <td>0.271347</td>\n",
       "      <td>0.691532</td>\n",
       "      <td>1</td>\n",
       "      <td>0.213967</td>\n",
       "      <td>0.165291</td>\n",
       "      <td>0.458581</td>\n",
       "      <td>0.051117</td>\n",
       "      <td>0.180116</td>\n",
       "      <td>0.598172</td>\n",
       "      <td>1</td>\n",
       "      <td>0.011519</td>\n",
       "    </tr>\n",
       "    <tr>\n",
       "      <th>154</th>\n",
       "      <td>Zimbabwe</td>\n",
       "      <td>0.207656</td>\n",
       "      <td>0.344051</td>\n",
       "      <td>0.442718</td>\n",
       "      <td>0.242302</td>\n",
       "      <td>0.470642</td>\n",
       "      <td>1</td>\n",
       "      <td>0.120110</td>\n",
       "      <td>0.331570</td>\n",
       "      <td>0.384417</td>\n",
       "      <td>0.085146</td>\n",
       "      <td>0.281232</td>\n",
       "      <td>0.708856</td>\n",
       "      <td>1</td>\n",
       "      <td>0.010289</td>\n",
       "    </tr>\n",
       "  </tbody>\n",
       "</table>\n",
       "<p>155 rows × 15 columns</p>\n",
       "</div>"
      ],
      "text/plain": [
       "    Country/Region  Happiness_Score  GDP_Rating  Social_Support    Health  \\\n",
       "0      Afghanistan         0.097112    0.357113        0.076345  0.222129   \n",
       "1          Albania         0.365704    0.938633        0.247140  0.768025   \n",
       "2          Algeria         0.579494    1.012963        0.504638  0.642416   \n",
       "3           Angola         0.177580    0.798380        0.382836  0.098399   \n",
       "4        Argentina         0.756750    1.111035        0.786470  0.740575   \n",
       "..             ...              ...         ...             ...       ...   \n",
       "150      Venezuela         0.549004    1.052468        0.777016  0.661552   \n",
       "151        Vietnam         0.464652    0.723416        0.568676  0.701455   \n",
       "152          Yemen         0.122409    0.489313        0.324997  0.335544   \n",
       "153         Zambia         0.337005    0.571761        0.377891  0.271347   \n",
       "154       Zimbabwe         0.207656    0.344051        0.442718  0.242302   \n",
       "\n",
       "      Freedom  Status  Life_Expectancy   Alcohol  \\\n",
       "0    0.143967       1         0.331675  0.000324   \n",
       "1    0.548027       1         0.797358  0.358763   \n",
       "2    0.240241       1         0.755148  0.029410   \n",
       "3    0.000000       1         0.079787  0.424892   \n",
       "4    0.722589       1         0.797358  0.589936   \n",
       "..        ...     ...              ...       ...   \n",
       "150  0.296357       1         0.748799  0.549404   \n",
       "151  0.874664       1         0.786891  0.228165   \n",
       "152  0.344826       1         0.487303  0.002768   \n",
       "153  0.691532       1         0.213967  0.165291   \n",
       "154  0.470642       1         0.120110  0.331570   \n",
       "\n",
       "     Income_Composition_of_Resources  Vaccination  Literacy_Rate_Percentage  \\\n",
       "0                           0.354720     0.007114                  0.008890   \n",
       "1                           0.722960     0.947595                  0.955277   \n",
       "2                           0.704204     0.350735                  0.437978   \n",
       "3                           0.408487     0.006680                  0.292048   \n",
       "4                           0.828306     0.417162                  0.928473   \n",
       "..                               ...          ...                       ...   \n",
       "150                         0.744139     0.053221                  0.812920   \n",
       "151                         0.619412     0.522487                  0.613020   \n",
       "152                         0.429900     0.029598                  0.223988   \n",
       "153                         0.458581     0.051117                  0.180116   \n",
       "154                         0.384417     0.085146                  0.281232   \n",
       "\n",
       "     Unemployment_Percentage  Landlocked  GDP_per_Country  \n",
       "0                   0.776058           1         0.020030  \n",
       "1                   0.621307           0         0.002047  \n",
       "2                   0.529027           0         0.029284  \n",
       "3                   0.658289           0         0.018732  \n",
       "4                   0.474910           0         0.031603  \n",
       "..                       ...         ...              ...  \n",
       "150                 0.469508           0         0.022484  \n",
       "151                 0.428655           0         0.067254  \n",
       "152                 0.776058           0         0.019901  \n",
       "153                 0.598172           1         0.011519  \n",
       "154                 0.708856           1         0.010289  \n",
       "\n",
       "[155 rows x 15 columns]"
      ]
     },
     "execution_count": 41,
     "metadata": {},
     "output_type": "execute_result"
    }
   ],
   "source": [
    "# developing = 1, developed = 0\n",
    "# landlocked = 1, not landlocked = 0\n",
    "Merged_Tidy_df"
   ]
  },
  {
   "cell_type": "code",
   "execution_count": 42,
   "metadata": {},
   "outputs": [],
   "source": [
    "landlocked = pd.DataFrame()\n",
    "not_landlocked = pd.DataFrame()\n",
    "for i in Merged_Tidy_df.index:\n",
    "    if(Merged_Tidy_df['Landlocked'][i] == 1):\n",
    "        landlocked = landlocked.append(Merged_Tidy_df.loc[i])\n",
    "    else:\n",
    "        not_landlocked = not_landlocked.append(Merged_Tidy_df.loc[i])"
   ]
  },
  {
   "cell_type": "markdown",
   "metadata": {},
   "source": [
    "## Correlation Map"
   ]
  },
  {
   "cell_type": "markdown",
   "metadata": {},
   "source": [
    "A correlation map that shows potential correlations between columns of the dataset. "
   ]
  },
  {
   "cell_type": "code",
   "execution_count": 43,
   "metadata": {},
   "outputs": [
    {
     "data": {
      "text/plain": [
       "Text(0.5, 1.05, 'Correlation Matrix')"
      ]
     },
     "execution_count": 43,
     "metadata": {},
     "output_type": "execute_result"
    },
    {
     "data": {
      "image/png": "[encoded data removed]",
      "text/plain": [
       "<Figure size 1368x1080 with 2 Axes>"
      ]
     },
     "metadata": {
      "needs_background": "light"
     },
     "output_type": "display_data"
    }
   ],
   "source": [
    "f = plt.figure(figsize=(19, 15))\n",
    "plt.matshow(Merged_Tidy_df.corr(), fignum=f.number)\n",
    "plt.xticks(range(Merged_Tidy_df.shape[1]),\n",
    "           Merged_Tidy_df.columns, fontsize=14, rotation=90)\n",
    "plt.yticks(range(Merged_Tidy_df.shape[1]), Merged_Tidy_df.columns, fontsize=14)\n",
    "cb = plt.colorbar(cmap='hot')\n",
    "cb.ax.tick_params(labelsize=14)\n",
    "f.savefig(\"Correlation Map\")\n",
    "plt.title('Correlation Matrix', fontsize= 30, pad=250)"
   ]
  },
  {
   "cell_type": "markdown",
   "metadata": {},
   "source": [
    "## Count of landlocked based on status"
   ]
  },
  {
   "cell_type": "markdown",
   "metadata": {},
   "source": [
    "We wanted to display the ratio of developing to developed countries in landlocked and non landlocked countries.\n",
    "In the following graph, orange represents the landlocked countries while blue represents countries with a coast. Additionally, the left bar represents developed countries while the right bar represents developing countries. As we can see in the figure below the percentage of already developed countries is smaller in landlocked countries than in not landlocked countries. This made us interested in searching for whether or not not landlocked countries have a better chance to be developed countries. Therefore, we started searching for the differences between landlocked countries and not landlocked countries. \n",
    "(Status: 0:developed, 1:developing)\n",
    "(Landlocked: orange:landlocked, blue:non-landlocked)"
   ]
  },
  {
   "cell_type": "code",
   "execution_count": 44,
   "metadata": {
    "scrolled": false
   },
   "outputs": [
    {
     "data": {
      "image/png": "[encoded data removed]",
      "text/plain": [
       "<Figure size 432x288 with 1 Axes>"
      ]
     },
     "metadata": {
      "needs_background": "light"
     },
     "output_type": "display_data"
    }
   ],
   "source": [
    "g = sns_plot = sns.histplot(data=Merged_Tidy_df, x=\"Status\",\n",
    "                            hue=\"Landlocked\", multiple=\"stack\")\n",
    "fig = sns_plot.get_figure()\n",
    "plt.title('landlocked based on status')\n",
    "plt.legend(title='Landlocked', loc='upper left',\n",
    "           labels=['Landlocked', 'Non-Landlocked'])\n",
    "plt.show(g)\n",
    "fig.savefig(\"count_of_landlocked_based_on_status\")"
   ]
  },
  {
   "cell_type": "markdown",
   "metadata": {},
   "source": [
    "## Alcohol consumption"
   ]
  },
  {
   "cell_type": "markdown",
   "metadata": {},
   "source": [
    "We first thought about alcohol consumption as countries with beaches are a more fertile ground for parties and tourists leading to more alcohol consumption. As we can see in the figures below alcohol consumption is higher in the not landlocked countries as in the not landlocked figure is getting denser as the alcohol consumption increases compared to landlocked countries. "
   ]
  },
  {
   "cell_type": "code",
   "execution_count": 45,
   "metadata": {},
   "outputs": [
    {
     "data": {
      "text/plain": [
       "Text(0.5, 0.98, 'Alcohol Consumption Density')"
      ]
     },
     "execution_count": 45,
     "metadata": {},
     "output_type": "execute_result"
    },
    {
     "data": {
      "image/png": "[encoded data removed]",
      "text/plain": [
       "<Figure size 432x288 with 2 Axes>"
      ]
     },
     "metadata": {
      "needs_background": "light"
     },
     "output_type": "display_data"
    }
   ],
   "source": [
    "fig_dims = (20, 5)\n",
    "fig, ax = plt.subplots(1, 2)\n",
    "landlocked_graph = sns.distplot(x=landlocked[\"Alcohol\"], ax=ax[0])\n",
    "not_landlocked_graph = sns.distplot(x=not_landlocked[\"Alcohol\"], ax=ax[1])\n",
    "fig.savefig(\"Insight on Alcohol\")\n",
    "landlocked_graph.set_title('Landlocked')\n",
    "not_landlocked_graph.set_title('Not Landlocked')\n",
    "fig.suptitle('Alcohol Consumption Density', fontsize=12)"
   ]
  },
  {
   "cell_type": "markdown",
   "metadata": {},
   "source": [
    "## Freedom"
   ]
  },
  {
   "cell_type": "markdown",
   "metadata": {},
   "source": [
    "Afterwards, we thought if alcohol consumption is higher in the not landlocked countries this may mean that they have more freedom. As alcohol in some is a freedom issue. So if the freedom of choice is high that helps in alcohol consumption. So we decided to see the freedom relationship with the landlocked column. As we can see the freedom in the not landlocked countries had a higher rating as it is negatively skewed compared to landlocked countries.  "
   ]
  },
  {
   "cell_type": "code",
   "execution_count": 46,
   "metadata": {
    "scrolled": true
   },
   "outputs": [
    {
     "data": {
      "text/plain": [
       "Text(0.5, 0.98, 'Freedom Density')"
      ]
     },
     "execution_count": 46,
     "metadata": {},
     "output_type": "execute_result"
    },
    {
     "data": {
      "image/png": "[encoded data removed]",
      "text/plain": [
       "<Figure size 432x288 with 2 Axes>"
      ]
     },
     "metadata": {
      "needs_background": "light"
     },
     "output_type": "display_data"
    }
   ],
   "source": [
    "fig_dims = (20, 5)\n",
    "fig, ax = plt.subplots(1, 2)\n",
    "landlocked_graph = sns.distplot(x=landlocked[\"Freedom\"], ax=ax[0])\n",
    "not_landlocked_graph = sns.distplot(x=not_landlocked[\"Freedom\"], ax=ax[1])\n",
    "fig.savefig(\"Insight on Freedom\")\n",
    "landlocked_graph.set_title('Landlocked')\n",
    "not_landlocked_graph.set_title('Not Landlocked')\n",
    "fig.suptitle('Freedom Density', fontsize=12)"
   ]
  },
  {
   "cell_type": "markdown",
   "metadata": {},
   "source": [
    "## Vaccination "
   ]
  },
  {
   "cell_type": "markdown",
   "metadata": {},
   "source": [
    "One of the issues of high freedom is that nowadays a lot of people do not vaccinate. As it is their right not to and they are free to do whatever they want. Therefore, we started studying the vaccination in landlocked and not landlocked countries. The following figures shows that there is not much difference between landlocked and not landlocked countries. However, the density of people that are not vaccinated in not landlocked countries are slightly higher (0.0 to 0.2). "
   ]
  },
  {
   "cell_type": "code",
   "execution_count": 47,
   "metadata": {},
   "outputs": [
    {
     "data": {
      "text/plain": [
       "Text(0.5, 0.98, 'Vaccination Density')"
      ]
     },
     "execution_count": 47,
     "metadata": {},
     "output_type": "execute_result"
    },
    {
     "data": {
      "image/png": "[encoded data removed]",
      "text/plain": [
       "<Figure size 432x288 with 2 Axes>"
      ]
     },
     "metadata": {
      "needs_background": "light"
     },
     "output_type": "display_data"
    }
   ],
   "source": [
    "fig_dims = (20, 5)\n",
    "fig, ax = plt.subplots(1, 2)\n",
    "landlocked_graph = sns.distplot(x=landlocked[\"Vaccination\"], ax=ax[0])\n",
    "not_landlocked_graph = sns.distplot(x=not_landlocked[\"Vaccination\"], ax=ax[1])\n",
    "landlocked_graph.set(xlim=(0, 1))\n",
    "landlocked_graph.set(ylim=(0, 2))\n",
    "not_landlocked_graph.set(xlim=(0, 1))\n",
    "not_landlocked_graph.set(ylim=(0, 2))\n",
    "fig.savefig(\"Insight on Vaccination\")\n",
    "landlocked_graph.set_title('Landlocked')\n",
    "not_landlocked_graph.set_title('Not Landlocked')\n",
    "fig.suptitle('Vaccination Density', fontsize=12)"
   ]
  },
  {
   "cell_type": "markdown",
   "metadata": {},
   "source": [
    "## GDP per Country"
   ]
  },
  {
   "cell_type": "markdown",
   "metadata": {},
   "source": [
    "As we thought about tourism, alcohol consumption, and parties. We also thought about how access to beaches can a affect a country's GDP. It has been found that the GDP of non-landlocked countries had higher densities while increasing in comparison to the landlocked country's GDP."
   ]
  },
  {
   "cell_type": "code",
   "execution_count": 48,
   "metadata": {},
   "outputs": [
    {
     "data": {
      "text/plain": [
       "Text(0.5, 0.98, 'GDP per Country Density')"
      ]
     },
     "execution_count": 48,
     "metadata": {},
     "output_type": "execute_result"
    },
    {
     "data": {
      "image/png": "[encoded data removed]",
      "text/plain": [
       "<Figure size 432x288 with 2 Axes>"
      ]
     },
     "metadata": {
      "needs_background": "light"
     },
     "output_type": "display_data"
    }
   ],
   "source": [
    "fig_dims = (20, 5)\n",
    "fig, ax = plt.subplots(1, 2)\n",
    "landlocked_graph = sns.distplot(x=landlocked[\"GDP_per_Country\"], ax=ax[0])\n",
    "not_landlocked_graph = sns.distplot(\n",
    "    x=not_landlocked[\"GDP_per_Country\"], ax=ax[1])\n",
    "landlocked_graph.set(xlim=(0, 0.3))\n",
    "landlocked_graph.set(ylim=(0, 80))\n",
    "not_landlocked_graph.set(xlim=(0, 0.3))\n",
    "not_landlocked_graph.set(ylim=(0, 80))\n",
    "fig.savefig(\"Insight on GDP per Country Density\")\n",
    "landlocked_graph.set_title('Landlocked')\n",
    "not_landlocked_graph.set_title('Not Landlocked')\n",
    "fig.suptitle('GDP per Country Density', fontsize=12)"
   ]
  },
  {
   "cell_type": "markdown",
   "metadata": {},
   "source": [
    "We also then calculated the mean GDP per country for landlocked countries and not landlocked countries. As we can see, on average, the GDP of not landlocked countries is way higher than that of landlocked countries."
   ]
  },
  {
   "cell_type": "code",
   "execution_count": 49,
   "metadata": {},
   "outputs": [
    {
     "data": {
      "text/plain": [
       "Text(0.5, 0.98, 'GDP per Country Means')"
      ]
     },
     "execution_count": 49,
     "metadata": {},
     "output_type": "execute_result"
    },
    {
     "data": {
      "image/png": "[encoded data removed]",
      "text/plain": [
       "<Figure size 432x288 with 1 Axes>"
      ]
     },
     "metadata": {
      "needs_background": "light"
     },
     "output_type": "display_data"
    }
   ],
   "source": [
    "fig_dims = (20, 5)\n",
    "data = [['LandLocked', landlocked['GDP_per_Country'].mean(\n",
    ")], ['Not_LandLocked', not_landlocked['GDP_per_Country'].mean()]]\n",
    "df_GDP_mean_country = pd.DataFrame(data, columns=['Category', 'Mean'])\n",
    "bp_tips = sns.barplot(x='Category', y='Mean',\n",
    "                      data=df_GDP_mean_country, estimator=np.median)\n",
    "bp_tips.set(xlabel=\"Status\", ylabel=\"GDP_per_Country\")\n",
    "fig = bp_tips.get_figure()\n",
    "fig.savefig(\"Insight on GDP per Country Mean\")\n",
    "df_GDP_mean_country\n",
    "landlocked_graph.set_title('Landlocked')\n",
    "not_landlocked_graph.set_title('Not Landlocked')\n",
    "fig.suptitle('GDP per Country Means', fontsize=12)"
   ]
  },
  {
   "cell_type": "markdown",
   "metadata": {},
   "source": [
    "## Health and Social Support "
   ]
  },
  {
   "cell_type": "markdown",
   "metadata": {},
   "source": [
    "There are 5 zones that exist in the world called the blue zones. These zones have the oldest living people in the world. The common things between the 5 blue zones are close family relationships, social relationships, healthy diet, physical activity and clear sense of purpose. It also happens that these blue zones have access to beaches. Close family relationships and social relationships are rated by the country people and represented by social support. While, a healthy diet and physical activity are represented by Health. So we wanted to see if there is a relationship between both of them. As we can see in the figures, as the social support increases the health increases in both landlocked and not landlocked countries. However, in not landlocked countries both health and social support have a better \"performance\" than landlocked countries. In addition, in not landlocked countries the gap between developing and developed countries is small compared to the gap in the landlocked countries. So maybe being a not landlocked country helps in developing good overall health and social support. "
   ]
  },
  {
   "cell_type": "code",
   "execution_count": 50,
   "metadata": {},
   "outputs": [
    {
     "data": {
      "image/png": "[encoded data removed]",
      "text/plain": [
       "<Figure size 360x360 with 1 Axes>"
      ]
     },
     "metadata": {
      "needs_background": "light"
     },
     "output_type": "display_data"
    }
   ],
   "source": [
    "fig_dims = (20, 5)\n",
    "SeabornBARCHART = sns.lmplot(\n",
    "    x=\"Social_Support\", y=\"Health\", hue=\"Status\", data=landlocked, legend_out=False)\n",
    "plt.title('Health and Social Support of Landlocked Countries', fontsize=12)\n",
    "plt.legend(title='Country Status', loc='upper left',\n",
    "           labels=['Developed', 'Developing'])\n",
    "SeabornBARCHART.savefig(\"Insight on Social_Support vs Health landlocked\")"
   ]
  },
  {
   "cell_type": "code",
   "execution_count": 51,
   "metadata": {
    "scrolled": false
   },
   "outputs": [
    {
     "data": {
      "text/plain": [
       "Text(0.5, 1, 'Health and Social Support of not Landlocked Countries')"
      ]
     },
     "execution_count": 51,
     "metadata": {},
     "output_type": "execute_result"
    },
    {
     "data": {
      "image/png": "[encoded data removed]",
      "text/plain": [
       "<Figure size 360x360 with 1 Axes>"
      ]
     },
     "metadata": {
      "needs_background": "light"
     },
     "output_type": "display_data"
    }
   ],
   "source": [
    "SeabornBARCHART = sns.lmplot(\n",
    "    x=\"Social_Support\", y=\"Health\", hue=\"Status\", data=not_landlocked, legend_out=False)\n",
    "plt.legend(title='Country Status', loc='upper left',\n",
    "           labels=['Developed', 'Developing'])\n",
    "SeabornBARCHART.savefig(\"Insight on Social_Support vs Health NOTlandlocked\")\n",
    "plt.title('Health and Social Support of not Landlocked Countries', fontsize=12)"
   ]
  },
  {
   "cell_type": "markdown",
   "metadata": {},
   "source": [
    "## Income Composition of Resources"
   ]
  },
  {
   "cell_type": "markdown",
   "metadata": {},
   "source": [
    "Health, alcohol, freedom and social support are factors that determine how good a country is performing and the well being of its citizens. However, there are many other factors. The Income Composition of Resources is based on human development. Therefore, we started to think what develops a healthy life for humans? And the first thing that came to mind was purpose; as it was on of the criteria for the blue zone areas. But how do we measure purpose? We simplified it a bit and proposed that having a job gives a sense of purpose. But, to be able to have a job a person will have to be educated and therefore literacy plays a part. Having a population that has a purpose and educated contributes to a good economy therefore, a good GDP. In addition, according to the blue zones having a purpose leads to higher life expectancy. This lead us to investigate the relationships between Income Composition of Resources and:\n",
    "<ol>\n",
    "  <li>Literacy Rate Percentage</li>\n",
    "  <li>Unemployment Percentage</li>\n",
    "  <li>GDP Rating</li>\n",
    "  <li>Life Expectancy</li>\n",
    "</ol>"
   ]
  },
  {
   "cell_type": "markdown",
   "metadata": {},
   "source": [
    "### Income Composition of Resources and Literacy"
   ]
  },
  {
   "cell_type": "markdown",
   "metadata": {},
   "source": [
    "As we can see from the figure below that as the literacy rate increases the Income Composition of Resources increases meaning a better human development. Furthermore, developed countries mostly have a higher Income Composition of Resources than developing countries."
   ]
  },
  {
   "cell_type": "code",
   "execution_count": 52,
   "metadata": {},
   "outputs": [
    {
     "data": {
      "text/plain": [
       "Text(0.5, 1, 'Income Composition of Resources and Literacy')"
      ]
     },
     "execution_count": 52,
     "metadata": {},
     "output_type": "execute_result"
    },
    {
     "data": {
      "image/png": "[encoded data removed]",
      "text/plain": [
       "<Figure size 360x360 with 1 Axes>"
      ]
     },
     "metadata": {
      "needs_background": "light"
     },
     "output_type": "display_data"
    }
   ],
   "source": [
    "fig_dims = (20, 5)\n",
    "SeabornBARCHART = sns.lmplot(x=\"Literacy_Rate_Percentage\",\n",
    "                             y=\"Income_Composition_of_Resources\", hue=\"Status\", data=Merged_Tidy_df, fit_reg=True, legend_out = False)\n",
    "\n",
    "plt.legend(title='Country Status', loc='upper left',\n",
    "           labels=['Developed', 'Developing'])\n",
    "SeabornBARCHART.savefig(\n",
    "    \"Insight on Literacy_Rate_Percentage vs Income_Composition_of_Resources\")\n",
    "plt.title('Income Composition of Resources and Literacy', fontsize=12)"
   ]
  },
  {
   "cell_type": "markdown",
   "metadata": {},
   "source": [
    "### Income Composition of Resources and Unemployment Rate"
   ]
  },
  {
   "cell_type": "markdown",
   "metadata": {},
   "source": [
    "As we can see from the figure below that as the unemployment rate increases the Income Composition of Resources decreases, which means worse human development. Furthermore, developed countries mostly have a higher Income Composition of Resources than developing countries. This shows that there is a relationship between having a job (which translates to a sense of purpose) and a better Income Composition of Resources."
   ]
  },
  {
   "cell_type": "code",
   "execution_count": 53,
   "metadata": {},
   "outputs": [
    {
     "data": {
      "text/plain": [
       "Text(0.5, 1, 'Income Composition of Resources and Literacy')"
      ]
     },
     "execution_count": 53,
     "metadata": {},
     "output_type": "execute_result"
    },
    {
     "data": {
      "image/png": "[encoded data removed]",
      "text/plain": [
       "<Figure size 360x360 with 1 Axes>"
      ]
     },
     "metadata": {
      "needs_background": "light"
     },
     "output_type": "display_data"
    }
   ],
   "source": [
    "fig_dims = (20, 5)\n",
    "SeabornBARCHART = sns.lmplot(x='Unemployment_Percentage', y=\"Income_Composition_of_Resources\",\n",
    "                             hue=\"Status\", data=Merged_Tidy_df, fit_reg=True, legend_out = False)\n",
    "plt.legend(title='Country Status', loc='lower left',\n",
    "           labels=['Developed', 'Developing'])\n",
    "SeabornBARCHART.savefig(\n",
    "    \"Insight on Unemployment_Percentage vs Income_Composition_of_Resources\")\n",
    "plt.title('Income Composition of Resources and Literacy', fontsize=12)"
   ]
  },
  {
   "cell_type": "markdown",
   "metadata": {},
   "source": [
    "### Income Composition of Resources and GDP"
   ]
  },
  {
   "cell_type": "markdown",
   "metadata": {},
   "source": [
    "As we can see from the figure, there is a strong positive correlation between the GDP Rating and the Income Composition of Resources, which translates to better human development. Furthermore, developed countries mostly have a higher Income Composition of Resources than developing countries. "
   ]
  },
  {
   "cell_type": "code",
   "execution_count": 54,
   "metadata": {},
   "outputs": [
    {
     "data": {
      "text/plain": [
       "Text(0.5, 1, 'Income Composition of Resources and GDP')"
      ]
     },
     "execution_count": 54,
     "metadata": {},
     "output_type": "execute_result"
    },
    {
     "data": {
      "image/png": "[encoded data removed]",
      "text/plain": [
       "<Figure size 360x360 with 1 Axes>"
      ]
     },
     "metadata": {
      "needs_background": "light"
     },
     "output_type": "display_data"
    }
   ],
   "source": [
    "fig_dims = (20, 5)\n",
    "SeabornBARCHART = sns.lmplot(x='GDP_Rating', y=\"Income_Composition_of_Resources\",\n",
    "                             hue=\"Status\", data=Merged_Tidy_df, fit_reg=True, legend_out = False)\n",
    "plt.legend(title='Country Status', loc='upper left',\n",
    "           labels=['Developed', 'Developing'])\n",
    "SeabornBARCHART.savefig(\n",
    "    \"Insight on GDP_Rating vs Income_Composition_of_Resources\")\n",
    "plt.title('Income Composition of Resources and GDP', fontsize=12)"
   ]
  },
  {
   "cell_type": "markdown",
   "metadata": {},
   "source": [
    "### Income Composition of Resources and Life Expectancy"
   ]
  },
  {
   "cell_type": "markdown",
   "metadata": {},
   "source": [
    "As we can see from the figure below that as the Income Composition of Resources increases the life expectancy increases meaning a better human development. This shows that Income Composition of Resources might be a factor in contributing to a higher life expectancy."
   ]
  },
  {
   "cell_type": "code",
   "execution_count": 55,
   "metadata": {},
   "outputs": [
    {
     "data": {
      "text/plain": [
       "Text(0.5, 1, 'Income Composition of Resources and Life Expectancy')"
      ]
     },
     "execution_count": 55,
     "metadata": {},
     "output_type": "execute_result"
    },
    {
     "data": {
      "image/png": "[encoded data removed]",
      "text/plain": [
       "<Figure size 360x360 with 1 Axes>"
      ]
     },
     "metadata": {
      "needs_background": "light"
     },
     "output_type": "display_data"
    }
   ],
   "source": [
    "fig_dims = (20, 5)\n",
    "SeabornBARCHART = sns.lmplot(x='Income_Composition_of_Resources',\n",
    "                             y=\"Life_Expectancy\", hue=\"Status\", data=Merged_Tidy_df, fit_reg=True, legend_out = False)\n",
    "\n",
    "plt.legend(title='Country Status', loc='upper left',\n",
    "           labels=['Developed', 'Developing'])\n",
    "\n",
    "SeabornBARCHART.savefig(\n",
    "    \"Insight on Life_Expectancy vs Income_Composition_of_Resources\")\n",
    "plt.title('Income Composition of Resources and Life Expectancy', fontsize=12)"
   ]
  },
  {
   "cell_type": "markdown",
   "metadata": {},
   "source": [
    "### Income Composition of Resources and landlocked"
   ]
  },
  {
   "cell_type": "markdown",
   "metadata": {},
   "source": [
    "How Income Composition of Resources contributes to having a better country and a better life for its citizens shows how important it is. Therefore, we wanted to see if being a landlocked country or a not landlocked country contributes to a better or worse Income Composition of Resources.\n",
    "\n",
    "Therefore, we calculated the mean value of the Income Composition of Resources for landlocked countries and not landlocked countries. As we can see not landlocked countries have a way better mean than landlocked countries. Meaning that having access to a beach might help in a better Income Composition of Resources and therefore, a better employment rate, literacy rate, GDP and life expectancy."
   ]
  },
  {
   "cell_type": "code",
   "execution_count": 56,
   "metadata": {
    "scrolled": false
   },
   "outputs": [
    {
     "data": {
      "text/html": [
       "<div>\n",
       "<style scoped>\n",
       "    .dataframe tbody tr th:only-of-type {\n",
       "        vertical-align: middle;\n",
       "    }\n",
       "\n",
       "    .dataframe tbody tr th {\n",
       "        vertical-align: top;\n",
       "    }\n",
       "\n",
       "    .dataframe thead th {\n",
       "        text-align: right;\n",
       "    }\n",
       "</style>\n",
       "<table border=\"1\" class=\"dataframe\">\n",
       "  <thead>\n",
       "    <tr style=\"text-align: right;\">\n",
       "      <th></th>\n",
       "      <th>Category</th>\n",
       "      <th>Mean</th>\n",
       "    </tr>\n",
       "  </thead>\n",
       "  <tbody>\n",
       "    <tr>\n",
       "      <th>0</th>\n",
       "      <td>LandLocked</td>\n",
       "      <td>0.496929</td>\n",
       "    </tr>\n",
       "    <tr>\n",
       "      <th>1</th>\n",
       "      <td>Not_LandLocked</td>\n",
       "      <td>0.680486</td>\n",
       "    </tr>\n",
       "  </tbody>\n",
       "</table>\n",
       "</div>"
      ],
      "text/plain": [
       "         Category      Mean\n",
       "0      LandLocked  0.496929\n",
       "1  Not_LandLocked  0.680486"
      ]
     },
     "execution_count": 56,
     "metadata": {},
     "output_type": "execute_result"
    },
    {
     "data": {
      "image/png": "[encoded data removed]",
      "text/plain": [
       "<Figure size 432x288 with 1 Axes>"
      ]
     },
     "metadata": {
      "needs_background": "light"
     },
     "output_type": "display_data"
    }
   ],
   "source": [
    "fig_dims = (20, 5)\n",
    "data = [['LandLocked', landlocked['Income_Composition_of_Resources'].mean(\n",
    ")], ['Not_LandLocked', not_landlocked['Income_Composition_of_Resources'].mean()]]\n",
    "Income_Composition_Of_Resources = pd.DataFrame(\n",
    "    data, columns=['Category', 'Mean'])\n",
    "bp_tips = sns.barplot(x='Category', y='Mean',\n",
    "                      data=Income_Composition_Of_Resources, estimator=np.median)\n",
    "bp_tips.set(xlabel=\"Status\", ylabel=\"Income_Composition_of_Resources\")\n",
    "plt.title('Income Composition of Resources Mean', fontsize=12)\n",
    "fig = bp_tips.get_figure()\n",
    "fig.savefig(\"Insight on Income_Composition_of_Resources Mean.png\")\n",
    "Income_Composition_Of_Resources"
   ]
  },
  {
   "cell_type": "markdown",
   "metadata": {},
   "source": [
    "### Income Composition of Resources and happiness score"
   ]
  },
  {
   "cell_type": "markdown",
   "metadata": {},
   "source": [
    "However, does Income Composition of Resources make citizens happier? The blue zone areas shows that all of this leads to a longer life but does it lead to a happy one? Therefore, we investigated the relationship between Income Composition of Resources and happiness score.\n",
    "\n",
    "As we can see in the figure below, as the Income Composition of Resources increases the happiness score increases. This means that a country with a good Income Composition of Resources has happy citizens living happy lives."
   ]
  },
  {
   "cell_type": "code",
   "execution_count": 57,
   "metadata": {
    "scrolled": false
   },
   "outputs": [
    {
     "data": {
      "text/plain": [
       "Text(0.5, 1, 'Income Composition of Resources and happiness score')"
      ]
     },
     "execution_count": 57,
     "metadata": {},
     "output_type": "execute_result"
    },
    {
     "data": {
      "image/png": "[encoded data removed]",
      "text/plain": [
       "<Figure size 360x360 with 1 Axes>"
      ]
     },
     "metadata": {
      "needs_background": "light"
     },
     "output_type": "display_data"
    }
   ],
   "source": [
    "SeabornBARCHART = sns.lmplot(\n",
    "    x=\"Income_Composition_of_Resources\", y=\"Happiness_Score\", data=Merged_Tidy_df)\n",
    "SeabornBARCHART.savefig(\n",
    "    \"Insight on Happiness_Score vs Income_Composition_of_Resources\")\n",
    "plt.title('Income Composition of Resources and happiness score', fontsize=12)"
   ]
  },
  {
   "cell_type": "markdown",
   "metadata": {},
   "source": [
    "## Happiness score and landlock"
   ]
  },
  {
   "cell_type": "markdown",
   "metadata": {},
   "source": [
    "Until now we saw how having good health, social support, purpose and a long life expectancy leads to a happier life. So how does happiness score compare between landlocked and not landlocked countries?\n",
    "\n",
    "As we can see in the figure below not landlocked countries have a denser high happiness scores than landlocked countries. "
   ]
  },
  {
   "cell_type": "code",
   "execution_count": 58,
   "metadata": {},
   "outputs": [
    {
     "data": {
      "text/plain": [
       "Text(0.5, 0.98, 'Happiness score and landlock')"
      ]
     },
     "execution_count": 58,
     "metadata": {},
     "output_type": "execute_result"
    },
    {
     "data": {
      "image/png": "[encoded data removed]",
      "text/plain": [
       "<Figure size 432x288 with 2 Axes>"
      ]
     },
     "metadata": {
      "needs_background": "light"
     },
     "output_type": "display_data"
    }
   ],
   "source": [
    "fig_dims = (20, 5)\n",
    "fig, ax = plt.subplots(1, 2)\n",
    "landlocked_graph = sns.distplot(x=landlocked[\"Happiness_Score\"], ax=ax[0])\n",
    "not_landlocked_graph = sns.distplot(\n",
    "    x=not_landlocked[\"Happiness_Score\"], ax=ax[1])\n",
    "fig.savefig(\"Insight on Happiness_Score\")\n",
    "landlocked_graph.set(ylim=(0, 2))\n",
    "not_landlocked_graph.set(ylim=(0, 2))\n",
    "landlocked_graph.set_title('Landlocked')\n",
    "not_landlocked_graph.set_title('Not Landlocked')\n",
    "fig.suptitle('Happiness score and landlock', fontsize=12)"
   ]
  },
  {
   "cell_type": "markdown",
   "metadata": {},
   "source": [
    "## Status and Landlocked"
   ]
  },
  {
   "cell_type": "markdown",
   "metadata": {},
   "source": [
    "However, one might argue that being a landlocked country or a not landlocked country does not matter and what matters is being a developed and developing. But, our question here was if being  landlocked country or not helps a country to be developed. As we can see in the first figure below if you only filter by status you do not get a relationship between the countries and their happiness scores. However, if you classify them by status and landlocked, as in the next two figures, you can see a pattern. In landlocked countries 84.2% of them are still developing  but in not landlocked countries 77.8% are still developing. The percentage gap is small but, not landlocked developing countries have a smaller gap between them and developed countries. While, landlocked developing countries have a higher gap between them and developed countries. "
   ]
  },
  {
   "cell_type": "code",
   "execution_count": 59,
   "metadata": {},
   "outputs": [
    {
     "data": {
      "text/plain": [
       "Text(0.5, 1, 'Status Classification')"
      ]
     },
     "execution_count": 59,
     "metadata": {},
     "output_type": "execute_result"
    },
    {
     "data": {
      "image/png": "[encoded data removed]",
      "text/plain": [
       "<Figure size 1440x360 with 1 Axes>"
      ]
     },
     "metadata": {
      "needs_background": "light"
     },
     "output_type": "display_data"
    }
   ],
   "source": [
    "fig_dims = (20, 5)\n",
    "fig, ax = plt.subplots(figsize=fig_dims)\n",
    "g = sns.barplot(x=\"Country/Region\", y=\"Happiness_Score\",\n",
    "                data=Merged_Tidy_df, hue='Status')\n",
    "\n",
    "plt.legend(title='Country Status', loc='upper left',\n",
    "           labels=['Developed', 'Developing'])\n",
    "leg = ax.get_legend()\n",
    "leg.legendHandles[0].set_color('navy')\n",
    "leg.legendHandles[1].set_color('orange')\n",
    "g.set_xticklabels(\n",
    "    Merged_Tidy_df['Country/Region'].values, rotation=90, fontdict={'size': 8})\n",
    "fig.savefig(\"Happiness_Score across all Countries on all data\")\n",
    "g.set_title('Status Classification')"
   ]
  },
  {
   "cell_type": "code",
   "execution_count": 60,
   "metadata": {
    "scrolled": false
   },
   "outputs": [
    {
     "data": {
      "text/plain": [
       "Text(0.5, 1, 'Status and landlocked Classification')"
      ]
     },
     "execution_count": 60,
     "metadata": {},
     "output_type": "execute_result"
    },
    {
     "data": {
      "image/png": "[encoded data removed]",
      "text/plain": [
       "<Figure size 1440x360 with 1 Axes>"
      ]
     },
     "metadata": {
      "needs_background": "light"
     },
     "output_type": "display_data"
    }
   ],
   "source": [
    "fig_dims = (20, 5)\n",
    "fig, ax = plt.subplots(figsize=fig_dims)\n",
    "g = sns.barplot(x=\"Country/Region\", y=\"Happiness_Score\",\n",
    "                data=landlocked, hue='Status')\n",
    "plt.legend(title='Country Status', loc='upper left',\n",
    "           labels=['Developed', 'Developing'])\n",
    "leg = ax.get_legend()\n",
    "leg.legendHandles[0].set_color('navy')\n",
    "leg.legendHandles[1].set_color('orange')\n",
    "g.set_xticklabels(\n",
    "    Merged_Tidy_df['Country/Region'].values, rotation=90, fontdict={'size': 8})\n",
    "fig.savefig(\"Happiness_Score across all Countries on Landlocked\")\n",
    "g.set_title('Status and landlocked Classification')"
   ]
  },
  {
   "cell_type": "code",
   "execution_count": 61,
   "metadata": {},
   "outputs": [
    {
     "data": {
      "text/plain": [
       "Text(0.5, 1, 'Status and not landlocked Classification')"
      ]
     },
     "execution_count": 61,
     "metadata": {},
     "output_type": "execute_result"
    },
    {
     "data": {
      "image/png": "[encoded data removed]",
      "text/plain": [
       "<Figure size 1440x360 with 1 Axes>"
      ]
     },
     "metadata": {
      "needs_background": "light"
     },
     "output_type": "display_data"
    }
   ],
   "source": [
    "fig_dims = (20, 5)\n",
    "fig, ax = plt.subplots(figsize=fig_dims)\n",
    "g = sns.barplot(x=\"Country/Region\", y=\"Happiness_Score\",\n",
    "                data=not_landlocked, hue='Status')\n",
    "plt.legend(title='Country Status', loc='upper left',\n",
    "           labels=['Developed', 'Developing'])\n",
    "leg = ax.get_legend()\n",
    "leg.legendHandles[0].set_color('navy')\n",
    "leg.legendHandles[1].set_color('orange')\n",
    "g.set_xticklabels(\n",
    "    Merged_Tidy_df['Country/Region'].values, rotation=90, fontdict={'size': 8})\n",
    "fig.savefig(\"Happiness_Score across all Countries on NOTLandlocked\")\n",
    "g.set_title('Status and not landlocked Classification')"
   ]
  },
  {
   "cell_type": "markdown",
   "metadata": {},
   "source": [
    "# Conclusion"
   ]
  },
  {
   "cell_type": "markdown",
   "metadata": {},
   "source": [
    "The percentage of developing countries in landlocked countries are higher compared to the percentage of developing countries in not landlocked countries. Furthermore, not landlocked countries had better freedom, Health, Social support and Income Composition of Resources. Leading to a better happiness score. However, the one downside in not landlocked countries compared to landlocked countries was that due to their higher freedom more people in not landlocked countries do not get vaccinated. All in all, being a not landlocked country might be beneficial to the country and help the country to improve and to have happier long living citizens."
   ]
  }
 ],
 "metadata": {
  "kernelspec": {
   "display_name": "Python 3",
   "language": "python",
   "name": "python3"
  },
  "language_info": {
   "codemirror_mode": {
    "name": "ipython",
    "version": 3
   },
   "file_extension": ".py",
   "mimetype": "text/x-python",
   "name": "python",
   "nbconvert_exporter": "python",
   "pygments_lexer": "ipython3",
   "version": "3.7.6"
  },
  "toc": {
   "base_numbering": 1,
   "nav_menu": {},
   "number_sections": true,
   "sideBar": true,
   "skip_h1_title": false,
   "title_cell": "Table of Contents",
   "title_sidebar": "Contents",
   "toc_cell": false,
   "toc_position": {
    "height": "calc(100% - 180px)",
    "left": "10px",
    "top": "150px",
    "width": "307.2px"
   },
   "toc_section_display": true,
   "toc_window_display": true
  }
 },
 "nbformat": 4,
 "nbformat_minor": 4
}
